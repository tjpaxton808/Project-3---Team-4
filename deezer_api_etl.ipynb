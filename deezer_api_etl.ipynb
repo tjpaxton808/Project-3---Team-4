{
 "cells": [
  {
   "cell_type": "code",
   "execution_count": 3,
   "metadata": {},
   "outputs": [],
   "source": [
    "import requests\n",
    "import pandas as pd\n",
    "from rich.console import Console"
   ]
  },
  {
   "cell_type": "code",
   "execution_count": 4,
   "metadata": {},
   "outputs": [],
   "source": [
    "console = Console()"
   ]
  },
  {
   "cell_type": "code",
   "execution_count": 5,
   "metadata": {},
   "outputs": [],
   "source": [
    "BASE_URL = \"https://api.deezer.com\"\n",
    "\n",
    "def fetch_data(endpoint, params=None):\n",
    "    try:\n",
    "        response = requests.get(f\"{BASE_URL}{endpoint}\", params=params)\n",
    "        response.raise_for_status()\n",
    "        console.print(f\"Successfully fetched data for [bold]{endpoint}[/bold]\", style=\"green\")\n",
    "        return response.json()\n",
    "    except requests.exceptions.RequestException as e:\n",
    "        console.print(f\"[bold red]Error fetching data:[/bold red] {e}\", style=\"red\")\n",
    "        return None"
   ]
  },
  {
   "cell_type": "code",
   "execution_count": 6,
   "metadata": {},
   "outputs": [],
   "source": [
    "def fetch_artists(artist_names):\n",
    "    artists = []\n",
    "    for name in artist_names:\n",
    "        console.print(f\"Fetching basic data for artist: [bold magenta]{name}[/bold magenta]...\", style=\"cyan\")\n",
    "        data = fetch_data(f\"/search/artist\", params={\"q\": name})\n",
    "        if data and \"data\" in data and len(data[\"data\"]) > 0:\n",
    "            artist = data[\"data\"][0]  # Get the first search result\n",
    "            artists.append({\n",
    "                \"artist_id\": artist[\"id\"],\n",
    "                \"name\": artist[\"name\"],\n",
    "                \"nb_fan\": artist.get(\"nb_fan\", 0),\n",
    "                \"link\": artist.get(\"link\", \"N/A\")\n",
    "            })\n",
    "    return artists"
   ]
  },
  {
   "cell_type": "code",
   "execution_count": 7,
   "metadata": {},
   "outputs": [],
   "source": [
    "def fetch_artist_details(artist_ids):\n",
    "    detailed_artists = []\n",
    "    for artist_id in artist_ids:\n",
    "        console.print(f\"Fetching detailed data for artist ID: [bold]{artist_id}[/bold]...\", style=\"cyan\")\n",
    "        data = fetch_data(f\"/artist/{artist_id}\")\n",
    "        if data:\n",
    "            detailed_artists.append({\n",
    "                \"artist_id\": data[\"id\"],\n",
    "                \"name\": data[\"name\"],\n",
    "                \"nb_fan\": data.get(\"nb_fan\", 0),\n",
    "                \"nb_album\": data.get(\"nb_album\", 0),\n",
    "                \"radio\": data.get(\"radio\", False),\n",
    "                \"link\": data.get(\"link\", \"N/A\")\n",
    "            })\n",
    "    return detailed_artists"
   ]
  },
  {
   "cell_type": "code",
   "execution_count": 8,
   "metadata": {},
   "outputs": [],
   "source": [
    "artist_names = [\n",
    "    \"Kip Moore\",\n",
    "    \"Breaking Benjamin\",\n",
    "    \"Dermot Kennedy\",\n",
    "    \"Bad Omens\",\n",
    "    \"Sultan + Shepard\",\n",
    "    \"Taylor Swift\",\n",
    "    \"Shawn Mendes\",\n",
    "    \"Katy Perry\",\n",
    "    \"Meghan Trainor\",\n",
    "    \"Ariana Grande\",\n",
    "    \"I Prevail\",\n",
    "    \"Our Last Night\",\n",
    "    \"Chappell Roan\",\n",
    "    \"girl in red\",\n",
    "    \"Maisie Peters\",\n",
    "    \"Central Cee\",\n",
    "    \"Drake\",\n",
    "    \"Vince Staples\",\n",
    "    \"Lil Yachty\",\n",
    "    \"Lil Tecca\",\n",
    "    \"Ed Sheeran\",\n",
    "    \"Billie Eilish\",\n",
    "    \"Post Malone\",\n",
    "    \"Dua Lipa\",\n",
    "    \"The Weeknd\",\n",
    "    \"Imagine Dragons\",\n",
    "    \"Adele\",\n",
    "    \"Bruno Mars\",\n",
    "    \"BTS\",\n",
    "    \"Maroon 5\",\n",
    "    \"Justin Bieber\",\n",
    "    \"Cardi B\",\n",
    "    \"Travis Scott\",\n",
    "    \"Halsey\",\n",
    "    \"Khalid\",\n",
    "    \"Sam Smith\",\n",
    "    \"Lizzo\",\n",
    "    \"Harry Styles\",\n",
    "    \"J Balvin\",\n",
    "    \"Bad Bunny\",\n",
    "    \"Doja Cat\",\n",
    "    \"Olivia Rodrigo\",\n",
    "    \"SZA\",\n",
    "    \"Lil Nas X\",\n",
    "    \"Megan Thee Stallion\",\n",
    "    \"BLACKPINK\",\n",
    "    \"Camila Cabello\",\n",
    "    \"Jonas Brothers\",\n",
    "    \"Nicki Minaj\"\n",
    "]"
   ]
  },
  {
   "cell_type": "code",
   "execution_count": 9,
   "metadata": {},
   "outputs": [
    {
     "data": {
      "text/html": [
       "<pre style=\"white-space:pre;overflow-x:auto;line-height:normal;font-family:Menlo,'DejaVu Sans Mono',consolas,'Courier New',monospace\"><span style=\"color: #008080; text-decoration-color: #008080\">Fetching basic data for artist: </span><span style=\"color: #800080; text-decoration-color: #800080; font-weight: bold\">Kip Moore</span><span style=\"color: #808000; text-decoration-color: #808000\">...</span>\n",
       "</pre>\n"
      ],
      "text/plain": [
       "\u001b[36mFetching basic data for artist: \u001b[0m\u001b[1;35mKip Moore\u001b[0m\u001b[33m...\u001b[0m\n"
      ]
     },
     "metadata": {},
     "output_type": "display_data"
    },
    {
     "data": {
      "text/html": [
       "<pre style=\"white-space:pre;overflow-x:auto;line-height:normal;font-family:Menlo,'DejaVu Sans Mono',consolas,'Courier New',monospace\"><span style=\"color: #008000; text-decoration-color: #008000\">Successfully fetched data for </span><span style=\"color: #800080; text-decoration-color: #800080; font-weight: bold\">/search/</span><span style=\"color: #ff00ff; text-decoration-color: #ff00ff; font-weight: bold\">artist</span>\n",
       "</pre>\n"
      ],
      "text/plain": [
       "\u001b[32mSuccessfully fetched data for \u001b[0m\u001b[1;35m/search/\u001b[0m\u001b[1;95martist\u001b[0m\n"
      ]
     },
     "metadata": {},
     "output_type": "display_data"
    },
    {
     "data": {
      "text/html": [
       "<pre style=\"white-space:pre;overflow-x:auto;line-height:normal;font-family:Menlo,'DejaVu Sans Mono',consolas,'Courier New',monospace\"><span style=\"color: #008080; text-decoration-color: #008080\">Fetching basic data for artist: </span><span style=\"color: #800080; text-decoration-color: #800080; font-weight: bold\">Breaking Benjamin</span><span style=\"color: #808000; text-decoration-color: #808000\">...</span>\n",
       "</pre>\n"
      ],
      "text/plain": [
       "\u001b[36mFetching basic data for artist: \u001b[0m\u001b[1;35mBreaking Benjamin\u001b[0m\u001b[33m...\u001b[0m\n"
      ]
     },
     "metadata": {},
     "output_type": "display_data"
    },
    {
     "data": {
      "text/html": [
       "<pre style=\"white-space:pre;overflow-x:auto;line-height:normal;font-family:Menlo,'DejaVu Sans Mono',consolas,'Courier New',monospace\"><span style=\"color: #008000; text-decoration-color: #008000\">Successfully fetched data for </span><span style=\"color: #800080; text-decoration-color: #800080; font-weight: bold\">/search/</span><span style=\"color: #ff00ff; text-decoration-color: #ff00ff; font-weight: bold\">artist</span>\n",
       "</pre>\n"
      ],
      "text/plain": [
       "\u001b[32mSuccessfully fetched data for \u001b[0m\u001b[1;35m/search/\u001b[0m\u001b[1;95martist\u001b[0m\n"
      ]
     },
     "metadata": {},
     "output_type": "display_data"
    },
    {
     "data": {
      "text/html": [
       "<pre style=\"white-space:pre;overflow-x:auto;line-height:normal;font-family:Menlo,'DejaVu Sans Mono',consolas,'Courier New',monospace\"><span style=\"color: #008080; text-decoration-color: #008080\">Fetching basic data for artist: </span><span style=\"color: #800080; text-decoration-color: #800080; font-weight: bold\">Dermot Kennedy</span><span style=\"color: #808000; text-decoration-color: #808000\">...</span>\n",
       "</pre>\n"
      ],
      "text/plain": [
       "\u001b[36mFetching basic data for artist: \u001b[0m\u001b[1;35mDermot Kennedy\u001b[0m\u001b[33m...\u001b[0m\n"
      ]
     },
     "metadata": {},
     "output_type": "display_data"
    },
    {
     "data": {
      "text/html": [
       "<pre style=\"white-space:pre;overflow-x:auto;line-height:normal;font-family:Menlo,'DejaVu Sans Mono',consolas,'Courier New',monospace\"><span style=\"color: #008000; text-decoration-color: #008000\">Successfully fetched data for </span><span style=\"color: #800080; text-decoration-color: #800080; font-weight: bold\">/search/</span><span style=\"color: #ff00ff; text-decoration-color: #ff00ff; font-weight: bold\">artist</span>\n",
       "</pre>\n"
      ],
      "text/plain": [
       "\u001b[32mSuccessfully fetched data for \u001b[0m\u001b[1;35m/search/\u001b[0m\u001b[1;95martist\u001b[0m\n"
      ]
     },
     "metadata": {},
     "output_type": "display_data"
    },
    {
     "data": {
      "text/html": [
       "<pre style=\"white-space:pre;overflow-x:auto;line-height:normal;font-family:Menlo,'DejaVu Sans Mono',consolas,'Courier New',monospace\"><span style=\"color: #008080; text-decoration-color: #008080\">Fetching basic data for artist: </span><span style=\"color: #800080; text-decoration-color: #800080; font-weight: bold\">Bad Omens</span><span style=\"color: #808000; text-decoration-color: #808000\">...</span>\n",
       "</pre>\n"
      ],
      "text/plain": [
       "\u001b[36mFetching basic data for artist: \u001b[0m\u001b[1;35mBad Omens\u001b[0m\u001b[33m...\u001b[0m\n"
      ]
     },
     "metadata": {},
     "output_type": "display_data"
    },
    {
     "data": {
      "text/html": [
       "<pre style=\"white-space:pre;overflow-x:auto;line-height:normal;font-family:Menlo,'DejaVu Sans Mono',consolas,'Courier New',monospace\"><span style=\"color: #008000; text-decoration-color: #008000\">Successfully fetched data for </span><span style=\"color: #800080; text-decoration-color: #800080; font-weight: bold\">/search/</span><span style=\"color: #ff00ff; text-decoration-color: #ff00ff; font-weight: bold\">artist</span>\n",
       "</pre>\n"
      ],
      "text/plain": [
       "\u001b[32mSuccessfully fetched data for \u001b[0m\u001b[1;35m/search/\u001b[0m\u001b[1;95martist\u001b[0m\n"
      ]
     },
     "metadata": {},
     "output_type": "display_data"
    },
    {
     "data": {
      "text/html": [
       "<pre style=\"white-space:pre;overflow-x:auto;line-height:normal;font-family:Menlo,'DejaVu Sans Mono',consolas,'Courier New',monospace\"><span style=\"color: #008080; text-decoration-color: #008080\">Fetching basic data for artist: </span><span style=\"color: #800080; text-decoration-color: #800080; font-weight: bold\">Sultan + Shepard</span><span style=\"color: #808000; text-decoration-color: #808000\">...</span>\n",
       "</pre>\n"
      ],
      "text/plain": [
       "\u001b[36mFetching basic data for artist: \u001b[0m\u001b[1;35mSultan + Shepard\u001b[0m\u001b[33m...\u001b[0m\n"
      ]
     },
     "metadata": {},
     "output_type": "display_data"
    },
    {
     "data": {
      "text/html": [
       "<pre style=\"white-space:pre;overflow-x:auto;line-height:normal;font-family:Menlo,'DejaVu Sans Mono',consolas,'Courier New',monospace\"><span style=\"color: #008000; text-decoration-color: #008000\">Successfully fetched data for </span><span style=\"color: #800080; text-decoration-color: #800080; font-weight: bold\">/search/</span><span style=\"color: #ff00ff; text-decoration-color: #ff00ff; font-weight: bold\">artist</span>\n",
       "</pre>\n"
      ],
      "text/plain": [
       "\u001b[32mSuccessfully fetched data for \u001b[0m\u001b[1;35m/search/\u001b[0m\u001b[1;95martist\u001b[0m\n"
      ]
     },
     "metadata": {},
     "output_type": "display_data"
    },
    {
     "data": {
      "text/html": [
       "<pre style=\"white-space:pre;overflow-x:auto;line-height:normal;font-family:Menlo,'DejaVu Sans Mono',consolas,'Courier New',monospace\"><span style=\"color: #008080; text-decoration-color: #008080\">Fetching basic data for artist: </span><span style=\"color: #800080; text-decoration-color: #800080; font-weight: bold\">Taylor Swift</span><span style=\"color: #808000; text-decoration-color: #808000\">...</span>\n",
       "</pre>\n"
      ],
      "text/plain": [
       "\u001b[36mFetching basic data for artist: \u001b[0m\u001b[1;35mTaylor Swift\u001b[0m\u001b[33m...\u001b[0m\n"
      ]
     },
     "metadata": {},
     "output_type": "display_data"
    },
    {
     "data": {
      "text/html": [
       "<pre style=\"white-space:pre;overflow-x:auto;line-height:normal;font-family:Menlo,'DejaVu Sans Mono',consolas,'Courier New',monospace\"><span style=\"color: #008000; text-decoration-color: #008000\">Successfully fetched data for </span><span style=\"color: #800080; text-decoration-color: #800080; font-weight: bold\">/search/</span><span style=\"color: #ff00ff; text-decoration-color: #ff00ff; font-weight: bold\">artist</span>\n",
       "</pre>\n"
      ],
      "text/plain": [
       "\u001b[32mSuccessfully fetched data for \u001b[0m\u001b[1;35m/search/\u001b[0m\u001b[1;95martist\u001b[0m\n"
      ]
     },
     "metadata": {},
     "output_type": "display_data"
    },
    {
     "data": {
      "text/html": [
       "<pre style=\"white-space:pre;overflow-x:auto;line-height:normal;font-family:Menlo,'DejaVu Sans Mono',consolas,'Courier New',monospace\"><span style=\"color: #008080; text-decoration-color: #008080\">Fetching basic data for artist: </span><span style=\"color: #800080; text-decoration-color: #800080; font-weight: bold\">Shawn Mendes</span><span style=\"color: #808000; text-decoration-color: #808000\">...</span>\n",
       "</pre>\n"
      ],
      "text/plain": [
       "\u001b[36mFetching basic data for artist: \u001b[0m\u001b[1;35mShawn Mendes\u001b[0m\u001b[33m...\u001b[0m\n"
      ]
     },
     "metadata": {},
     "output_type": "display_data"
    },
    {
     "data": {
      "text/html": [
       "<pre style=\"white-space:pre;overflow-x:auto;line-height:normal;font-family:Menlo,'DejaVu Sans Mono',consolas,'Courier New',monospace\"><span style=\"color: #008000; text-decoration-color: #008000\">Successfully fetched data for </span><span style=\"color: #800080; text-decoration-color: #800080; font-weight: bold\">/search/</span><span style=\"color: #ff00ff; text-decoration-color: #ff00ff; font-weight: bold\">artist</span>\n",
       "</pre>\n"
      ],
      "text/plain": [
       "\u001b[32mSuccessfully fetched data for \u001b[0m\u001b[1;35m/search/\u001b[0m\u001b[1;95martist\u001b[0m\n"
      ]
     },
     "metadata": {},
     "output_type": "display_data"
    },
    {
     "data": {
      "text/html": [
       "<pre style=\"white-space:pre;overflow-x:auto;line-height:normal;font-family:Menlo,'DejaVu Sans Mono',consolas,'Courier New',monospace\"><span style=\"color: #008080; text-decoration-color: #008080\">Fetching basic data for artist: </span><span style=\"color: #800080; text-decoration-color: #800080; font-weight: bold\">Katy Perry</span><span style=\"color: #808000; text-decoration-color: #808000\">...</span>\n",
       "</pre>\n"
      ],
      "text/plain": [
       "\u001b[36mFetching basic data for artist: \u001b[0m\u001b[1;35mKaty Perry\u001b[0m\u001b[33m...\u001b[0m\n"
      ]
     },
     "metadata": {},
     "output_type": "display_data"
    },
    {
     "data": {
      "text/html": [
       "<pre style=\"white-space:pre;overflow-x:auto;line-height:normal;font-family:Menlo,'DejaVu Sans Mono',consolas,'Courier New',monospace\"><span style=\"color: #008000; text-decoration-color: #008000\">Successfully fetched data for </span><span style=\"color: #800080; text-decoration-color: #800080; font-weight: bold\">/search/</span><span style=\"color: #ff00ff; text-decoration-color: #ff00ff; font-weight: bold\">artist</span>\n",
       "</pre>\n"
      ],
      "text/plain": [
       "\u001b[32mSuccessfully fetched data for \u001b[0m\u001b[1;35m/search/\u001b[0m\u001b[1;95martist\u001b[0m\n"
      ]
     },
     "metadata": {},
     "output_type": "display_data"
    },
    {
     "data": {
      "text/html": [
       "<pre style=\"white-space:pre;overflow-x:auto;line-height:normal;font-family:Menlo,'DejaVu Sans Mono',consolas,'Courier New',monospace\"><span style=\"color: #008080; text-decoration-color: #008080\">Fetching basic data for artist: </span><span style=\"color: #800080; text-decoration-color: #800080; font-weight: bold\">Meghan Trainor</span><span style=\"color: #808000; text-decoration-color: #808000\">...</span>\n",
       "</pre>\n"
      ],
      "text/plain": [
       "\u001b[36mFetching basic data for artist: \u001b[0m\u001b[1;35mMeghan Trainor\u001b[0m\u001b[33m...\u001b[0m\n"
      ]
     },
     "metadata": {},
     "output_type": "display_data"
    },
    {
     "data": {
      "text/html": [
       "<pre style=\"white-space:pre;overflow-x:auto;line-height:normal;font-family:Menlo,'DejaVu Sans Mono',consolas,'Courier New',monospace\"><span style=\"color: #008000; text-decoration-color: #008000\">Successfully fetched data for </span><span style=\"color: #800080; text-decoration-color: #800080; font-weight: bold\">/search/</span><span style=\"color: #ff00ff; text-decoration-color: #ff00ff; font-weight: bold\">artist</span>\n",
       "</pre>\n"
      ],
      "text/plain": [
       "\u001b[32mSuccessfully fetched data for \u001b[0m\u001b[1;35m/search/\u001b[0m\u001b[1;95martist\u001b[0m\n"
      ]
     },
     "metadata": {},
     "output_type": "display_data"
    },
    {
     "data": {
      "text/html": [
       "<pre style=\"white-space:pre;overflow-x:auto;line-height:normal;font-family:Menlo,'DejaVu Sans Mono',consolas,'Courier New',monospace\"><span style=\"color: #008080; text-decoration-color: #008080\">Fetching basic data for artist: </span><span style=\"color: #800080; text-decoration-color: #800080; font-weight: bold\">Ariana Grande</span><span style=\"color: #808000; text-decoration-color: #808000\">...</span>\n",
       "</pre>\n"
      ],
      "text/plain": [
       "\u001b[36mFetching basic data for artist: \u001b[0m\u001b[1;35mAriana Grande\u001b[0m\u001b[33m...\u001b[0m\n"
      ]
     },
     "metadata": {},
     "output_type": "display_data"
    },
    {
     "data": {
      "text/html": [
       "<pre style=\"white-space:pre;overflow-x:auto;line-height:normal;font-family:Menlo,'DejaVu Sans Mono',consolas,'Courier New',monospace\"><span style=\"color: #008000; text-decoration-color: #008000\">Successfully fetched data for </span><span style=\"color: #800080; text-decoration-color: #800080; font-weight: bold\">/search/</span><span style=\"color: #ff00ff; text-decoration-color: #ff00ff; font-weight: bold\">artist</span>\n",
       "</pre>\n"
      ],
      "text/plain": [
       "\u001b[32mSuccessfully fetched data for \u001b[0m\u001b[1;35m/search/\u001b[0m\u001b[1;95martist\u001b[0m\n"
      ]
     },
     "metadata": {},
     "output_type": "display_data"
    },
    {
     "data": {
      "text/html": [
       "<pre style=\"white-space:pre;overflow-x:auto;line-height:normal;font-family:Menlo,'DejaVu Sans Mono',consolas,'Courier New',monospace\"><span style=\"color: #008080; text-decoration-color: #008080\">Fetching basic data for artist: </span><span style=\"color: #800080; text-decoration-color: #800080; font-weight: bold\">I Prevail</span><span style=\"color: #808000; text-decoration-color: #808000\">...</span>\n",
       "</pre>\n"
      ],
      "text/plain": [
       "\u001b[36mFetching basic data for artist: \u001b[0m\u001b[1;35mI Prevail\u001b[0m\u001b[33m...\u001b[0m\n"
      ]
     },
     "metadata": {},
     "output_type": "display_data"
    },
    {
     "data": {
      "text/html": [
       "<pre style=\"white-space:pre;overflow-x:auto;line-height:normal;font-family:Menlo,'DejaVu Sans Mono',consolas,'Courier New',monospace\"><span style=\"color: #008000; text-decoration-color: #008000\">Successfully fetched data for </span><span style=\"color: #800080; text-decoration-color: #800080; font-weight: bold\">/search/</span><span style=\"color: #ff00ff; text-decoration-color: #ff00ff; font-weight: bold\">artist</span>\n",
       "</pre>\n"
      ],
      "text/plain": [
       "\u001b[32mSuccessfully fetched data for \u001b[0m\u001b[1;35m/search/\u001b[0m\u001b[1;95martist\u001b[0m\n"
      ]
     },
     "metadata": {},
     "output_type": "display_data"
    },
    {
     "data": {
      "text/html": [
       "<pre style=\"white-space:pre;overflow-x:auto;line-height:normal;font-family:Menlo,'DejaVu Sans Mono',consolas,'Courier New',monospace\"><span style=\"color: #008080; text-decoration-color: #008080\">Fetching basic data for artist: </span><span style=\"color: #800080; text-decoration-color: #800080; font-weight: bold\">Our Last Night</span><span style=\"color: #808000; text-decoration-color: #808000\">...</span>\n",
       "</pre>\n"
      ],
      "text/plain": [
       "\u001b[36mFetching basic data for artist: \u001b[0m\u001b[1;35mOur Last Night\u001b[0m\u001b[33m...\u001b[0m\n"
      ]
     },
     "metadata": {},
     "output_type": "display_data"
    },
    {
     "data": {
      "text/html": [
       "<pre style=\"white-space:pre;overflow-x:auto;line-height:normal;font-family:Menlo,'DejaVu Sans Mono',consolas,'Courier New',monospace\"><span style=\"color: #008000; text-decoration-color: #008000\">Successfully fetched data for </span><span style=\"color: #800080; text-decoration-color: #800080; font-weight: bold\">/search/</span><span style=\"color: #ff00ff; text-decoration-color: #ff00ff; font-weight: bold\">artist</span>\n",
       "</pre>\n"
      ],
      "text/plain": [
       "\u001b[32mSuccessfully fetched data for \u001b[0m\u001b[1;35m/search/\u001b[0m\u001b[1;95martist\u001b[0m\n"
      ]
     },
     "metadata": {},
     "output_type": "display_data"
    },
    {
     "data": {
      "text/html": [
       "<pre style=\"white-space:pre;overflow-x:auto;line-height:normal;font-family:Menlo,'DejaVu Sans Mono',consolas,'Courier New',monospace\"><span style=\"color: #008080; text-decoration-color: #008080\">Fetching basic data for artist: </span><span style=\"color: #800080; text-decoration-color: #800080; font-weight: bold\">Chappell Roan</span><span style=\"color: #808000; text-decoration-color: #808000\">...</span>\n",
       "</pre>\n"
      ],
      "text/plain": [
       "\u001b[36mFetching basic data for artist: \u001b[0m\u001b[1;35mChappell Roan\u001b[0m\u001b[33m...\u001b[0m\n"
      ]
     },
     "metadata": {},
     "output_type": "display_data"
    },
    {
     "data": {
      "text/html": [
       "<pre style=\"white-space:pre;overflow-x:auto;line-height:normal;font-family:Menlo,'DejaVu Sans Mono',consolas,'Courier New',monospace\"><span style=\"color: #008000; text-decoration-color: #008000\">Successfully fetched data for </span><span style=\"color: #800080; text-decoration-color: #800080; font-weight: bold\">/search/</span><span style=\"color: #ff00ff; text-decoration-color: #ff00ff; font-weight: bold\">artist</span>\n",
       "</pre>\n"
      ],
      "text/plain": [
       "\u001b[32mSuccessfully fetched data for \u001b[0m\u001b[1;35m/search/\u001b[0m\u001b[1;95martist\u001b[0m\n"
      ]
     },
     "metadata": {},
     "output_type": "display_data"
    },
    {
     "data": {
      "text/html": [
       "<pre style=\"white-space:pre;overflow-x:auto;line-height:normal;font-family:Menlo,'DejaVu Sans Mono',consolas,'Courier New',monospace\"><span style=\"color: #008080; text-decoration-color: #008080\">Fetching basic data for artist: </span><span style=\"color: #800080; text-decoration-color: #800080; font-weight: bold\">girl in red</span><span style=\"color: #808000; text-decoration-color: #808000\">...</span>\n",
       "</pre>\n"
      ],
      "text/plain": [
       "\u001b[36mFetching basic data for artist: \u001b[0m\u001b[1;35mgirl in red\u001b[0m\u001b[33m...\u001b[0m\n"
      ]
     },
     "metadata": {},
     "output_type": "display_data"
    },
    {
     "data": {
      "text/html": [
       "<pre style=\"white-space:pre;overflow-x:auto;line-height:normal;font-family:Menlo,'DejaVu Sans Mono',consolas,'Courier New',monospace\"><span style=\"color: #008000; text-decoration-color: #008000\">Successfully fetched data for </span><span style=\"color: #800080; text-decoration-color: #800080; font-weight: bold\">/search/</span><span style=\"color: #ff00ff; text-decoration-color: #ff00ff; font-weight: bold\">artist</span>\n",
       "</pre>\n"
      ],
      "text/plain": [
       "\u001b[32mSuccessfully fetched data for \u001b[0m\u001b[1;35m/search/\u001b[0m\u001b[1;95martist\u001b[0m\n"
      ]
     },
     "metadata": {},
     "output_type": "display_data"
    },
    {
     "data": {
      "text/html": [
       "<pre style=\"white-space:pre;overflow-x:auto;line-height:normal;font-family:Menlo,'DejaVu Sans Mono',consolas,'Courier New',monospace\"><span style=\"color: #008080; text-decoration-color: #008080\">Fetching basic data for artist: </span><span style=\"color: #800080; text-decoration-color: #800080; font-weight: bold\">Maisie Peters</span><span style=\"color: #808000; text-decoration-color: #808000\">...</span>\n",
       "</pre>\n"
      ],
      "text/plain": [
       "\u001b[36mFetching basic data for artist: \u001b[0m\u001b[1;35mMaisie Peters\u001b[0m\u001b[33m...\u001b[0m\n"
      ]
     },
     "metadata": {},
     "output_type": "display_data"
    },
    {
     "data": {
      "text/html": [
       "<pre style=\"white-space:pre;overflow-x:auto;line-height:normal;font-family:Menlo,'DejaVu Sans Mono',consolas,'Courier New',monospace\"><span style=\"color: #008000; text-decoration-color: #008000\">Successfully fetched data for </span><span style=\"color: #800080; text-decoration-color: #800080; font-weight: bold\">/search/</span><span style=\"color: #ff00ff; text-decoration-color: #ff00ff; font-weight: bold\">artist</span>\n",
       "</pre>\n"
      ],
      "text/plain": [
       "\u001b[32mSuccessfully fetched data for \u001b[0m\u001b[1;35m/search/\u001b[0m\u001b[1;95martist\u001b[0m\n"
      ]
     },
     "metadata": {},
     "output_type": "display_data"
    },
    {
     "data": {
      "text/html": [
       "<pre style=\"white-space:pre;overflow-x:auto;line-height:normal;font-family:Menlo,'DejaVu Sans Mono',consolas,'Courier New',monospace\"><span style=\"color: #008080; text-decoration-color: #008080\">Fetching basic data for artist: </span><span style=\"color: #800080; text-decoration-color: #800080; font-weight: bold\">Central Cee</span><span style=\"color: #808000; text-decoration-color: #808000\">...</span>\n",
       "</pre>\n"
      ],
      "text/plain": [
       "\u001b[36mFetching basic data for artist: \u001b[0m\u001b[1;35mCentral Cee\u001b[0m\u001b[33m...\u001b[0m\n"
      ]
     },
     "metadata": {},
     "output_type": "display_data"
    },
    {
     "data": {
      "text/html": [
       "<pre style=\"white-space:pre;overflow-x:auto;line-height:normal;font-family:Menlo,'DejaVu Sans Mono',consolas,'Courier New',monospace\"><span style=\"color: #008000; text-decoration-color: #008000\">Successfully fetched data for </span><span style=\"color: #800080; text-decoration-color: #800080; font-weight: bold\">/search/</span><span style=\"color: #ff00ff; text-decoration-color: #ff00ff; font-weight: bold\">artist</span>\n",
       "</pre>\n"
      ],
      "text/plain": [
       "\u001b[32mSuccessfully fetched data for \u001b[0m\u001b[1;35m/search/\u001b[0m\u001b[1;95martist\u001b[0m\n"
      ]
     },
     "metadata": {},
     "output_type": "display_data"
    },
    {
     "data": {
      "text/html": [
       "<pre style=\"white-space:pre;overflow-x:auto;line-height:normal;font-family:Menlo,'DejaVu Sans Mono',consolas,'Courier New',monospace\"><span style=\"color: #008080; text-decoration-color: #008080\">Fetching basic data for artist: </span><span style=\"color: #800080; text-decoration-color: #800080; font-weight: bold\">Drake</span><span style=\"color: #808000; text-decoration-color: #808000\">...</span>\n",
       "</pre>\n"
      ],
      "text/plain": [
       "\u001b[36mFetching basic data for artist: \u001b[0m\u001b[1;35mDrake\u001b[0m\u001b[33m...\u001b[0m\n"
      ]
     },
     "metadata": {},
     "output_type": "display_data"
    },
    {
     "data": {
      "text/html": [
       "<pre style=\"white-space:pre;overflow-x:auto;line-height:normal;font-family:Menlo,'DejaVu Sans Mono',consolas,'Courier New',monospace\"><span style=\"color: #008000; text-decoration-color: #008000\">Successfully fetched data for </span><span style=\"color: #800080; text-decoration-color: #800080; font-weight: bold\">/search/</span><span style=\"color: #ff00ff; text-decoration-color: #ff00ff; font-weight: bold\">artist</span>\n",
       "</pre>\n"
      ],
      "text/plain": [
       "\u001b[32mSuccessfully fetched data for \u001b[0m\u001b[1;35m/search/\u001b[0m\u001b[1;95martist\u001b[0m\n"
      ]
     },
     "metadata": {},
     "output_type": "display_data"
    },
    {
     "data": {
      "text/html": [
       "<pre style=\"white-space:pre;overflow-x:auto;line-height:normal;font-family:Menlo,'DejaVu Sans Mono',consolas,'Courier New',monospace\"><span style=\"color: #008080; text-decoration-color: #008080\">Fetching basic data for artist: </span><span style=\"color: #800080; text-decoration-color: #800080; font-weight: bold\">Vince Staples</span><span style=\"color: #808000; text-decoration-color: #808000\">...</span>\n",
       "</pre>\n"
      ],
      "text/plain": [
       "\u001b[36mFetching basic data for artist: \u001b[0m\u001b[1;35mVince Staples\u001b[0m\u001b[33m...\u001b[0m\n"
      ]
     },
     "metadata": {},
     "output_type": "display_data"
    },
    {
     "data": {
      "text/html": [
       "<pre style=\"white-space:pre;overflow-x:auto;line-height:normal;font-family:Menlo,'DejaVu Sans Mono',consolas,'Courier New',monospace\"><span style=\"color: #008000; text-decoration-color: #008000\">Successfully fetched data for </span><span style=\"color: #800080; text-decoration-color: #800080; font-weight: bold\">/search/</span><span style=\"color: #ff00ff; text-decoration-color: #ff00ff; font-weight: bold\">artist</span>\n",
       "</pre>\n"
      ],
      "text/plain": [
       "\u001b[32mSuccessfully fetched data for \u001b[0m\u001b[1;35m/search/\u001b[0m\u001b[1;95martist\u001b[0m\n"
      ]
     },
     "metadata": {},
     "output_type": "display_data"
    },
    {
     "data": {
      "text/html": [
       "<pre style=\"white-space:pre;overflow-x:auto;line-height:normal;font-family:Menlo,'DejaVu Sans Mono',consolas,'Courier New',monospace\"><span style=\"color: #008080; text-decoration-color: #008080\">Fetching basic data for artist: </span><span style=\"color: #800080; text-decoration-color: #800080; font-weight: bold\">Lil Yachty</span><span style=\"color: #808000; text-decoration-color: #808000\">...</span>\n",
       "</pre>\n"
      ],
      "text/plain": [
       "\u001b[36mFetching basic data for artist: \u001b[0m\u001b[1;35mLil Yachty\u001b[0m\u001b[33m...\u001b[0m\n"
      ]
     },
     "metadata": {},
     "output_type": "display_data"
    },
    {
     "data": {
      "text/html": [
       "<pre style=\"white-space:pre;overflow-x:auto;line-height:normal;font-family:Menlo,'DejaVu Sans Mono',consolas,'Courier New',monospace\"><span style=\"color: #008000; text-decoration-color: #008000\">Successfully fetched data for </span><span style=\"color: #800080; text-decoration-color: #800080; font-weight: bold\">/search/</span><span style=\"color: #ff00ff; text-decoration-color: #ff00ff; font-weight: bold\">artist</span>\n",
       "</pre>\n"
      ],
      "text/plain": [
       "\u001b[32mSuccessfully fetched data for \u001b[0m\u001b[1;35m/search/\u001b[0m\u001b[1;95martist\u001b[0m\n"
      ]
     },
     "metadata": {},
     "output_type": "display_data"
    },
    {
     "data": {
      "text/html": [
       "<pre style=\"white-space:pre;overflow-x:auto;line-height:normal;font-family:Menlo,'DejaVu Sans Mono',consolas,'Courier New',monospace\"><span style=\"color: #008080; text-decoration-color: #008080\">Fetching basic data for artist: </span><span style=\"color: #800080; text-decoration-color: #800080; font-weight: bold\">Lil Tecca</span><span style=\"color: #808000; text-decoration-color: #808000\">...</span>\n",
       "</pre>\n"
      ],
      "text/plain": [
       "\u001b[36mFetching basic data for artist: \u001b[0m\u001b[1;35mLil Tecca\u001b[0m\u001b[33m...\u001b[0m\n"
      ]
     },
     "metadata": {},
     "output_type": "display_data"
    },
    {
     "data": {
      "text/html": [
       "<pre style=\"white-space:pre;overflow-x:auto;line-height:normal;font-family:Menlo,'DejaVu Sans Mono',consolas,'Courier New',monospace\"><span style=\"color: #008000; text-decoration-color: #008000\">Successfully fetched data for </span><span style=\"color: #800080; text-decoration-color: #800080; font-weight: bold\">/search/</span><span style=\"color: #ff00ff; text-decoration-color: #ff00ff; font-weight: bold\">artist</span>\n",
       "</pre>\n"
      ],
      "text/plain": [
       "\u001b[32mSuccessfully fetched data for \u001b[0m\u001b[1;35m/search/\u001b[0m\u001b[1;95martist\u001b[0m\n"
      ]
     },
     "metadata": {},
     "output_type": "display_data"
    },
    {
     "data": {
      "text/html": [
       "<pre style=\"white-space:pre;overflow-x:auto;line-height:normal;font-family:Menlo,'DejaVu Sans Mono',consolas,'Courier New',monospace\"><span style=\"color: #008080; text-decoration-color: #008080\">Fetching basic data for artist: </span><span style=\"color: #800080; text-decoration-color: #800080; font-weight: bold\">Ed Sheeran</span><span style=\"color: #808000; text-decoration-color: #808000\">...</span>\n",
       "</pre>\n"
      ],
      "text/plain": [
       "\u001b[36mFetching basic data for artist: \u001b[0m\u001b[1;35mEd Sheeran\u001b[0m\u001b[33m...\u001b[0m\n"
      ]
     },
     "metadata": {},
     "output_type": "display_data"
    },
    {
     "data": {
      "text/html": [
       "<pre style=\"white-space:pre;overflow-x:auto;line-height:normal;font-family:Menlo,'DejaVu Sans Mono',consolas,'Courier New',monospace\"><span style=\"color: #008000; text-decoration-color: #008000\">Successfully fetched data for </span><span style=\"color: #800080; text-decoration-color: #800080; font-weight: bold\">/search/</span><span style=\"color: #ff00ff; text-decoration-color: #ff00ff; font-weight: bold\">artist</span>\n",
       "</pre>\n"
      ],
      "text/plain": [
       "\u001b[32mSuccessfully fetched data for \u001b[0m\u001b[1;35m/search/\u001b[0m\u001b[1;95martist\u001b[0m\n"
      ]
     },
     "metadata": {},
     "output_type": "display_data"
    },
    {
     "data": {
      "text/html": [
       "<pre style=\"white-space:pre;overflow-x:auto;line-height:normal;font-family:Menlo,'DejaVu Sans Mono',consolas,'Courier New',monospace\"><span style=\"color: #008080; text-decoration-color: #008080\">Fetching basic data for artist: </span><span style=\"color: #800080; text-decoration-color: #800080; font-weight: bold\">Billie Eilish</span><span style=\"color: #808000; text-decoration-color: #808000\">...</span>\n",
       "</pre>\n"
      ],
      "text/plain": [
       "\u001b[36mFetching basic data for artist: \u001b[0m\u001b[1;35mBillie Eilish\u001b[0m\u001b[33m...\u001b[0m\n"
      ]
     },
     "metadata": {},
     "output_type": "display_data"
    },
    {
     "data": {
      "text/html": [
       "<pre style=\"white-space:pre;overflow-x:auto;line-height:normal;font-family:Menlo,'DejaVu Sans Mono',consolas,'Courier New',monospace\"><span style=\"color: #008000; text-decoration-color: #008000\">Successfully fetched data for </span><span style=\"color: #800080; text-decoration-color: #800080; font-weight: bold\">/search/</span><span style=\"color: #ff00ff; text-decoration-color: #ff00ff; font-weight: bold\">artist</span>\n",
       "</pre>\n"
      ],
      "text/plain": [
       "\u001b[32mSuccessfully fetched data for \u001b[0m\u001b[1;35m/search/\u001b[0m\u001b[1;95martist\u001b[0m\n"
      ]
     },
     "metadata": {},
     "output_type": "display_data"
    },
    {
     "data": {
      "text/html": [
       "<pre style=\"white-space:pre;overflow-x:auto;line-height:normal;font-family:Menlo,'DejaVu Sans Mono',consolas,'Courier New',monospace\"><span style=\"color: #008080; text-decoration-color: #008080\">Fetching basic data for artist: </span><span style=\"color: #800080; text-decoration-color: #800080; font-weight: bold\">Post Malone</span><span style=\"color: #808000; text-decoration-color: #808000\">...</span>\n",
       "</pre>\n"
      ],
      "text/plain": [
       "\u001b[36mFetching basic data for artist: \u001b[0m\u001b[1;35mPost Malone\u001b[0m\u001b[33m...\u001b[0m\n"
      ]
     },
     "metadata": {},
     "output_type": "display_data"
    },
    {
     "data": {
      "text/html": [
       "<pre style=\"white-space:pre;overflow-x:auto;line-height:normal;font-family:Menlo,'DejaVu Sans Mono',consolas,'Courier New',monospace\"><span style=\"color: #008000; text-decoration-color: #008000\">Successfully fetched data for </span><span style=\"color: #800080; text-decoration-color: #800080; font-weight: bold\">/search/</span><span style=\"color: #ff00ff; text-decoration-color: #ff00ff; font-weight: bold\">artist</span>\n",
       "</pre>\n"
      ],
      "text/plain": [
       "\u001b[32mSuccessfully fetched data for \u001b[0m\u001b[1;35m/search/\u001b[0m\u001b[1;95martist\u001b[0m\n"
      ]
     },
     "metadata": {},
     "output_type": "display_data"
    },
    {
     "data": {
      "text/html": [
       "<pre style=\"white-space:pre;overflow-x:auto;line-height:normal;font-family:Menlo,'DejaVu Sans Mono',consolas,'Courier New',monospace\"><span style=\"color: #008080; text-decoration-color: #008080\">Fetching basic data for artist: </span><span style=\"color: #800080; text-decoration-color: #800080; font-weight: bold\">Dua Lipa</span><span style=\"color: #808000; text-decoration-color: #808000\">...</span>\n",
       "</pre>\n"
      ],
      "text/plain": [
       "\u001b[36mFetching basic data for artist: \u001b[0m\u001b[1;35mDua Lipa\u001b[0m\u001b[33m...\u001b[0m\n"
      ]
     },
     "metadata": {},
     "output_type": "display_data"
    },
    {
     "data": {
      "text/html": [
       "<pre style=\"white-space:pre;overflow-x:auto;line-height:normal;font-family:Menlo,'DejaVu Sans Mono',consolas,'Courier New',monospace\"><span style=\"color: #008000; text-decoration-color: #008000\">Successfully fetched data for </span><span style=\"color: #800080; text-decoration-color: #800080; font-weight: bold\">/search/</span><span style=\"color: #ff00ff; text-decoration-color: #ff00ff; font-weight: bold\">artist</span>\n",
       "</pre>\n"
      ],
      "text/plain": [
       "\u001b[32mSuccessfully fetched data for \u001b[0m\u001b[1;35m/search/\u001b[0m\u001b[1;95martist\u001b[0m\n"
      ]
     },
     "metadata": {},
     "output_type": "display_data"
    },
    {
     "data": {
      "text/html": [
       "<pre style=\"white-space:pre;overflow-x:auto;line-height:normal;font-family:Menlo,'DejaVu Sans Mono',consolas,'Courier New',monospace\"><span style=\"color: #008080; text-decoration-color: #008080\">Fetching basic data for artist: </span><span style=\"color: #800080; text-decoration-color: #800080; font-weight: bold\">The Weeknd</span><span style=\"color: #808000; text-decoration-color: #808000\">...</span>\n",
       "</pre>\n"
      ],
      "text/plain": [
       "\u001b[36mFetching basic data for artist: \u001b[0m\u001b[1;35mThe Weeknd\u001b[0m\u001b[33m...\u001b[0m\n"
      ]
     },
     "metadata": {},
     "output_type": "display_data"
    },
    {
     "data": {
      "text/html": [
       "<pre style=\"white-space:pre;overflow-x:auto;line-height:normal;font-family:Menlo,'DejaVu Sans Mono',consolas,'Courier New',monospace\"><span style=\"color: #008000; text-decoration-color: #008000\">Successfully fetched data for </span><span style=\"color: #800080; text-decoration-color: #800080; font-weight: bold\">/search/</span><span style=\"color: #ff00ff; text-decoration-color: #ff00ff; font-weight: bold\">artist</span>\n",
       "</pre>\n"
      ],
      "text/plain": [
       "\u001b[32mSuccessfully fetched data for \u001b[0m\u001b[1;35m/search/\u001b[0m\u001b[1;95martist\u001b[0m\n"
      ]
     },
     "metadata": {},
     "output_type": "display_data"
    },
    {
     "data": {
      "text/html": [
       "<pre style=\"white-space:pre;overflow-x:auto;line-height:normal;font-family:Menlo,'DejaVu Sans Mono',consolas,'Courier New',monospace\"><span style=\"color: #008080; text-decoration-color: #008080\">Fetching basic data for artist: </span><span style=\"color: #800080; text-decoration-color: #800080; font-weight: bold\">Imagine Dragons</span><span style=\"color: #808000; text-decoration-color: #808000\">...</span>\n",
       "</pre>\n"
      ],
      "text/plain": [
       "\u001b[36mFetching basic data for artist: \u001b[0m\u001b[1;35mImagine Dragons\u001b[0m\u001b[33m...\u001b[0m\n"
      ]
     },
     "metadata": {},
     "output_type": "display_data"
    },
    {
     "data": {
      "text/html": [
       "<pre style=\"white-space:pre;overflow-x:auto;line-height:normal;font-family:Menlo,'DejaVu Sans Mono',consolas,'Courier New',monospace\"><span style=\"color: #008000; text-decoration-color: #008000\">Successfully fetched data for </span><span style=\"color: #800080; text-decoration-color: #800080; font-weight: bold\">/search/</span><span style=\"color: #ff00ff; text-decoration-color: #ff00ff; font-weight: bold\">artist</span>\n",
       "</pre>\n"
      ],
      "text/plain": [
       "\u001b[32mSuccessfully fetched data for \u001b[0m\u001b[1;35m/search/\u001b[0m\u001b[1;95martist\u001b[0m\n"
      ]
     },
     "metadata": {},
     "output_type": "display_data"
    },
    {
     "data": {
      "text/html": [
       "<pre style=\"white-space:pre;overflow-x:auto;line-height:normal;font-family:Menlo,'DejaVu Sans Mono',consolas,'Courier New',monospace\"><span style=\"color: #008080; text-decoration-color: #008080\">Fetching basic data for artist: </span><span style=\"color: #800080; text-decoration-color: #800080; font-weight: bold\">Adele</span><span style=\"color: #808000; text-decoration-color: #808000\">...</span>\n",
       "</pre>\n"
      ],
      "text/plain": [
       "\u001b[36mFetching basic data for artist: \u001b[0m\u001b[1;35mAdele\u001b[0m\u001b[33m...\u001b[0m\n"
      ]
     },
     "metadata": {},
     "output_type": "display_data"
    },
    {
     "data": {
      "text/html": [
       "<pre style=\"white-space:pre;overflow-x:auto;line-height:normal;font-family:Menlo,'DejaVu Sans Mono',consolas,'Courier New',monospace\"><span style=\"color: #008000; text-decoration-color: #008000\">Successfully fetched data for </span><span style=\"color: #800080; text-decoration-color: #800080; font-weight: bold\">/search/</span><span style=\"color: #ff00ff; text-decoration-color: #ff00ff; font-weight: bold\">artist</span>\n",
       "</pre>\n"
      ],
      "text/plain": [
       "\u001b[32mSuccessfully fetched data for \u001b[0m\u001b[1;35m/search/\u001b[0m\u001b[1;95martist\u001b[0m\n"
      ]
     },
     "metadata": {},
     "output_type": "display_data"
    },
    {
     "data": {
      "text/html": [
       "<pre style=\"white-space:pre;overflow-x:auto;line-height:normal;font-family:Menlo,'DejaVu Sans Mono',consolas,'Courier New',monospace\"><span style=\"color: #008080; text-decoration-color: #008080\">Fetching basic data for artist: </span><span style=\"color: #800080; text-decoration-color: #800080; font-weight: bold\">Bruno Mars</span><span style=\"color: #808000; text-decoration-color: #808000\">...</span>\n",
       "</pre>\n"
      ],
      "text/plain": [
       "\u001b[36mFetching basic data for artist: \u001b[0m\u001b[1;35mBruno Mars\u001b[0m\u001b[33m...\u001b[0m\n"
      ]
     },
     "metadata": {},
     "output_type": "display_data"
    },
    {
     "data": {
      "text/html": [
       "<pre style=\"white-space:pre;overflow-x:auto;line-height:normal;font-family:Menlo,'DejaVu Sans Mono',consolas,'Courier New',monospace\"><span style=\"color: #008000; text-decoration-color: #008000\">Successfully fetched data for </span><span style=\"color: #800080; text-decoration-color: #800080; font-weight: bold\">/search/</span><span style=\"color: #ff00ff; text-decoration-color: #ff00ff; font-weight: bold\">artist</span>\n",
       "</pre>\n"
      ],
      "text/plain": [
       "\u001b[32mSuccessfully fetched data for \u001b[0m\u001b[1;35m/search/\u001b[0m\u001b[1;95martist\u001b[0m\n"
      ]
     },
     "metadata": {},
     "output_type": "display_data"
    },
    {
     "data": {
      "text/html": [
       "<pre style=\"white-space:pre;overflow-x:auto;line-height:normal;font-family:Menlo,'DejaVu Sans Mono',consolas,'Courier New',monospace\"><span style=\"color: #008080; text-decoration-color: #008080\">Fetching basic data for artist: </span><span style=\"color: #800080; text-decoration-color: #800080; font-weight: bold\">BTS</span><span style=\"color: #808000; text-decoration-color: #808000\">...</span>\n",
       "</pre>\n"
      ],
      "text/plain": [
       "\u001b[36mFetching basic data for artist: \u001b[0m\u001b[1;35mBTS\u001b[0m\u001b[33m...\u001b[0m\n"
      ]
     },
     "metadata": {},
     "output_type": "display_data"
    },
    {
     "data": {
      "text/html": [
       "<pre style=\"white-space:pre;overflow-x:auto;line-height:normal;font-family:Menlo,'DejaVu Sans Mono',consolas,'Courier New',monospace\"><span style=\"color: #008000; text-decoration-color: #008000\">Successfully fetched data for </span><span style=\"color: #800080; text-decoration-color: #800080; font-weight: bold\">/search/</span><span style=\"color: #ff00ff; text-decoration-color: #ff00ff; font-weight: bold\">artist</span>\n",
       "</pre>\n"
      ],
      "text/plain": [
       "\u001b[32mSuccessfully fetched data for \u001b[0m\u001b[1;35m/search/\u001b[0m\u001b[1;95martist\u001b[0m\n"
      ]
     },
     "metadata": {},
     "output_type": "display_data"
    },
    {
     "data": {
      "text/html": [
       "<pre style=\"white-space:pre;overflow-x:auto;line-height:normal;font-family:Menlo,'DejaVu Sans Mono',consolas,'Courier New',monospace\"><span style=\"color: #008080; text-decoration-color: #008080\">Fetching basic data for artist: </span><span style=\"color: #800080; text-decoration-color: #800080; font-weight: bold\">Maroon </span><span style=\"color: #800080; text-decoration-color: #800080; font-weight: bold\">5</span><span style=\"color: #808000; text-decoration-color: #808000\">...</span>\n",
       "</pre>\n"
      ],
      "text/plain": [
       "\u001b[36mFetching basic data for artist: \u001b[0m\u001b[1;35mMaroon \u001b[0m\u001b[1;35m5\u001b[0m\u001b[33m...\u001b[0m\n"
      ]
     },
     "metadata": {},
     "output_type": "display_data"
    },
    {
     "data": {
      "text/html": [
       "<pre style=\"white-space:pre;overflow-x:auto;line-height:normal;font-family:Menlo,'DejaVu Sans Mono',consolas,'Courier New',monospace\"><span style=\"color: #008000; text-decoration-color: #008000\">Successfully fetched data for </span><span style=\"color: #800080; text-decoration-color: #800080; font-weight: bold\">/search/</span><span style=\"color: #ff00ff; text-decoration-color: #ff00ff; font-weight: bold\">artist</span>\n",
       "</pre>\n"
      ],
      "text/plain": [
       "\u001b[32mSuccessfully fetched data for \u001b[0m\u001b[1;35m/search/\u001b[0m\u001b[1;95martist\u001b[0m\n"
      ]
     },
     "metadata": {},
     "output_type": "display_data"
    },
    {
     "data": {
      "text/html": [
       "<pre style=\"white-space:pre;overflow-x:auto;line-height:normal;font-family:Menlo,'DejaVu Sans Mono',consolas,'Courier New',monospace\"><span style=\"color: #008080; text-decoration-color: #008080\">Fetching basic data for artist: </span><span style=\"color: #800080; text-decoration-color: #800080; font-weight: bold\">Justin Bieber</span><span style=\"color: #808000; text-decoration-color: #808000\">...</span>\n",
       "</pre>\n"
      ],
      "text/plain": [
       "\u001b[36mFetching basic data for artist: \u001b[0m\u001b[1;35mJustin Bieber\u001b[0m\u001b[33m...\u001b[0m\n"
      ]
     },
     "metadata": {},
     "output_type": "display_data"
    },
    {
     "data": {
      "text/html": [
       "<pre style=\"white-space:pre;overflow-x:auto;line-height:normal;font-family:Menlo,'DejaVu Sans Mono',consolas,'Courier New',monospace\"><span style=\"color: #008000; text-decoration-color: #008000\">Successfully fetched data for </span><span style=\"color: #800080; text-decoration-color: #800080; font-weight: bold\">/search/</span><span style=\"color: #ff00ff; text-decoration-color: #ff00ff; font-weight: bold\">artist</span>\n",
       "</pre>\n"
      ],
      "text/plain": [
       "\u001b[32mSuccessfully fetched data for \u001b[0m\u001b[1;35m/search/\u001b[0m\u001b[1;95martist\u001b[0m\n"
      ]
     },
     "metadata": {},
     "output_type": "display_data"
    },
    {
     "data": {
      "text/html": [
       "<pre style=\"white-space:pre;overflow-x:auto;line-height:normal;font-family:Menlo,'DejaVu Sans Mono',consolas,'Courier New',monospace\"><span style=\"color: #008080; text-decoration-color: #008080\">Fetching basic data for artist: </span><span style=\"color: #800080; text-decoration-color: #800080; font-weight: bold\">Cardi B</span><span style=\"color: #808000; text-decoration-color: #808000\">...</span>\n",
       "</pre>\n"
      ],
      "text/plain": [
       "\u001b[36mFetching basic data for artist: \u001b[0m\u001b[1;35mCardi B\u001b[0m\u001b[33m...\u001b[0m\n"
      ]
     },
     "metadata": {},
     "output_type": "display_data"
    },
    {
     "data": {
      "text/html": [
       "<pre style=\"white-space:pre;overflow-x:auto;line-height:normal;font-family:Menlo,'DejaVu Sans Mono',consolas,'Courier New',monospace\"><span style=\"color: #008000; text-decoration-color: #008000\">Successfully fetched data for </span><span style=\"color: #800080; text-decoration-color: #800080; font-weight: bold\">/search/</span><span style=\"color: #ff00ff; text-decoration-color: #ff00ff; font-weight: bold\">artist</span>\n",
       "</pre>\n"
      ],
      "text/plain": [
       "\u001b[32mSuccessfully fetched data for \u001b[0m\u001b[1;35m/search/\u001b[0m\u001b[1;95martist\u001b[0m\n"
      ]
     },
     "metadata": {},
     "output_type": "display_data"
    },
    {
     "data": {
      "text/html": [
       "<pre style=\"white-space:pre;overflow-x:auto;line-height:normal;font-family:Menlo,'DejaVu Sans Mono',consolas,'Courier New',monospace\"><span style=\"color: #008080; text-decoration-color: #008080\">Fetching basic data for artist: </span><span style=\"color: #800080; text-decoration-color: #800080; font-weight: bold\">Travis Scott</span><span style=\"color: #808000; text-decoration-color: #808000\">...</span>\n",
       "</pre>\n"
      ],
      "text/plain": [
       "\u001b[36mFetching basic data for artist: \u001b[0m\u001b[1;35mTravis Scott\u001b[0m\u001b[33m...\u001b[0m\n"
      ]
     },
     "metadata": {},
     "output_type": "display_data"
    },
    {
     "data": {
      "text/html": [
       "<pre style=\"white-space:pre;overflow-x:auto;line-height:normal;font-family:Menlo,'DejaVu Sans Mono',consolas,'Courier New',monospace\"><span style=\"color: #008000; text-decoration-color: #008000\">Successfully fetched data for </span><span style=\"color: #800080; text-decoration-color: #800080; font-weight: bold\">/search/</span><span style=\"color: #ff00ff; text-decoration-color: #ff00ff; font-weight: bold\">artist</span>\n",
       "</pre>\n"
      ],
      "text/plain": [
       "\u001b[32mSuccessfully fetched data for \u001b[0m\u001b[1;35m/search/\u001b[0m\u001b[1;95martist\u001b[0m\n"
      ]
     },
     "metadata": {},
     "output_type": "display_data"
    },
    {
     "data": {
      "text/html": [
       "<pre style=\"white-space:pre;overflow-x:auto;line-height:normal;font-family:Menlo,'DejaVu Sans Mono',consolas,'Courier New',monospace\"><span style=\"color: #008080; text-decoration-color: #008080\">Fetching basic data for artist: </span><span style=\"color: #800080; text-decoration-color: #800080; font-weight: bold\">Halsey</span><span style=\"color: #808000; text-decoration-color: #808000\">...</span>\n",
       "</pre>\n"
      ],
      "text/plain": [
       "\u001b[36mFetching basic data for artist: \u001b[0m\u001b[1;35mHalsey\u001b[0m\u001b[33m...\u001b[0m\n"
      ]
     },
     "metadata": {},
     "output_type": "display_data"
    },
    {
     "data": {
      "text/html": [
       "<pre style=\"white-space:pre;overflow-x:auto;line-height:normal;font-family:Menlo,'DejaVu Sans Mono',consolas,'Courier New',monospace\"><span style=\"color: #008000; text-decoration-color: #008000\">Successfully fetched data for </span><span style=\"color: #800080; text-decoration-color: #800080; font-weight: bold\">/search/</span><span style=\"color: #ff00ff; text-decoration-color: #ff00ff; font-weight: bold\">artist</span>\n",
       "</pre>\n"
      ],
      "text/plain": [
       "\u001b[32mSuccessfully fetched data for \u001b[0m\u001b[1;35m/search/\u001b[0m\u001b[1;95martist\u001b[0m\n"
      ]
     },
     "metadata": {},
     "output_type": "display_data"
    },
    {
     "data": {
      "text/html": [
       "<pre style=\"white-space:pre;overflow-x:auto;line-height:normal;font-family:Menlo,'DejaVu Sans Mono',consolas,'Courier New',monospace\"><span style=\"color: #008080; text-decoration-color: #008080\">Fetching basic data for artist: </span><span style=\"color: #800080; text-decoration-color: #800080; font-weight: bold\">Khalid</span><span style=\"color: #808000; text-decoration-color: #808000\">...</span>\n",
       "</pre>\n"
      ],
      "text/plain": [
       "\u001b[36mFetching basic data for artist: \u001b[0m\u001b[1;35mKhalid\u001b[0m\u001b[33m...\u001b[0m\n"
      ]
     },
     "metadata": {},
     "output_type": "display_data"
    },
    {
     "data": {
      "text/html": [
       "<pre style=\"white-space:pre;overflow-x:auto;line-height:normal;font-family:Menlo,'DejaVu Sans Mono',consolas,'Courier New',monospace\"><span style=\"color: #008000; text-decoration-color: #008000\">Successfully fetched data for </span><span style=\"color: #800080; text-decoration-color: #800080; font-weight: bold\">/search/</span><span style=\"color: #ff00ff; text-decoration-color: #ff00ff; font-weight: bold\">artist</span>\n",
       "</pre>\n"
      ],
      "text/plain": [
       "\u001b[32mSuccessfully fetched data for \u001b[0m\u001b[1;35m/search/\u001b[0m\u001b[1;95martist\u001b[0m\n"
      ]
     },
     "metadata": {},
     "output_type": "display_data"
    },
    {
     "data": {
      "text/html": [
       "<pre style=\"white-space:pre;overflow-x:auto;line-height:normal;font-family:Menlo,'DejaVu Sans Mono',consolas,'Courier New',monospace\"><span style=\"color: #008080; text-decoration-color: #008080\">Fetching basic data for artist: </span><span style=\"color: #800080; text-decoration-color: #800080; font-weight: bold\">Sam Smith</span><span style=\"color: #808000; text-decoration-color: #808000\">...</span>\n",
       "</pre>\n"
      ],
      "text/plain": [
       "\u001b[36mFetching basic data for artist: \u001b[0m\u001b[1;35mSam Smith\u001b[0m\u001b[33m...\u001b[0m\n"
      ]
     },
     "metadata": {},
     "output_type": "display_data"
    },
    {
     "data": {
      "text/html": [
       "<pre style=\"white-space:pre;overflow-x:auto;line-height:normal;font-family:Menlo,'DejaVu Sans Mono',consolas,'Courier New',monospace\"><span style=\"color: #008000; text-decoration-color: #008000\">Successfully fetched data for </span><span style=\"color: #800080; text-decoration-color: #800080; font-weight: bold\">/search/</span><span style=\"color: #ff00ff; text-decoration-color: #ff00ff; font-weight: bold\">artist</span>\n",
       "</pre>\n"
      ],
      "text/plain": [
       "\u001b[32mSuccessfully fetched data for \u001b[0m\u001b[1;35m/search/\u001b[0m\u001b[1;95martist\u001b[0m\n"
      ]
     },
     "metadata": {},
     "output_type": "display_data"
    },
    {
     "data": {
      "text/html": [
       "<pre style=\"white-space:pre;overflow-x:auto;line-height:normal;font-family:Menlo,'DejaVu Sans Mono',consolas,'Courier New',monospace\"><span style=\"color: #008080; text-decoration-color: #008080\">Fetching basic data for artist: </span><span style=\"color: #800080; text-decoration-color: #800080; font-weight: bold\">Lizzo</span><span style=\"color: #808000; text-decoration-color: #808000\">...</span>\n",
       "</pre>\n"
      ],
      "text/plain": [
       "\u001b[36mFetching basic data for artist: \u001b[0m\u001b[1;35mLizzo\u001b[0m\u001b[33m...\u001b[0m\n"
      ]
     },
     "metadata": {},
     "output_type": "display_data"
    },
    {
     "data": {
      "text/html": [
       "<pre style=\"white-space:pre;overflow-x:auto;line-height:normal;font-family:Menlo,'DejaVu Sans Mono',consolas,'Courier New',monospace\"><span style=\"color: #008000; text-decoration-color: #008000\">Successfully fetched data for </span><span style=\"color: #800080; text-decoration-color: #800080; font-weight: bold\">/search/</span><span style=\"color: #ff00ff; text-decoration-color: #ff00ff; font-weight: bold\">artist</span>\n",
       "</pre>\n"
      ],
      "text/plain": [
       "\u001b[32mSuccessfully fetched data for \u001b[0m\u001b[1;35m/search/\u001b[0m\u001b[1;95martist\u001b[0m\n"
      ]
     },
     "metadata": {},
     "output_type": "display_data"
    },
    {
     "data": {
      "text/html": [
       "<pre style=\"white-space:pre;overflow-x:auto;line-height:normal;font-family:Menlo,'DejaVu Sans Mono',consolas,'Courier New',monospace\"><span style=\"color: #008080; text-decoration-color: #008080\">Fetching basic data for artist: </span><span style=\"color: #800080; text-decoration-color: #800080; font-weight: bold\">Harry Styles</span><span style=\"color: #808000; text-decoration-color: #808000\">...</span>\n",
       "</pre>\n"
      ],
      "text/plain": [
       "\u001b[36mFetching basic data for artist: \u001b[0m\u001b[1;35mHarry Styles\u001b[0m\u001b[33m...\u001b[0m\n"
      ]
     },
     "metadata": {},
     "output_type": "display_data"
    },
    {
     "data": {
      "text/html": [
       "<pre style=\"white-space:pre;overflow-x:auto;line-height:normal;font-family:Menlo,'DejaVu Sans Mono',consolas,'Courier New',monospace\"><span style=\"color: #008000; text-decoration-color: #008000\">Successfully fetched data for </span><span style=\"color: #800080; text-decoration-color: #800080; font-weight: bold\">/search/</span><span style=\"color: #ff00ff; text-decoration-color: #ff00ff; font-weight: bold\">artist</span>\n",
       "</pre>\n"
      ],
      "text/plain": [
       "\u001b[32mSuccessfully fetched data for \u001b[0m\u001b[1;35m/search/\u001b[0m\u001b[1;95martist\u001b[0m\n"
      ]
     },
     "metadata": {},
     "output_type": "display_data"
    },
    {
     "data": {
      "text/html": [
       "<pre style=\"white-space:pre;overflow-x:auto;line-height:normal;font-family:Menlo,'DejaVu Sans Mono',consolas,'Courier New',monospace\"><span style=\"color: #008080; text-decoration-color: #008080\">Fetching basic data for artist: </span><span style=\"color: #800080; text-decoration-color: #800080; font-weight: bold\">J Balvin</span><span style=\"color: #808000; text-decoration-color: #808000\">...</span>\n",
       "</pre>\n"
      ],
      "text/plain": [
       "\u001b[36mFetching basic data for artist: \u001b[0m\u001b[1;35mJ Balvin\u001b[0m\u001b[33m...\u001b[0m\n"
      ]
     },
     "metadata": {},
     "output_type": "display_data"
    },
    {
     "data": {
      "text/html": [
       "<pre style=\"white-space:pre;overflow-x:auto;line-height:normal;font-family:Menlo,'DejaVu Sans Mono',consolas,'Courier New',monospace\"><span style=\"color: #008000; text-decoration-color: #008000\">Successfully fetched data for </span><span style=\"color: #800080; text-decoration-color: #800080; font-weight: bold\">/search/</span><span style=\"color: #ff00ff; text-decoration-color: #ff00ff; font-weight: bold\">artist</span>\n",
       "</pre>\n"
      ],
      "text/plain": [
       "\u001b[32mSuccessfully fetched data for \u001b[0m\u001b[1;35m/search/\u001b[0m\u001b[1;95martist\u001b[0m\n"
      ]
     },
     "metadata": {},
     "output_type": "display_data"
    },
    {
     "data": {
      "text/html": [
       "<pre style=\"white-space:pre;overflow-x:auto;line-height:normal;font-family:Menlo,'DejaVu Sans Mono',consolas,'Courier New',monospace\"><span style=\"color: #008080; text-decoration-color: #008080\">Fetching basic data for artist: </span><span style=\"color: #800080; text-decoration-color: #800080; font-weight: bold\">Bad Bunny</span><span style=\"color: #808000; text-decoration-color: #808000\">...</span>\n",
       "</pre>\n"
      ],
      "text/plain": [
       "\u001b[36mFetching basic data for artist: \u001b[0m\u001b[1;35mBad Bunny\u001b[0m\u001b[33m...\u001b[0m\n"
      ]
     },
     "metadata": {},
     "output_type": "display_data"
    },
    {
     "data": {
      "text/html": [
       "<pre style=\"white-space:pre;overflow-x:auto;line-height:normal;font-family:Menlo,'DejaVu Sans Mono',consolas,'Courier New',monospace\"><span style=\"color: #008000; text-decoration-color: #008000\">Successfully fetched data for </span><span style=\"color: #800080; text-decoration-color: #800080; font-weight: bold\">/search/</span><span style=\"color: #ff00ff; text-decoration-color: #ff00ff; font-weight: bold\">artist</span>\n",
       "</pre>\n"
      ],
      "text/plain": [
       "\u001b[32mSuccessfully fetched data for \u001b[0m\u001b[1;35m/search/\u001b[0m\u001b[1;95martist\u001b[0m\n"
      ]
     },
     "metadata": {},
     "output_type": "display_data"
    },
    {
     "data": {
      "text/html": [
       "<pre style=\"white-space:pre;overflow-x:auto;line-height:normal;font-family:Menlo,'DejaVu Sans Mono',consolas,'Courier New',monospace\"><span style=\"color: #008080; text-decoration-color: #008080\">Fetching basic data for artist: </span><span style=\"color: #800080; text-decoration-color: #800080; font-weight: bold\">Doja Cat</span><span style=\"color: #808000; text-decoration-color: #808000\">...</span>\n",
       "</pre>\n"
      ],
      "text/plain": [
       "\u001b[36mFetching basic data for artist: \u001b[0m\u001b[1;35mDoja Cat\u001b[0m\u001b[33m...\u001b[0m\n"
      ]
     },
     "metadata": {},
     "output_type": "display_data"
    },
    {
     "data": {
      "text/html": [
       "<pre style=\"white-space:pre;overflow-x:auto;line-height:normal;font-family:Menlo,'DejaVu Sans Mono',consolas,'Courier New',monospace\"><span style=\"color: #008000; text-decoration-color: #008000\">Successfully fetched data for </span><span style=\"color: #800080; text-decoration-color: #800080; font-weight: bold\">/search/</span><span style=\"color: #ff00ff; text-decoration-color: #ff00ff; font-weight: bold\">artist</span>\n",
       "</pre>\n"
      ],
      "text/plain": [
       "\u001b[32mSuccessfully fetched data for \u001b[0m\u001b[1;35m/search/\u001b[0m\u001b[1;95martist\u001b[0m\n"
      ]
     },
     "metadata": {},
     "output_type": "display_data"
    },
    {
     "data": {
      "text/html": [
       "<pre style=\"white-space:pre;overflow-x:auto;line-height:normal;font-family:Menlo,'DejaVu Sans Mono',consolas,'Courier New',monospace\"><span style=\"color: #008080; text-decoration-color: #008080\">Fetching basic data for artist: </span><span style=\"color: #800080; text-decoration-color: #800080; font-weight: bold\">Olivia Rodrigo</span><span style=\"color: #808000; text-decoration-color: #808000\">...</span>\n",
       "</pre>\n"
      ],
      "text/plain": [
       "\u001b[36mFetching basic data for artist: \u001b[0m\u001b[1;35mOlivia Rodrigo\u001b[0m\u001b[33m...\u001b[0m\n"
      ]
     },
     "metadata": {},
     "output_type": "display_data"
    },
    {
     "data": {
      "text/html": [
       "<pre style=\"white-space:pre;overflow-x:auto;line-height:normal;font-family:Menlo,'DejaVu Sans Mono',consolas,'Courier New',monospace\"><span style=\"color: #008000; text-decoration-color: #008000\">Successfully fetched data for </span><span style=\"color: #800080; text-decoration-color: #800080; font-weight: bold\">/search/</span><span style=\"color: #ff00ff; text-decoration-color: #ff00ff; font-weight: bold\">artist</span>\n",
       "</pre>\n"
      ],
      "text/plain": [
       "\u001b[32mSuccessfully fetched data for \u001b[0m\u001b[1;35m/search/\u001b[0m\u001b[1;95martist\u001b[0m\n"
      ]
     },
     "metadata": {},
     "output_type": "display_data"
    },
    {
     "data": {
      "text/html": [
       "<pre style=\"white-space:pre;overflow-x:auto;line-height:normal;font-family:Menlo,'DejaVu Sans Mono',consolas,'Courier New',monospace\"><span style=\"color: #008080; text-decoration-color: #008080\">Fetching basic data for artist: </span><span style=\"color: #800080; text-decoration-color: #800080; font-weight: bold\">SZA</span><span style=\"color: #808000; text-decoration-color: #808000\">...</span>\n",
       "</pre>\n"
      ],
      "text/plain": [
       "\u001b[36mFetching basic data for artist: \u001b[0m\u001b[1;35mSZA\u001b[0m\u001b[33m...\u001b[0m\n"
      ]
     },
     "metadata": {},
     "output_type": "display_data"
    },
    {
     "data": {
      "text/html": [
       "<pre style=\"white-space:pre;overflow-x:auto;line-height:normal;font-family:Menlo,'DejaVu Sans Mono',consolas,'Courier New',monospace\"><span style=\"color: #008000; text-decoration-color: #008000\">Successfully fetched data for </span><span style=\"color: #800080; text-decoration-color: #800080; font-weight: bold\">/search/</span><span style=\"color: #ff00ff; text-decoration-color: #ff00ff; font-weight: bold\">artist</span>\n",
       "</pre>\n"
      ],
      "text/plain": [
       "\u001b[32mSuccessfully fetched data for \u001b[0m\u001b[1;35m/search/\u001b[0m\u001b[1;95martist\u001b[0m\n"
      ]
     },
     "metadata": {},
     "output_type": "display_data"
    },
    {
     "data": {
      "text/html": [
       "<pre style=\"white-space:pre;overflow-x:auto;line-height:normal;font-family:Menlo,'DejaVu Sans Mono',consolas,'Courier New',monospace\"><span style=\"color: #008080; text-decoration-color: #008080\">Fetching basic data for artist: </span><span style=\"color: #800080; text-decoration-color: #800080; font-weight: bold\">Lil Nas X</span><span style=\"color: #808000; text-decoration-color: #808000\">...</span>\n",
       "</pre>\n"
      ],
      "text/plain": [
       "\u001b[36mFetching basic data for artist: \u001b[0m\u001b[1;35mLil Nas X\u001b[0m\u001b[33m...\u001b[0m\n"
      ]
     },
     "metadata": {},
     "output_type": "display_data"
    },
    {
     "data": {
      "text/html": [
       "<pre style=\"white-space:pre;overflow-x:auto;line-height:normal;font-family:Menlo,'DejaVu Sans Mono',consolas,'Courier New',monospace\"><span style=\"color: #008000; text-decoration-color: #008000\">Successfully fetched data for </span><span style=\"color: #800080; text-decoration-color: #800080; font-weight: bold\">/search/</span><span style=\"color: #ff00ff; text-decoration-color: #ff00ff; font-weight: bold\">artist</span>\n",
       "</pre>\n"
      ],
      "text/plain": [
       "\u001b[32mSuccessfully fetched data for \u001b[0m\u001b[1;35m/search/\u001b[0m\u001b[1;95martist\u001b[0m\n"
      ]
     },
     "metadata": {},
     "output_type": "display_data"
    },
    {
     "data": {
      "text/html": [
       "<pre style=\"white-space:pre;overflow-x:auto;line-height:normal;font-family:Menlo,'DejaVu Sans Mono',consolas,'Courier New',monospace\"><span style=\"color: #008080; text-decoration-color: #008080\">Fetching basic data for artist: </span><span style=\"color: #800080; text-decoration-color: #800080; font-weight: bold\">Megan Thee Stallion</span><span style=\"color: #808000; text-decoration-color: #808000\">...</span>\n",
       "</pre>\n"
      ],
      "text/plain": [
       "\u001b[36mFetching basic data for artist: \u001b[0m\u001b[1;35mMegan Thee Stallion\u001b[0m\u001b[33m...\u001b[0m\n"
      ]
     },
     "metadata": {},
     "output_type": "display_data"
    },
    {
     "data": {
      "text/html": [
       "<pre style=\"white-space:pre;overflow-x:auto;line-height:normal;font-family:Menlo,'DejaVu Sans Mono',consolas,'Courier New',monospace\"><span style=\"color: #008000; text-decoration-color: #008000\">Successfully fetched data for </span><span style=\"color: #800080; text-decoration-color: #800080; font-weight: bold\">/search/</span><span style=\"color: #ff00ff; text-decoration-color: #ff00ff; font-weight: bold\">artist</span>\n",
       "</pre>\n"
      ],
      "text/plain": [
       "\u001b[32mSuccessfully fetched data for \u001b[0m\u001b[1;35m/search/\u001b[0m\u001b[1;95martist\u001b[0m\n"
      ]
     },
     "metadata": {},
     "output_type": "display_data"
    },
    {
     "data": {
      "text/html": [
       "<pre style=\"white-space:pre;overflow-x:auto;line-height:normal;font-family:Menlo,'DejaVu Sans Mono',consolas,'Courier New',monospace\"><span style=\"color: #008080; text-decoration-color: #008080\">Fetching basic data for artist: </span><span style=\"color: #800080; text-decoration-color: #800080; font-weight: bold\">BLACKPINK</span><span style=\"color: #808000; text-decoration-color: #808000\">...</span>\n",
       "</pre>\n"
      ],
      "text/plain": [
       "\u001b[36mFetching basic data for artist: \u001b[0m\u001b[1;35mBLACKPINK\u001b[0m\u001b[33m...\u001b[0m\n"
      ]
     },
     "metadata": {},
     "output_type": "display_data"
    },
    {
     "data": {
      "text/html": [
       "<pre style=\"white-space:pre;overflow-x:auto;line-height:normal;font-family:Menlo,'DejaVu Sans Mono',consolas,'Courier New',monospace\"><span style=\"color: #008000; text-decoration-color: #008000\">Successfully fetched data for </span><span style=\"color: #800080; text-decoration-color: #800080; font-weight: bold\">/search/</span><span style=\"color: #ff00ff; text-decoration-color: #ff00ff; font-weight: bold\">artist</span>\n",
       "</pre>\n"
      ],
      "text/plain": [
       "\u001b[32mSuccessfully fetched data for \u001b[0m\u001b[1;35m/search/\u001b[0m\u001b[1;95martist\u001b[0m\n"
      ]
     },
     "metadata": {},
     "output_type": "display_data"
    },
    {
     "data": {
      "text/html": [
       "<pre style=\"white-space:pre;overflow-x:auto;line-height:normal;font-family:Menlo,'DejaVu Sans Mono',consolas,'Courier New',monospace\"><span style=\"color: #008080; text-decoration-color: #008080\">Fetching basic data for artist: </span><span style=\"color: #800080; text-decoration-color: #800080; font-weight: bold\">Camila Cabello</span><span style=\"color: #808000; text-decoration-color: #808000\">...</span>\n",
       "</pre>\n"
      ],
      "text/plain": [
       "\u001b[36mFetching basic data for artist: \u001b[0m\u001b[1;35mCamila Cabello\u001b[0m\u001b[33m...\u001b[0m\n"
      ]
     },
     "metadata": {},
     "output_type": "display_data"
    },
    {
     "data": {
      "text/html": [
       "<pre style=\"white-space:pre;overflow-x:auto;line-height:normal;font-family:Menlo,'DejaVu Sans Mono',consolas,'Courier New',monospace\"><span style=\"color: #008000; text-decoration-color: #008000\">Successfully fetched data for </span><span style=\"color: #800080; text-decoration-color: #800080; font-weight: bold\">/search/</span><span style=\"color: #ff00ff; text-decoration-color: #ff00ff; font-weight: bold\">artist</span>\n",
       "</pre>\n"
      ],
      "text/plain": [
       "\u001b[32mSuccessfully fetched data for \u001b[0m\u001b[1;35m/search/\u001b[0m\u001b[1;95martist\u001b[0m\n"
      ]
     },
     "metadata": {},
     "output_type": "display_data"
    },
    {
     "data": {
      "text/html": [
       "<pre style=\"white-space:pre;overflow-x:auto;line-height:normal;font-family:Menlo,'DejaVu Sans Mono',consolas,'Courier New',monospace\"><span style=\"color: #008080; text-decoration-color: #008080\">Fetching basic data for artist: </span><span style=\"color: #800080; text-decoration-color: #800080; font-weight: bold\">Jonas Brothers</span><span style=\"color: #808000; text-decoration-color: #808000\">...</span>\n",
       "</pre>\n"
      ],
      "text/plain": [
       "\u001b[36mFetching basic data for artist: \u001b[0m\u001b[1;35mJonas Brothers\u001b[0m\u001b[33m...\u001b[0m\n"
      ]
     },
     "metadata": {},
     "output_type": "display_data"
    },
    {
     "data": {
      "text/html": [
       "<pre style=\"white-space:pre;overflow-x:auto;line-height:normal;font-family:Menlo,'DejaVu Sans Mono',consolas,'Courier New',monospace\"><span style=\"color: #008000; text-decoration-color: #008000\">Successfully fetched data for </span><span style=\"color: #800080; text-decoration-color: #800080; font-weight: bold\">/search/</span><span style=\"color: #ff00ff; text-decoration-color: #ff00ff; font-weight: bold\">artist</span>\n",
       "</pre>\n"
      ],
      "text/plain": [
       "\u001b[32mSuccessfully fetched data for \u001b[0m\u001b[1;35m/search/\u001b[0m\u001b[1;95martist\u001b[0m\n"
      ]
     },
     "metadata": {},
     "output_type": "display_data"
    },
    {
     "data": {
      "text/html": [
       "<pre style=\"white-space:pre;overflow-x:auto;line-height:normal;font-family:Menlo,'DejaVu Sans Mono',consolas,'Courier New',monospace\"><span style=\"color: #008080; text-decoration-color: #008080\">Fetching basic data for artist: </span><span style=\"color: #800080; text-decoration-color: #800080; font-weight: bold\">Nicki Minaj</span><span style=\"color: #808000; text-decoration-color: #808000\">...</span>\n",
       "</pre>\n"
      ],
      "text/plain": [
       "\u001b[36mFetching basic data for artist: \u001b[0m\u001b[1;35mNicki Minaj\u001b[0m\u001b[33m...\u001b[0m\n"
      ]
     },
     "metadata": {},
     "output_type": "display_data"
    },
    {
     "data": {
      "text/html": [
       "<pre style=\"white-space:pre;overflow-x:auto;line-height:normal;font-family:Menlo,'DejaVu Sans Mono',consolas,'Courier New',monospace\"><span style=\"color: #008000; text-decoration-color: #008000\">Successfully fetched data for </span><span style=\"color: #800080; text-decoration-color: #800080; font-weight: bold\">/search/</span><span style=\"color: #ff00ff; text-decoration-color: #ff00ff; font-weight: bold\">artist</span>\n",
       "</pre>\n"
      ],
      "text/plain": [
       "\u001b[32mSuccessfully fetched data for \u001b[0m\u001b[1;35m/search/\u001b[0m\u001b[1;95martist\u001b[0m\n"
      ]
     },
     "metadata": {},
     "output_type": "display_data"
    },
    {
     "data": {
      "text/html": [
       "<pre style=\"white-space:pre;overflow-x:auto;line-height:normal;font-family:Menlo,'DejaVu Sans Mono',consolas,'Courier New',monospace\"><span style=\"color: #008000; text-decoration-color: #008000; font-weight: bold\">Extracted data for </span><span style=\"color: #008000; text-decoration-color: #008000; font-weight: bold\">49</span><span style=\"color: #008000; text-decoration-color: #008000; font-weight: bold\"> artists.</span>\n",
       "</pre>\n"
      ],
      "text/plain": [
       "\u001b[1;32mExtracted data for \u001b[0m\u001b[1;32m49\u001b[0m\u001b[1;32m artists.\u001b[0m\n"
      ]
     },
     "metadata": {},
     "output_type": "display_data"
    },
    {
     "data": {
      "text/html": [
       "<pre style=\"white-space:pre;overflow-x:auto;line-height:normal;font-family:Menlo,'DejaVu Sans Mono',consolas,'Courier New',monospace\"><span style=\"color: #008080; text-decoration-color: #008080\">Fetching detailed data for artist ID: </span><span style=\"color: #008080; text-decoration-color: #008080; font-weight: bold\">1436111</span><span style=\"color: #808000; text-decoration-color: #808000\">...</span>\n",
       "</pre>\n"
      ],
      "text/plain": [
       "\u001b[36mFetching detailed data for artist ID: \u001b[0m\u001b[1;36m1436111\u001b[0m\u001b[33m...\u001b[0m\n"
      ]
     },
     "metadata": {},
     "output_type": "display_data"
    },
    {
     "data": {
      "text/html": [
       "<pre style=\"white-space:pre;overflow-x:auto;line-height:normal;font-family:Menlo,'DejaVu Sans Mono',consolas,'Courier New',monospace\"><span style=\"color: #008000; text-decoration-color: #008000\">Successfully fetched data for </span><span style=\"color: #800080; text-decoration-color: #800080; font-weight: bold\">/artist/</span><span style=\"color: #ff00ff; text-decoration-color: #ff00ff; font-weight: bold\">1436111</span>\n",
       "</pre>\n"
      ],
      "text/plain": [
       "\u001b[32mSuccessfully fetched data for \u001b[0m\u001b[1;35m/artist/\u001b[0m\u001b[1;95m1436111\u001b[0m\n"
      ]
     },
     "metadata": {},
     "output_type": "display_data"
    },
    {
     "data": {
      "text/html": [
       "<pre style=\"white-space:pre;overflow-x:auto;line-height:normal;font-family:Menlo,'DejaVu Sans Mono',consolas,'Courier New',monospace\"><span style=\"color: #008080; text-decoration-color: #008080\">Fetching detailed data for artist ID: </span><span style=\"color: #008080; text-decoration-color: #008080; font-weight: bold\">5286</span><span style=\"color: #808000; text-decoration-color: #808000\">...</span>\n",
       "</pre>\n"
      ],
      "text/plain": [
       "\u001b[36mFetching detailed data for artist ID: \u001b[0m\u001b[1;36m5286\u001b[0m\u001b[33m...\u001b[0m\n"
      ]
     },
     "metadata": {},
     "output_type": "display_data"
    },
    {
     "data": {
      "text/html": [
       "<pre style=\"white-space:pre;overflow-x:auto;line-height:normal;font-family:Menlo,'DejaVu Sans Mono',consolas,'Courier New',monospace\"><span style=\"color: #008000; text-decoration-color: #008000\">Successfully fetched data for </span><span style=\"color: #800080; text-decoration-color: #800080; font-weight: bold\">/artist/</span><span style=\"color: #ff00ff; text-decoration-color: #ff00ff; font-weight: bold\">5286</span>\n",
       "</pre>\n"
      ],
      "text/plain": [
       "\u001b[32mSuccessfully fetched data for \u001b[0m\u001b[1;35m/artist/\u001b[0m\u001b[1;95m5286\u001b[0m\n"
      ]
     },
     "metadata": {},
     "output_type": "display_data"
    },
    {
     "data": {
      "text/html": [
       "<pre style=\"white-space:pre;overflow-x:auto;line-height:normal;font-family:Menlo,'DejaVu Sans Mono',consolas,'Courier New',monospace\"><span style=\"color: #008080; text-decoration-color: #008080\">Fetching detailed data for artist ID: </span><span style=\"color: #008080; text-decoration-color: #008080; font-weight: bold\">12033224</span><span style=\"color: #808000; text-decoration-color: #808000\">...</span>\n",
       "</pre>\n"
      ],
      "text/plain": [
       "\u001b[36mFetching detailed data for artist ID: \u001b[0m\u001b[1;36m12033224\u001b[0m\u001b[33m...\u001b[0m\n"
      ]
     },
     "metadata": {},
     "output_type": "display_data"
    },
    {
     "data": {
      "text/html": [
       "<pre style=\"white-space:pre;overflow-x:auto;line-height:normal;font-family:Menlo,'DejaVu Sans Mono',consolas,'Courier New',monospace\"><span style=\"color: #008000; text-decoration-color: #008000\">Successfully fetched data for </span><span style=\"color: #800080; text-decoration-color: #800080; font-weight: bold\">/artist/</span><span style=\"color: #ff00ff; text-decoration-color: #ff00ff; font-weight: bold\">12033224</span>\n",
       "</pre>\n"
      ],
      "text/plain": [
       "\u001b[32mSuccessfully fetched data for \u001b[0m\u001b[1;35m/artist/\u001b[0m\u001b[1;95m12033224\u001b[0m\n"
      ]
     },
     "metadata": {},
     "output_type": "display_data"
    },
    {
     "data": {
      "text/html": [
       "<pre style=\"white-space:pre;overflow-x:auto;line-height:normal;font-family:Menlo,'DejaVu Sans Mono',consolas,'Courier New',monospace\"><span style=\"color: #008080; text-decoration-color: #008080\">Fetching detailed data for artist ID: </span><span style=\"color: #008080; text-decoration-color: #008080; font-weight: bold\">9700940</span><span style=\"color: #808000; text-decoration-color: #808000\">...</span>\n",
       "</pre>\n"
      ],
      "text/plain": [
       "\u001b[36mFetching detailed data for artist ID: \u001b[0m\u001b[1;36m9700940\u001b[0m\u001b[33m...\u001b[0m\n"
      ]
     },
     "metadata": {},
     "output_type": "display_data"
    },
    {
     "data": {
      "text/html": [
       "<pre style=\"white-space:pre;overflow-x:auto;line-height:normal;font-family:Menlo,'DejaVu Sans Mono',consolas,'Courier New',monospace\"><span style=\"color: #008000; text-decoration-color: #008000\">Successfully fetched data for </span><span style=\"color: #800080; text-decoration-color: #800080; font-weight: bold\">/artist/</span><span style=\"color: #ff00ff; text-decoration-color: #ff00ff; font-weight: bold\">9700940</span>\n",
       "</pre>\n"
      ],
      "text/plain": [
       "\u001b[32mSuccessfully fetched data for \u001b[0m\u001b[1;35m/artist/\u001b[0m\u001b[1;95m9700940\u001b[0m\n"
      ]
     },
     "metadata": {},
     "output_type": "display_data"
    },
    {
     "data": {
      "text/html": [
       "<pre style=\"white-space:pre;overflow-x:auto;line-height:normal;font-family:Menlo,'DejaVu Sans Mono',consolas,'Courier New',monospace\"><span style=\"color: #008080; text-decoration-color: #008080\">Fetching detailed data for artist ID: </span><span style=\"color: #008080; text-decoration-color: #008080; font-weight: bold\">7584298</span><span style=\"color: #808000; text-decoration-color: #808000\">...</span>\n",
       "</pre>\n"
      ],
      "text/plain": [
       "\u001b[36mFetching detailed data for artist ID: \u001b[0m\u001b[1;36m7584298\u001b[0m\u001b[33m...\u001b[0m\n"
      ]
     },
     "metadata": {},
     "output_type": "display_data"
    },
    {
     "data": {
      "text/html": [
       "<pre style=\"white-space:pre;overflow-x:auto;line-height:normal;font-family:Menlo,'DejaVu Sans Mono',consolas,'Courier New',monospace\"><span style=\"color: #008000; text-decoration-color: #008000\">Successfully fetched data for </span><span style=\"color: #800080; text-decoration-color: #800080; font-weight: bold\">/artist/</span><span style=\"color: #ff00ff; text-decoration-color: #ff00ff; font-weight: bold\">7584298</span>\n",
       "</pre>\n"
      ],
      "text/plain": [
       "\u001b[32mSuccessfully fetched data for \u001b[0m\u001b[1;35m/artist/\u001b[0m\u001b[1;95m7584298\u001b[0m\n"
      ]
     },
     "metadata": {},
     "output_type": "display_data"
    },
    {
     "data": {
      "text/html": [
       "<pre style=\"white-space:pre;overflow-x:auto;line-height:normal;font-family:Menlo,'DejaVu Sans Mono',consolas,'Courier New',monospace\"><span style=\"color: #008080; text-decoration-color: #008080\">Fetching detailed data for artist ID: </span><span style=\"color: #008080; text-decoration-color: #008080; font-weight: bold\">12246</span><span style=\"color: #808000; text-decoration-color: #808000\">...</span>\n",
       "</pre>\n"
      ],
      "text/plain": [
       "\u001b[36mFetching detailed data for artist ID: \u001b[0m\u001b[1;36m12246\u001b[0m\u001b[33m...\u001b[0m\n"
      ]
     },
     "metadata": {},
     "output_type": "display_data"
    },
    {
     "data": {
      "text/html": [
       "<pre style=\"white-space:pre;overflow-x:auto;line-height:normal;font-family:Menlo,'DejaVu Sans Mono',consolas,'Courier New',monospace\"><span style=\"color: #008000; text-decoration-color: #008000\">Successfully fetched data for </span><span style=\"color: #800080; text-decoration-color: #800080; font-weight: bold\">/artist/</span><span style=\"color: #ff00ff; text-decoration-color: #ff00ff; font-weight: bold\">12246</span>\n",
       "</pre>\n"
      ],
      "text/plain": [
       "\u001b[32mSuccessfully fetched data for \u001b[0m\u001b[1;35m/artist/\u001b[0m\u001b[1;95m12246\u001b[0m\n"
      ]
     },
     "metadata": {},
     "output_type": "display_data"
    },
    {
     "data": {
      "text/html": [
       "<pre style=\"white-space:pre;overflow-x:auto;line-height:normal;font-family:Menlo,'DejaVu Sans Mono',consolas,'Courier New',monospace\"><span style=\"color: #008080; text-decoration-color: #008080\">Fetching detailed data for artist ID: </span><span style=\"color: #008080; text-decoration-color: #008080; font-weight: bold\">5962948</span><span style=\"color: #808000; text-decoration-color: #808000\">...</span>\n",
       "</pre>\n"
      ],
      "text/plain": [
       "\u001b[36mFetching detailed data for artist ID: \u001b[0m\u001b[1;36m5962948\u001b[0m\u001b[33m...\u001b[0m\n"
      ]
     },
     "metadata": {},
     "output_type": "display_data"
    },
    {
     "data": {
      "text/html": [
       "<pre style=\"white-space:pre;overflow-x:auto;line-height:normal;font-family:Menlo,'DejaVu Sans Mono',consolas,'Courier New',monospace\"><span style=\"color: #008000; text-decoration-color: #008000\">Successfully fetched data for </span><span style=\"color: #800080; text-decoration-color: #800080; font-weight: bold\">/artist/</span><span style=\"color: #ff00ff; text-decoration-color: #ff00ff; font-weight: bold\">5962948</span>\n",
       "</pre>\n"
      ],
      "text/plain": [
       "\u001b[32mSuccessfully fetched data for \u001b[0m\u001b[1;35m/artist/\u001b[0m\u001b[1;95m5962948\u001b[0m\n"
      ]
     },
     "metadata": {},
     "output_type": "display_data"
    },
    {
     "data": {
      "text/html": [
       "<pre style=\"white-space:pre;overflow-x:auto;line-height:normal;font-family:Menlo,'DejaVu Sans Mono',consolas,'Courier New',monospace\"><span style=\"color: #008080; text-decoration-color: #008080\">Fetching detailed data for artist ID: </span><span style=\"color: #008080; text-decoration-color: #008080; font-weight: bold\">144227</span><span style=\"color: #808000; text-decoration-color: #808000\">...</span>\n",
       "</pre>\n"
      ],
      "text/plain": [
       "\u001b[36mFetching detailed data for artist ID: \u001b[0m\u001b[1;36m144227\u001b[0m\u001b[33m...\u001b[0m\n"
      ]
     },
     "metadata": {},
     "output_type": "display_data"
    },
    {
     "data": {
      "text/html": [
       "<pre style=\"white-space:pre;overflow-x:auto;line-height:normal;font-family:Menlo,'DejaVu Sans Mono',consolas,'Courier New',monospace\"><span style=\"color: #008000; text-decoration-color: #008000\">Successfully fetched data for </span><span style=\"color: #800080; text-decoration-color: #800080; font-weight: bold\">/artist/</span><span style=\"color: #ff00ff; text-decoration-color: #ff00ff; font-weight: bold\">144227</span>\n",
       "</pre>\n"
      ],
      "text/plain": [
       "\u001b[32mSuccessfully fetched data for \u001b[0m\u001b[1;35m/artist/\u001b[0m\u001b[1;95m144227\u001b[0m\n"
      ]
     },
     "metadata": {},
     "output_type": "display_data"
    },
    {
     "data": {
      "text/html": [
       "<pre style=\"white-space:pre;overflow-x:auto;line-height:normal;font-family:Menlo,'DejaVu Sans Mono',consolas,'Courier New',monospace\"><span style=\"color: #008080; text-decoration-color: #008080\">Fetching detailed data for artist ID: </span><span style=\"color: #008080; text-decoration-color: #008080; font-weight: bold\">1181430</span><span style=\"color: #808000; text-decoration-color: #808000\">...</span>\n",
       "</pre>\n"
      ],
      "text/plain": [
       "\u001b[36mFetching detailed data for artist ID: \u001b[0m\u001b[1;36m1181430\u001b[0m\u001b[33m...\u001b[0m\n"
      ]
     },
     "metadata": {},
     "output_type": "display_data"
    },
    {
     "data": {
      "text/html": [
       "<pre style=\"white-space:pre;overflow-x:auto;line-height:normal;font-family:Menlo,'DejaVu Sans Mono',consolas,'Courier New',monospace\"><span style=\"color: #008000; text-decoration-color: #008000\">Successfully fetched data for </span><span style=\"color: #800080; text-decoration-color: #800080; font-weight: bold\">/artist/</span><span style=\"color: #ff00ff; text-decoration-color: #ff00ff; font-weight: bold\">1181430</span>\n",
       "</pre>\n"
      ],
      "text/plain": [
       "\u001b[32mSuccessfully fetched data for \u001b[0m\u001b[1;35m/artist/\u001b[0m\u001b[1;95m1181430\u001b[0m\n"
      ]
     },
     "metadata": {},
     "output_type": "display_data"
    },
    {
     "data": {
      "text/html": [
       "<pre style=\"white-space:pre;overflow-x:auto;line-height:normal;font-family:Menlo,'DejaVu Sans Mono',consolas,'Courier New',monospace\"><span style=\"color: #008080; text-decoration-color: #008080\">Fetching detailed data for artist ID: </span><span style=\"color: #008080; text-decoration-color: #008080; font-weight: bold\">1562681</span><span style=\"color: #808000; text-decoration-color: #808000\">...</span>\n",
       "</pre>\n"
      ],
      "text/plain": [
       "\u001b[36mFetching detailed data for artist ID: \u001b[0m\u001b[1;36m1562681\u001b[0m\u001b[33m...\u001b[0m\n"
      ]
     },
     "metadata": {},
     "output_type": "display_data"
    },
    {
     "data": {
      "text/html": [
       "<pre style=\"white-space:pre;overflow-x:auto;line-height:normal;font-family:Menlo,'DejaVu Sans Mono',consolas,'Courier New',monospace\"><span style=\"color: #008000; text-decoration-color: #008000\">Successfully fetched data for </span><span style=\"color: #800080; text-decoration-color: #800080; font-weight: bold\">/artist/</span><span style=\"color: #ff00ff; text-decoration-color: #ff00ff; font-weight: bold\">1562681</span>\n",
       "</pre>\n"
      ],
      "text/plain": [
       "\u001b[32mSuccessfully fetched data for \u001b[0m\u001b[1;35m/artist/\u001b[0m\u001b[1;95m1562681\u001b[0m\n"
      ]
     },
     "metadata": {},
     "output_type": "display_data"
    },
    {
     "data": {
      "text/html": [
       "<pre style=\"white-space:pre;overflow-x:auto;line-height:normal;font-family:Menlo,'DejaVu Sans Mono',consolas,'Courier New',monospace\"><span style=\"color: #008080; text-decoration-color: #008080\">Fetching detailed data for artist ID: </span><span style=\"color: #008080; text-decoration-color: #008080; font-weight: bold\">7185748</span><span style=\"color: #808000; text-decoration-color: #808000\">...</span>\n",
       "</pre>\n"
      ],
      "text/plain": [
       "\u001b[36mFetching detailed data for artist ID: \u001b[0m\u001b[1;36m7185748\u001b[0m\u001b[33m...\u001b[0m\n"
      ]
     },
     "metadata": {},
     "output_type": "display_data"
    },
    {
     "data": {
      "text/html": [
       "<pre style=\"white-space:pre;overflow-x:auto;line-height:normal;font-family:Menlo,'DejaVu Sans Mono',consolas,'Courier New',monospace\"><span style=\"color: #008000; text-decoration-color: #008000\">Successfully fetched data for </span><span style=\"color: #800080; text-decoration-color: #800080; font-weight: bold\">/artist/</span><span style=\"color: #ff00ff; text-decoration-color: #ff00ff; font-weight: bold\">7185748</span>\n",
       "</pre>\n"
      ],
      "text/plain": [
       "\u001b[32mSuccessfully fetched data for \u001b[0m\u001b[1;35m/artist/\u001b[0m\u001b[1;95m7185748\u001b[0m\n"
      ]
     },
     "metadata": {},
     "output_type": "display_data"
    },
    {
     "data": {
      "text/html": [
       "<pre style=\"white-space:pre;overflow-x:auto;line-height:normal;font-family:Menlo,'DejaVu Sans Mono',consolas,'Courier New',monospace\"><span style=\"color: #008080; text-decoration-color: #008080\">Fetching detailed data for artist ID: </span><span style=\"color: #008080; text-decoration-color: #008080; font-weight: bold\">68249</span><span style=\"color: #808000; text-decoration-color: #808000\">...</span>\n",
       "</pre>\n"
      ],
      "text/plain": [
       "\u001b[36mFetching detailed data for artist ID: \u001b[0m\u001b[1;36m68249\u001b[0m\u001b[33m...\u001b[0m\n"
      ]
     },
     "metadata": {},
     "output_type": "display_data"
    },
    {
     "data": {
      "text/html": [
       "<pre style=\"white-space:pre;overflow-x:auto;line-height:normal;font-family:Menlo,'DejaVu Sans Mono',consolas,'Courier New',monospace\"><span style=\"color: #008000; text-decoration-color: #008000\">Successfully fetched data for </span><span style=\"color: #800080; text-decoration-color: #800080; font-weight: bold\">/artist/</span><span style=\"color: #ff00ff; text-decoration-color: #ff00ff; font-weight: bold\">68249</span>\n",
       "</pre>\n"
      ],
      "text/plain": [
       "\u001b[32mSuccessfully fetched data for \u001b[0m\u001b[1;35m/artist/\u001b[0m\u001b[1;95m68249\u001b[0m\n"
      ]
     },
     "metadata": {},
     "output_type": "display_data"
    },
    {
     "data": {
      "text/html": [
       "<pre style=\"white-space:pre;overflow-x:auto;line-height:normal;font-family:Menlo,'DejaVu Sans Mono',consolas,'Courier New',monospace\"><span style=\"color: #008080; text-decoration-color: #008080\">Fetching detailed data for artist ID: </span><span style=\"color: #008080; text-decoration-color: #008080; font-weight: bold\">12945219</span><span style=\"color: #808000; text-decoration-color: #808000\">...</span>\n",
       "</pre>\n"
      ],
      "text/plain": [
       "\u001b[36mFetching detailed data for artist ID: \u001b[0m\u001b[1;36m12945219\u001b[0m\u001b[33m...\u001b[0m\n"
      ]
     },
     "metadata": {},
     "output_type": "display_data"
    },
    {
     "data": {
      "text/html": [
       "<pre style=\"white-space:pre;overflow-x:auto;line-height:normal;font-family:Menlo,'DejaVu Sans Mono',consolas,'Courier New',monospace\"><span style=\"color: #008000; text-decoration-color: #008000\">Successfully fetched data for </span><span style=\"color: #800080; text-decoration-color: #800080; font-weight: bold\">/artist/</span><span style=\"color: #ff00ff; text-decoration-color: #ff00ff; font-weight: bold\">12945219</span>\n",
       "</pre>\n"
      ],
      "text/plain": [
       "\u001b[32mSuccessfully fetched data for \u001b[0m\u001b[1;35m/artist/\u001b[0m\u001b[1;95m12945219\u001b[0m\n"
      ]
     },
     "metadata": {},
     "output_type": "display_data"
    },
    {
     "data": {
      "text/html": [
       "<pre style=\"white-space:pre;overflow-x:auto;line-height:normal;font-family:Menlo,'DejaVu Sans Mono',consolas,'Courier New',monospace\"><span style=\"color: #008080; text-decoration-color: #008080\">Fetching detailed data for artist ID: </span><span style=\"color: #008080; text-decoration-color: #008080; font-weight: bold\">14226477</span><span style=\"color: #808000; text-decoration-color: #808000\">...</span>\n",
       "</pre>\n"
      ],
      "text/plain": [
       "\u001b[36mFetching detailed data for artist ID: \u001b[0m\u001b[1;36m14226477\u001b[0m\u001b[33m...\u001b[0m\n"
      ]
     },
     "metadata": {},
     "output_type": "display_data"
    },
    {
     "data": {
      "text/html": [
       "<pre style=\"white-space:pre;overflow-x:auto;line-height:normal;font-family:Menlo,'DejaVu Sans Mono',consolas,'Courier New',monospace\"><span style=\"color: #008000; text-decoration-color: #008000\">Successfully fetched data for </span><span style=\"color: #800080; text-decoration-color: #800080; font-weight: bold\">/artist/</span><span style=\"color: #ff00ff; text-decoration-color: #ff00ff; font-weight: bold\">14226477</span>\n",
       "</pre>\n"
      ],
      "text/plain": [
       "\u001b[32mSuccessfully fetched data for \u001b[0m\u001b[1;35m/artist/\u001b[0m\u001b[1;95m14226477\u001b[0m\n"
      ]
     },
     "metadata": {},
     "output_type": "display_data"
    },
    {
     "data": {
      "text/html": [
       "<pre style=\"white-space:pre;overflow-x:auto;line-height:normal;font-family:Menlo,'DejaVu Sans Mono',consolas,'Courier New',monospace\"><span style=\"color: #008080; text-decoration-color: #008080\">Fetching detailed data for artist ID: </span><span style=\"color: #008080; text-decoration-color: #008080; font-weight: bold\">13022633</span><span style=\"color: #808000; text-decoration-color: #808000\">...</span>\n",
       "</pre>\n"
      ],
      "text/plain": [
       "\u001b[36mFetching detailed data for artist ID: \u001b[0m\u001b[1;36m13022633\u001b[0m\u001b[33m...\u001b[0m\n"
      ]
     },
     "metadata": {},
     "output_type": "display_data"
    },
    {
     "data": {
      "text/html": [
       "<pre style=\"white-space:pre;overflow-x:auto;line-height:normal;font-family:Menlo,'DejaVu Sans Mono',consolas,'Courier New',monospace\"><span style=\"color: #008000; text-decoration-color: #008000\">Successfully fetched data for </span><span style=\"color: #800080; text-decoration-color: #800080; font-weight: bold\">/artist/</span><span style=\"color: #ff00ff; text-decoration-color: #ff00ff; font-weight: bold\">13022633</span>\n",
       "</pre>\n"
      ],
      "text/plain": [
       "\u001b[32mSuccessfully fetched data for \u001b[0m\u001b[1;35m/artist/\u001b[0m\u001b[1;95m13022633\u001b[0m\n"
      ]
     },
     "metadata": {},
     "output_type": "display_data"
    },
    {
     "data": {
      "text/html": [
       "<pre style=\"white-space:pre;overflow-x:auto;line-height:normal;font-family:Menlo,'DejaVu Sans Mono',consolas,'Courier New',monospace\"><span style=\"color: #008080; text-decoration-color: #008080\">Fetching detailed data for artist ID: </span><span style=\"color: #008080; text-decoration-color: #008080; font-weight: bold\">12096038</span><span style=\"color: #808000; text-decoration-color: #808000\">...</span>\n",
       "</pre>\n"
      ],
      "text/plain": [
       "\u001b[36mFetching detailed data for artist ID: \u001b[0m\u001b[1;36m12096038\u001b[0m\u001b[33m...\u001b[0m\n"
      ]
     },
     "metadata": {},
     "output_type": "display_data"
    },
    {
     "data": {
      "text/html": [
       "<pre style=\"white-space:pre;overflow-x:auto;line-height:normal;font-family:Menlo,'DejaVu Sans Mono',consolas,'Courier New',monospace\"><span style=\"color: #008000; text-decoration-color: #008000\">Successfully fetched data for </span><span style=\"color: #800080; text-decoration-color: #800080; font-weight: bold\">/artist/</span><span style=\"color: #ff00ff; text-decoration-color: #ff00ff; font-weight: bold\">12096038</span>\n",
       "</pre>\n"
      ],
      "text/plain": [
       "\u001b[32mSuccessfully fetched data for \u001b[0m\u001b[1;35m/artist/\u001b[0m\u001b[1;95m12096038\u001b[0m\n"
      ]
     },
     "metadata": {},
     "output_type": "display_data"
    },
    {
     "data": {
      "text/html": [
       "<pre style=\"white-space:pre;overflow-x:auto;line-height:normal;font-family:Menlo,'DejaVu Sans Mono',consolas,'Courier New',monospace\"><span style=\"color: #008080; text-decoration-color: #008080\">Fetching detailed data for artist ID: </span><span style=\"color: #008080; text-decoration-color: #008080; font-weight: bold\">246791</span><span style=\"color: #808000; text-decoration-color: #808000\">...</span>\n",
       "</pre>\n"
      ],
      "text/plain": [
       "\u001b[36mFetching detailed data for artist ID: \u001b[0m\u001b[1;36m246791\u001b[0m\u001b[33m...\u001b[0m\n"
      ]
     },
     "metadata": {},
     "output_type": "display_data"
    },
    {
     "data": {
      "text/html": [
       "<pre style=\"white-space:pre;overflow-x:auto;line-height:normal;font-family:Menlo,'DejaVu Sans Mono',consolas,'Courier New',monospace\"><span style=\"color: #008000; text-decoration-color: #008000\">Successfully fetched data for </span><span style=\"color: #800080; text-decoration-color: #800080; font-weight: bold\">/artist/</span><span style=\"color: #ff00ff; text-decoration-color: #ff00ff; font-weight: bold\">246791</span>\n",
       "</pre>\n"
      ],
      "text/plain": [
       "\u001b[32mSuccessfully fetched data for \u001b[0m\u001b[1;35m/artist/\u001b[0m\u001b[1;95m246791\u001b[0m\n"
      ]
     },
     "metadata": {},
     "output_type": "display_data"
    },
    {
     "data": {
      "text/html": [
       "<pre style=\"white-space:pre;overflow-x:auto;line-height:normal;font-family:Menlo,'DejaVu Sans Mono',consolas,'Courier New',monospace\"><span style=\"color: #008080; text-decoration-color: #008080\">Fetching detailed data for artist ID: </span><span style=\"color: #008080; text-decoration-color: #008080; font-weight: bold\">4037971</span><span style=\"color: #808000; text-decoration-color: #808000\">...</span>\n",
       "</pre>\n"
      ],
      "text/plain": [
       "\u001b[36mFetching detailed data for artist ID: \u001b[0m\u001b[1;36m4037971\u001b[0m\u001b[33m...\u001b[0m\n"
      ]
     },
     "metadata": {},
     "output_type": "display_data"
    },
    {
     "data": {
      "text/html": [
       "<pre style=\"white-space:pre;overflow-x:auto;line-height:normal;font-family:Menlo,'DejaVu Sans Mono',consolas,'Courier New',monospace\"><span style=\"color: #008000; text-decoration-color: #008000\">Successfully fetched data for </span><span style=\"color: #800080; text-decoration-color: #800080; font-weight: bold\">/artist/</span><span style=\"color: #ff00ff; text-decoration-color: #ff00ff; font-weight: bold\">4037971</span>\n",
       "</pre>\n"
      ],
      "text/plain": [
       "\u001b[32mSuccessfully fetched data for \u001b[0m\u001b[1;35m/artist/\u001b[0m\u001b[1;95m4037971\u001b[0m\n"
      ]
     },
     "metadata": {},
     "output_type": "display_data"
    },
    {
     "data": {
      "text/html": [
       "<pre style=\"white-space:pre;overflow-x:auto;line-height:normal;font-family:Menlo,'DejaVu Sans Mono',consolas,'Courier New',monospace\"><span style=\"color: #008080; text-decoration-color: #008080\">Fetching detailed data for artist ID: </span><span style=\"color: #008080; text-decoration-color: #008080; font-weight: bold\">9776678</span><span style=\"color: #808000; text-decoration-color: #808000\">...</span>\n",
       "</pre>\n"
      ],
      "text/plain": [
       "\u001b[36mFetching detailed data for artist ID: \u001b[0m\u001b[1;36m9776678\u001b[0m\u001b[33m...\u001b[0m\n"
      ]
     },
     "metadata": {},
     "output_type": "display_data"
    },
    {
     "data": {
      "text/html": [
       "<pre style=\"white-space:pre;overflow-x:auto;line-height:normal;font-family:Menlo,'DejaVu Sans Mono',consolas,'Courier New',monospace\"><span style=\"color: #008000; text-decoration-color: #008000\">Successfully fetched data for </span><span style=\"color: #800080; text-decoration-color: #800080; font-weight: bold\">/artist/</span><span style=\"color: #ff00ff; text-decoration-color: #ff00ff; font-weight: bold\">9776678</span>\n",
       "</pre>\n"
      ],
      "text/plain": [
       "\u001b[32mSuccessfully fetched data for \u001b[0m\u001b[1;35m/artist/\u001b[0m\u001b[1;95m9776678\u001b[0m\n"
      ]
     },
     "metadata": {},
     "output_type": "display_data"
    },
    {
     "data": {
      "text/html": [
       "<pre style=\"white-space:pre;overflow-x:auto;line-height:normal;font-family:Menlo,'DejaVu Sans Mono',consolas,'Courier New',monospace\"><span style=\"color: #008080; text-decoration-color: #008080\">Fetching detailed data for artist ID: </span><span style=\"color: #008080; text-decoration-color: #008080; font-weight: bold\">14492701</span><span style=\"color: #808000; text-decoration-color: #808000\">...</span>\n",
       "</pre>\n"
      ],
      "text/plain": [
       "\u001b[36mFetching detailed data for artist ID: \u001b[0m\u001b[1;36m14492701\u001b[0m\u001b[33m...\u001b[0m\n"
      ]
     },
     "metadata": {},
     "output_type": "display_data"
    },
    {
     "data": {
      "text/html": [
       "<pre style=\"white-space:pre;overflow-x:auto;line-height:normal;font-family:Menlo,'DejaVu Sans Mono',consolas,'Courier New',monospace\"><span style=\"color: #008000; text-decoration-color: #008000\">Successfully fetched data for </span><span style=\"color: #800080; text-decoration-color: #800080; font-weight: bold\">/artist/</span><span style=\"color: #ff00ff; text-decoration-color: #ff00ff; font-weight: bold\">14492701</span>\n",
       "</pre>\n"
      ],
      "text/plain": [
       "\u001b[32mSuccessfully fetched data for \u001b[0m\u001b[1;35m/artist/\u001b[0m\u001b[1;95m14492701\u001b[0m\n"
      ]
     },
     "metadata": {},
     "output_type": "display_data"
    },
    {
     "data": {
      "text/html": [
       "<pre style=\"white-space:pre;overflow-x:auto;line-height:normal;font-family:Menlo,'DejaVu Sans Mono',consolas,'Courier New',monospace\"><span style=\"color: #008080; text-decoration-color: #008080\">Fetching detailed data for artist ID: </span><span style=\"color: #008080; text-decoration-color: #008080; font-weight: bold\">384236</span><span style=\"color: #808000; text-decoration-color: #808000\">...</span>\n",
       "</pre>\n"
      ],
      "text/plain": [
       "\u001b[36mFetching detailed data for artist ID: \u001b[0m\u001b[1;36m384236\u001b[0m\u001b[33m...\u001b[0m\n"
      ]
     },
     "metadata": {},
     "output_type": "display_data"
    },
    {
     "data": {
      "text/html": [
       "<pre style=\"white-space:pre;overflow-x:auto;line-height:normal;font-family:Menlo,'DejaVu Sans Mono',consolas,'Courier New',monospace\"><span style=\"color: #008000; text-decoration-color: #008000\">Successfully fetched data for </span><span style=\"color: #800080; text-decoration-color: #800080; font-weight: bold\">/artist/</span><span style=\"color: #ff00ff; text-decoration-color: #ff00ff; font-weight: bold\">384236</span>\n",
       "</pre>\n"
      ],
      "text/plain": [
       "\u001b[32mSuccessfully fetched data for \u001b[0m\u001b[1;35m/artist/\u001b[0m\u001b[1;95m384236\u001b[0m\n"
      ]
     },
     "metadata": {},
     "output_type": "display_data"
    },
    {
     "data": {
      "text/html": [
       "<pre style=\"white-space:pre;overflow-x:auto;line-height:normal;font-family:Menlo,'DejaVu Sans Mono',consolas,'Courier New',monospace\"><span style=\"color: #008080; text-decoration-color: #008080\">Fetching detailed data for artist ID: </span><span style=\"color: #008080; text-decoration-color: #008080; font-weight: bold\">9635624</span><span style=\"color: #808000; text-decoration-color: #808000\">...</span>\n",
       "</pre>\n"
      ],
      "text/plain": [
       "\u001b[36mFetching detailed data for artist ID: \u001b[0m\u001b[1;36m9635624\u001b[0m\u001b[33m...\u001b[0m\n"
      ]
     },
     "metadata": {},
     "output_type": "display_data"
    },
    {
     "data": {
      "text/html": [
       "<pre style=\"white-space:pre;overflow-x:auto;line-height:normal;font-family:Menlo,'DejaVu Sans Mono',consolas,'Courier New',monospace\"><span style=\"color: #008000; text-decoration-color: #008000\">Successfully fetched data for </span><span style=\"color: #800080; text-decoration-color: #800080; font-weight: bold\">/artist/</span><span style=\"color: #ff00ff; text-decoration-color: #ff00ff; font-weight: bold\">9635624</span>\n",
       "</pre>\n"
      ],
      "text/plain": [
       "\u001b[32mSuccessfully fetched data for \u001b[0m\u001b[1;35m/artist/\u001b[0m\u001b[1;95m9635624\u001b[0m\n"
      ]
     },
     "metadata": {},
     "output_type": "display_data"
    },
    {
     "data": {
      "text/html": [
       "<pre style=\"white-space:pre;overflow-x:auto;line-height:normal;font-family:Menlo,'DejaVu Sans Mono',consolas,'Courier New',monospace\"><span style=\"color: #008080; text-decoration-color: #008080\">Fetching detailed data for artist ID: </span><span style=\"color: #008080; text-decoration-color: #008080; font-weight: bold\">7543848</span><span style=\"color: #808000; text-decoration-color: #808000\">...</span>\n",
       "</pre>\n"
      ],
      "text/plain": [
       "\u001b[36mFetching detailed data for artist ID: \u001b[0m\u001b[1;36m7543848\u001b[0m\u001b[33m...\u001b[0m\n"
      ]
     },
     "metadata": {},
     "output_type": "display_data"
    },
    {
     "data": {
      "text/html": [
       "<pre style=\"white-space:pre;overflow-x:auto;line-height:normal;font-family:Menlo,'DejaVu Sans Mono',consolas,'Courier New',monospace\"><span style=\"color: #008000; text-decoration-color: #008000\">Successfully fetched data for </span><span style=\"color: #800080; text-decoration-color: #800080; font-weight: bold\">/artist/</span><span style=\"color: #ff00ff; text-decoration-color: #ff00ff; font-weight: bold\">7543848</span>\n",
       "</pre>\n"
      ],
      "text/plain": [
       "\u001b[32mSuccessfully fetched data for \u001b[0m\u001b[1;35m/artist/\u001b[0m\u001b[1;95m7543848\u001b[0m\n"
      ]
     },
     "metadata": {},
     "output_type": "display_data"
    },
    {
     "data": {
      "text/html": [
       "<pre style=\"white-space:pre;overflow-x:auto;line-height:normal;font-family:Menlo,'DejaVu Sans Mono',consolas,'Courier New',monospace\"><span style=\"color: #008080; text-decoration-color: #008080\">Fetching detailed data for artist ID: </span><span style=\"color: #008080; text-decoration-color: #008080; font-weight: bold\">8706544</span><span style=\"color: #808000; text-decoration-color: #808000\">...</span>\n",
       "</pre>\n"
      ],
      "text/plain": [
       "\u001b[36mFetching detailed data for artist ID: \u001b[0m\u001b[1;36m8706544\u001b[0m\u001b[33m...\u001b[0m\n"
      ]
     },
     "metadata": {},
     "output_type": "display_data"
    },
    {
     "data": {
      "text/html": [
       "<pre style=\"white-space:pre;overflow-x:auto;line-height:normal;font-family:Menlo,'DejaVu Sans Mono',consolas,'Courier New',monospace\"><span style=\"color: #008000; text-decoration-color: #008000\">Successfully fetched data for </span><span style=\"color: #800080; text-decoration-color: #800080; font-weight: bold\">/artist/</span><span style=\"color: #ff00ff; text-decoration-color: #ff00ff; font-weight: bold\">8706544</span>\n",
       "</pre>\n"
      ],
      "text/plain": [
       "\u001b[32mSuccessfully fetched data for \u001b[0m\u001b[1;35m/artist/\u001b[0m\u001b[1;95m8706544\u001b[0m\n"
      ]
     },
     "metadata": {},
     "output_type": "display_data"
    },
    {
     "data": {
      "text/html": [
       "<pre style=\"white-space:pre;overflow-x:auto;line-height:normal;font-family:Menlo,'DejaVu Sans Mono',consolas,'Courier New',monospace\"><span style=\"color: #008080; text-decoration-color: #008080\">Fetching detailed data for artist ID: </span><span style=\"color: #008080; text-decoration-color: #008080; font-weight: bold\">4050205</span><span style=\"color: #808000; text-decoration-color: #808000\">...</span>\n",
       "</pre>\n"
      ],
      "text/plain": [
       "\u001b[36mFetching detailed data for artist ID: \u001b[0m\u001b[1;36m4050205\u001b[0m\u001b[33m...\u001b[0m\n"
      ]
     },
     "metadata": {},
     "output_type": "display_data"
    },
    {
     "data": {
      "text/html": [
       "<pre style=\"white-space:pre;overflow-x:auto;line-height:normal;font-family:Menlo,'DejaVu Sans Mono',consolas,'Courier New',monospace\"><span style=\"color: #008000; text-decoration-color: #008000\">Successfully fetched data for </span><span style=\"color: #800080; text-decoration-color: #800080; font-weight: bold\">/artist/</span><span style=\"color: #ff00ff; text-decoration-color: #ff00ff; font-weight: bold\">4050205</span>\n",
       "</pre>\n"
      ],
      "text/plain": [
       "\u001b[32mSuccessfully fetched data for \u001b[0m\u001b[1;35m/artist/\u001b[0m\u001b[1;95m4050205\u001b[0m\n"
      ]
     },
     "metadata": {},
     "output_type": "display_data"
    },
    {
     "data": {
      "text/html": [
       "<pre style=\"white-space:pre;overflow-x:auto;line-height:normal;font-family:Menlo,'DejaVu Sans Mono',consolas,'Courier New',monospace\"><span style=\"color: #008080; text-decoration-color: #008080\">Fetching detailed data for artist ID: </span><span style=\"color: #008080; text-decoration-color: #008080; font-weight: bold\">416239</span><span style=\"color: #808000; text-decoration-color: #808000\">...</span>\n",
       "</pre>\n"
      ],
      "text/plain": [
       "\u001b[36mFetching detailed data for artist ID: \u001b[0m\u001b[1;36m416239\u001b[0m\u001b[33m...\u001b[0m\n"
      ]
     },
     "metadata": {},
     "output_type": "display_data"
    },
    {
     "data": {
      "text/html": [
       "<pre style=\"white-space:pre;overflow-x:auto;line-height:normal;font-family:Menlo,'DejaVu Sans Mono',consolas,'Courier New',monospace\"><span style=\"color: #008000; text-decoration-color: #008000\">Successfully fetched data for </span><span style=\"color: #800080; text-decoration-color: #800080; font-weight: bold\">/artist/</span><span style=\"color: #ff00ff; text-decoration-color: #ff00ff; font-weight: bold\">416239</span>\n",
       "</pre>\n"
      ],
      "text/plain": [
       "\u001b[32mSuccessfully fetched data for \u001b[0m\u001b[1;35m/artist/\u001b[0m\u001b[1;95m416239\u001b[0m\n"
      ]
     },
     "metadata": {},
     "output_type": "display_data"
    },
    {
     "data": {
      "text/html": [
       "<pre style=\"white-space:pre;overflow-x:auto;line-height:normal;font-family:Menlo,'DejaVu Sans Mono',consolas,'Courier New',monospace\"><span style=\"color: #008080; text-decoration-color: #008080\">Fetching detailed data for artist ID: </span><span style=\"color: #008080; text-decoration-color: #008080; font-weight: bold\">75798</span><span style=\"color: #808000; text-decoration-color: #808000\">...</span>\n",
       "</pre>\n"
      ],
      "text/plain": [
       "\u001b[36mFetching detailed data for artist ID: \u001b[0m\u001b[1;36m75798\u001b[0m\u001b[33m...\u001b[0m\n"
      ]
     },
     "metadata": {},
     "output_type": "display_data"
    },
    {
     "data": {
      "text/html": [
       "<pre style=\"white-space:pre;overflow-x:auto;line-height:normal;font-family:Menlo,'DejaVu Sans Mono',consolas,'Courier New',monospace\"><span style=\"color: #008000; text-decoration-color: #008000\">Successfully fetched data for </span><span style=\"color: #800080; text-decoration-color: #800080; font-weight: bold\">/artist/</span><span style=\"color: #ff00ff; text-decoration-color: #ff00ff; font-weight: bold\">75798</span>\n",
       "</pre>\n"
      ],
      "text/plain": [
       "\u001b[32mSuccessfully fetched data for \u001b[0m\u001b[1;35m/artist/\u001b[0m\u001b[1;95m75798\u001b[0m\n"
      ]
     },
     "metadata": {},
     "output_type": "display_data"
    },
    {
     "data": {
      "text/html": [
       "<pre style=\"white-space:pre;overflow-x:auto;line-height:normal;font-family:Menlo,'DejaVu Sans Mono',consolas,'Courier New',monospace\"><span style=\"color: #008080; text-decoration-color: #008080\">Fetching detailed data for artist ID: </span><span style=\"color: #008080; text-decoration-color: #008080; font-weight: bold\">429675</span><span style=\"color: #808000; text-decoration-color: #808000\">...</span>\n",
       "</pre>\n"
      ],
      "text/plain": [
       "\u001b[36mFetching detailed data for artist ID: \u001b[0m\u001b[1;36m429675\u001b[0m\u001b[33m...\u001b[0m\n"
      ]
     },
     "metadata": {},
     "output_type": "display_data"
    },
    {
     "data": {
      "text/html": [
       "<pre style=\"white-space:pre;overflow-x:auto;line-height:normal;font-family:Menlo,'DejaVu Sans Mono',consolas,'Courier New',monospace\"><span style=\"color: #008000; text-decoration-color: #008000\">Successfully fetched data for </span><span style=\"color: #800080; text-decoration-color: #800080; font-weight: bold\">/artist/</span><span style=\"color: #ff00ff; text-decoration-color: #ff00ff; font-weight: bold\">429675</span>\n",
       "</pre>\n"
      ],
      "text/plain": [
       "\u001b[32mSuccessfully fetched data for \u001b[0m\u001b[1;35m/artist/\u001b[0m\u001b[1;95m429675\u001b[0m\n"
      ]
     },
     "metadata": {},
     "output_type": "display_data"
    },
    {
     "data": {
      "text/html": [
       "<pre style=\"white-space:pre;overflow-x:auto;line-height:normal;font-family:Menlo,'DejaVu Sans Mono',consolas,'Courier New',monospace\"><span style=\"color: #008080; text-decoration-color: #008080\">Fetching detailed data for artist ID: </span><span style=\"color: #008080; text-decoration-color: #008080; font-weight: bold\">6982223</span><span style=\"color: #808000; text-decoration-color: #808000\">...</span>\n",
       "</pre>\n"
      ],
      "text/plain": [
       "\u001b[36mFetching detailed data for artist ID: \u001b[0m\u001b[1;36m6982223\u001b[0m\u001b[33m...\u001b[0m\n"
      ]
     },
     "metadata": {},
     "output_type": "display_data"
    },
    {
     "data": {
      "text/html": [
       "<pre style=\"white-space:pre;overflow-x:auto;line-height:normal;font-family:Menlo,'DejaVu Sans Mono',consolas,'Courier New',monospace\"><span style=\"color: #008000; text-decoration-color: #008000\">Successfully fetched data for </span><span style=\"color: #800080; text-decoration-color: #800080; font-weight: bold\">/artist/</span><span style=\"color: #ff00ff; text-decoration-color: #ff00ff; font-weight: bold\">6982223</span>\n",
       "</pre>\n"
      ],
      "text/plain": [
       "\u001b[32mSuccessfully fetched data for \u001b[0m\u001b[1;35m/artist/\u001b[0m\u001b[1;95m6982223\u001b[0m\n"
      ]
     },
     "metadata": {},
     "output_type": "display_data"
    },
    {
     "data": {
      "text/html": [
       "<pre style=\"white-space:pre;overflow-x:auto;line-height:normal;font-family:Menlo,'DejaVu Sans Mono',consolas,'Courier New',monospace\"><span style=\"color: #008080; text-decoration-color: #008080\">Fetching detailed data for artist ID: </span><span style=\"color: #008080; text-decoration-color: #008080; font-weight: bold\">1188</span><span style=\"color: #808000; text-decoration-color: #808000\">...</span>\n",
       "</pre>\n"
      ],
      "text/plain": [
       "\u001b[36mFetching detailed data for artist ID: \u001b[0m\u001b[1;36m1188\u001b[0m\u001b[33m...\u001b[0m\n"
      ]
     },
     "metadata": {},
     "output_type": "display_data"
    },
    {
     "data": {
      "text/html": [
       "<pre style=\"white-space:pre;overflow-x:auto;line-height:normal;font-family:Menlo,'DejaVu Sans Mono',consolas,'Courier New',monospace\"><span style=\"color: #008000; text-decoration-color: #008000\">Successfully fetched data for </span><span style=\"color: #800080; text-decoration-color: #800080; font-weight: bold\">/artist/</span><span style=\"color: #ff00ff; text-decoration-color: #ff00ff; font-weight: bold\">1188</span>\n",
       "</pre>\n"
      ],
      "text/plain": [
       "\u001b[32mSuccessfully fetched data for \u001b[0m\u001b[1;35m/artist/\u001b[0m\u001b[1;95m1188\u001b[0m\n"
      ]
     },
     "metadata": {},
     "output_type": "display_data"
    },
    {
     "data": {
      "text/html": [
       "<pre style=\"white-space:pre;overflow-x:auto;line-height:normal;font-family:Menlo,'DejaVu Sans Mono',consolas,'Courier New',monospace\"><span style=\"color: #008080; text-decoration-color: #008080\">Fetching detailed data for artist ID: </span><span style=\"color: #008080; text-decoration-color: #008080; font-weight: bold\">288166</span><span style=\"color: #808000; text-decoration-color: #808000\">...</span>\n",
       "</pre>\n"
      ],
      "text/plain": [
       "\u001b[36mFetching detailed data for artist ID: \u001b[0m\u001b[1;36m288166\u001b[0m\u001b[33m...\u001b[0m\n"
      ]
     },
     "metadata": {},
     "output_type": "display_data"
    },
    {
     "data": {
      "text/html": [
       "<pre style=\"white-space:pre;overflow-x:auto;line-height:normal;font-family:Menlo,'DejaVu Sans Mono',consolas,'Courier New',monospace\"><span style=\"color: #008000; text-decoration-color: #008000\">Successfully fetched data for </span><span style=\"color: #800080; text-decoration-color: #800080; font-weight: bold\">/artist/</span><span style=\"color: #ff00ff; text-decoration-color: #ff00ff; font-weight: bold\">288166</span>\n",
       "</pre>\n"
      ],
      "text/plain": [
       "\u001b[32mSuccessfully fetched data for \u001b[0m\u001b[1;35m/artist/\u001b[0m\u001b[1;95m288166\u001b[0m\n"
      ]
     },
     "metadata": {},
     "output_type": "display_data"
    },
    {
     "data": {
      "text/html": [
       "<pre style=\"white-space:pre;overflow-x:auto;line-height:normal;font-family:Menlo,'DejaVu Sans Mono',consolas,'Courier New',monospace\"><span style=\"color: #008080; text-decoration-color: #008080\">Fetching detailed data for artist ID: </span><span style=\"color: #008080; text-decoration-color: #008080; font-weight: bold\">9064930</span><span style=\"color: #808000; text-decoration-color: #808000\">...</span>\n",
       "</pre>\n"
      ],
      "text/plain": [
       "\u001b[36mFetching detailed data for artist ID: \u001b[0m\u001b[1;36m9064930\u001b[0m\u001b[33m...\u001b[0m\n"
      ]
     },
     "metadata": {},
     "output_type": "display_data"
    },
    {
     "data": {
      "text/html": [
       "<pre style=\"white-space:pre;overflow-x:auto;line-height:normal;font-family:Menlo,'DejaVu Sans Mono',consolas,'Courier New',monospace\"><span style=\"color: #008000; text-decoration-color: #008000\">Successfully fetched data for </span><span style=\"color: #800080; text-decoration-color: #800080; font-weight: bold\">/artist/</span><span style=\"color: #ff00ff; text-decoration-color: #ff00ff; font-weight: bold\">9064930</span>\n",
       "</pre>\n"
      ],
      "text/plain": [
       "\u001b[32mSuccessfully fetched data for \u001b[0m\u001b[1;35m/artist/\u001b[0m\u001b[1;95m9064930\u001b[0m\n"
      ]
     },
     "metadata": {},
     "output_type": "display_data"
    },
    {
     "data": {
      "text/html": [
       "<pre style=\"white-space:pre;overflow-x:auto;line-height:normal;font-family:Menlo,'DejaVu Sans Mono',consolas,'Courier New',monospace\"><span style=\"color: #008080; text-decoration-color: #008080\">Fetching detailed data for artist ID: </span><span style=\"color: #008080; text-decoration-color: #008080; font-weight: bold\">4495513</span><span style=\"color: #808000; text-decoration-color: #808000\">...</span>\n",
       "</pre>\n"
      ],
      "text/plain": [
       "\u001b[36mFetching detailed data for artist ID: \u001b[0m\u001b[1;36m4495513\u001b[0m\u001b[33m...\u001b[0m\n"
      ]
     },
     "metadata": {},
     "output_type": "display_data"
    },
    {
     "data": {
      "text/html": [
       "<pre style=\"white-space:pre;overflow-x:auto;line-height:normal;font-family:Menlo,'DejaVu Sans Mono',consolas,'Courier New',monospace\"><span style=\"color: #008000; text-decoration-color: #008000\">Successfully fetched data for </span><span style=\"color: #800080; text-decoration-color: #800080; font-weight: bold\">/artist/</span><span style=\"color: #ff00ff; text-decoration-color: #ff00ff; font-weight: bold\">4495513</span>\n",
       "</pre>\n"
      ],
      "text/plain": [
       "\u001b[32mSuccessfully fetched data for \u001b[0m\u001b[1;35m/artist/\u001b[0m\u001b[1;95m4495513\u001b[0m\n"
      ]
     },
     "metadata": {},
     "output_type": "display_data"
    },
    {
     "data": {
      "text/html": [
       "<pre style=\"white-space:pre;overflow-x:auto;line-height:normal;font-family:Menlo,'DejaVu Sans Mono',consolas,'Courier New',monospace\"><span style=\"color: #008080; text-decoration-color: #008080\">Fetching detailed data for artist ID: </span><span style=\"color: #008080; text-decoration-color: #008080; font-weight: bold\">5292512</span><span style=\"color: #808000; text-decoration-color: #808000\">...</span>\n",
       "</pre>\n"
      ],
      "text/plain": [
       "\u001b[36mFetching detailed data for artist ID: \u001b[0m\u001b[1;36m5292512\u001b[0m\u001b[33m...\u001b[0m\n"
      ]
     },
     "metadata": {},
     "output_type": "display_data"
    },
    {
     "data": {
      "text/html": [
       "<pre style=\"white-space:pre;overflow-x:auto;line-height:normal;font-family:Menlo,'DejaVu Sans Mono',consolas,'Courier New',monospace\"><span style=\"color: #008000; text-decoration-color: #008000\">Successfully fetched data for </span><span style=\"color: #800080; text-decoration-color: #800080; font-weight: bold\">/artist/</span><span style=\"color: #ff00ff; text-decoration-color: #ff00ff; font-weight: bold\">5292512</span>\n",
       "</pre>\n"
      ],
      "text/plain": [
       "\u001b[32mSuccessfully fetched data for \u001b[0m\u001b[1;35m/artist/\u001b[0m\u001b[1;95m5292512\u001b[0m\n"
      ]
     },
     "metadata": {},
     "output_type": "display_data"
    },
    {
     "data": {
      "text/html": [
       "<pre style=\"white-space:pre;overflow-x:auto;line-height:normal;font-family:Menlo,'DejaVu Sans Mono',consolas,'Courier New',monospace\"><span style=\"color: #008080; text-decoration-color: #008080\">Fetching detailed data for artist ID: </span><span style=\"color: #008080; text-decoration-color: #008080; font-weight: bold\">362326</span><span style=\"color: #808000; text-decoration-color: #808000\">...</span>\n",
       "</pre>\n"
      ],
      "text/plain": [
       "\u001b[36mFetching detailed data for artist ID: \u001b[0m\u001b[1;36m362326\u001b[0m\u001b[33m...\u001b[0m\n"
      ]
     },
     "metadata": {},
     "output_type": "display_data"
    },
    {
     "data": {
      "text/html": [
       "<pre style=\"white-space:pre;overflow-x:auto;line-height:normal;font-family:Menlo,'DejaVu Sans Mono',consolas,'Courier New',monospace\"><span style=\"color: #008000; text-decoration-color: #008000\">Successfully fetched data for </span><span style=\"color: #800080; text-decoration-color: #800080; font-weight: bold\">/artist/</span><span style=\"color: #ff00ff; text-decoration-color: #ff00ff; font-weight: bold\">362326</span>\n",
       "</pre>\n"
      ],
      "text/plain": [
       "\u001b[32mSuccessfully fetched data for \u001b[0m\u001b[1;35m/artist/\u001b[0m\u001b[1;95m362326\u001b[0m\n"
      ]
     },
     "metadata": {},
     "output_type": "display_data"
    },
    {
     "data": {
      "text/html": [
       "<pre style=\"white-space:pre;overflow-x:auto;line-height:normal;font-family:Menlo,'DejaVu Sans Mono',consolas,'Courier New',monospace\"><span style=\"color: #008080; text-decoration-color: #008080\">Fetching detailed data for artist ID: </span><span style=\"color: #008080; text-decoration-color: #008080; font-weight: bold\">1097709</span><span style=\"color: #808000; text-decoration-color: #808000\">...</span>\n",
       "</pre>\n"
      ],
      "text/plain": [
       "\u001b[36mFetching detailed data for artist ID: \u001b[0m\u001b[1;36m1097709\u001b[0m\u001b[33m...\u001b[0m\n"
      ]
     },
     "metadata": {},
     "output_type": "display_data"
    },
    {
     "data": {
      "text/html": [
       "<pre style=\"white-space:pre;overflow-x:auto;line-height:normal;font-family:Menlo,'DejaVu Sans Mono',consolas,'Courier New',monospace\"><span style=\"color: #008000; text-decoration-color: #008000\">Successfully fetched data for </span><span style=\"color: #800080; text-decoration-color: #800080; font-weight: bold\">/artist/</span><span style=\"color: #ff00ff; text-decoration-color: #ff00ff; font-weight: bold\">1097709</span>\n",
       "</pre>\n"
      ],
      "text/plain": [
       "\u001b[32mSuccessfully fetched data for \u001b[0m\u001b[1;35m/artist/\u001b[0m\u001b[1;95m1097709\u001b[0m\n"
      ]
     },
     "metadata": {},
     "output_type": "display_data"
    },
    {
     "data": {
      "text/html": [
       "<pre style=\"white-space:pre;overflow-x:auto;line-height:normal;font-family:Menlo,'DejaVu Sans Mono',consolas,'Courier New',monospace\"><span style=\"color: #008080; text-decoration-color: #008080\">Fetching detailed data for artist ID: </span><span style=\"color: #008080; text-decoration-color: #008080; font-weight: bold\">5200025</span><span style=\"color: #808000; text-decoration-color: #808000\">...</span>\n",
       "</pre>\n"
      ],
      "text/plain": [
       "\u001b[36mFetching detailed data for artist ID: \u001b[0m\u001b[1;36m5200025\u001b[0m\u001b[33m...\u001b[0m\n"
      ]
     },
     "metadata": {},
     "output_type": "display_data"
    },
    {
     "data": {
      "text/html": [
       "<pre style=\"white-space:pre;overflow-x:auto;line-height:normal;font-family:Menlo,'DejaVu Sans Mono',consolas,'Courier New',monospace\"><span style=\"color: #008000; text-decoration-color: #008000\">Successfully fetched data for </span><span style=\"color: #800080; text-decoration-color: #800080; font-weight: bold\">/artist/</span><span style=\"color: #ff00ff; text-decoration-color: #ff00ff; font-weight: bold\">5200025</span>\n",
       "</pre>\n"
      ],
      "text/plain": [
       "\u001b[32mSuccessfully fetched data for \u001b[0m\u001b[1;35m/artist/\u001b[0m\u001b[1;95m5200025\u001b[0m\n"
      ]
     },
     "metadata": {},
     "output_type": "display_data"
    },
    {
     "data": {
      "text/html": [
       "<pre style=\"white-space:pre;overflow-x:auto;line-height:normal;font-family:Menlo,'DejaVu Sans Mono',consolas,'Courier New',monospace\"><span style=\"color: #008080; text-decoration-color: #008080\">Fetching detailed data for artist ID: </span><span style=\"color: #008080; text-decoration-color: #008080; font-weight: bold\">5313805</span><span style=\"color: #808000; text-decoration-color: #808000\">...</span>\n",
       "</pre>\n"
      ],
      "text/plain": [
       "\u001b[36mFetching detailed data for artist ID: \u001b[0m\u001b[1;36m5313805\u001b[0m\u001b[33m...\u001b[0m\n"
      ]
     },
     "metadata": {},
     "output_type": "display_data"
    },
    {
     "data": {
      "text/html": [
       "<pre style=\"white-space:pre;overflow-x:auto;line-height:normal;font-family:Menlo,'DejaVu Sans Mono',consolas,'Courier New',monospace\"><span style=\"color: #008000; text-decoration-color: #008000\">Successfully fetched data for </span><span style=\"color: #800080; text-decoration-color: #800080; font-weight: bold\">/artist/</span><span style=\"color: #ff00ff; text-decoration-color: #ff00ff; font-weight: bold\">5313805</span>\n",
       "</pre>\n"
      ],
      "text/plain": [
       "\u001b[32mSuccessfully fetched data for \u001b[0m\u001b[1;35m/artist/\u001b[0m\u001b[1;95m5313805\u001b[0m\n"
      ]
     },
     "metadata": {},
     "output_type": "display_data"
    },
    {
     "data": {
      "text/html": [
       "<pre style=\"white-space:pre;overflow-x:auto;line-height:normal;font-family:Menlo,'DejaVu Sans Mono',consolas,'Courier New',monospace\"><span style=\"color: #008080; text-decoration-color: #008080\">Fetching detailed data for artist ID: </span><span style=\"color: #008080; text-decoration-color: #008080; font-weight: bold\">4860761</span><span style=\"color: #808000; text-decoration-color: #808000\">...</span>\n",
       "</pre>\n"
      ],
      "text/plain": [
       "\u001b[36mFetching detailed data for artist ID: \u001b[0m\u001b[1;36m4860761\u001b[0m\u001b[33m...\u001b[0m\n"
      ]
     },
     "metadata": {},
     "output_type": "display_data"
    },
    {
     "data": {
      "text/html": [
       "<pre style=\"white-space:pre;overflow-x:auto;line-height:normal;font-family:Menlo,'DejaVu Sans Mono',consolas,'Courier New',monospace\"><span style=\"color: #008000; text-decoration-color: #008000\">Successfully fetched data for </span><span style=\"color: #800080; text-decoration-color: #800080; font-weight: bold\">/artist/</span><span style=\"color: #ff00ff; text-decoration-color: #ff00ff; font-weight: bold\">4860761</span>\n",
       "</pre>\n"
      ],
      "text/plain": [
       "\u001b[32mSuccessfully fetched data for \u001b[0m\u001b[1;35m/artist/\u001b[0m\u001b[1;95m4860761\u001b[0m\n"
      ]
     },
     "metadata": {},
     "output_type": "display_data"
    },
    {
     "data": {
      "text/html": [
       "<pre style=\"white-space:pre;overflow-x:auto;line-height:normal;font-family:Menlo,'DejaVu Sans Mono',consolas,'Courier New',monospace\"><span style=\"color: #008080; text-decoration-color: #008080\">Fetching detailed data for artist ID: </span><span style=\"color: #008080; text-decoration-color: #008080; font-weight: bold\">10583405</span><span style=\"color: #808000; text-decoration-color: #808000\">...</span>\n",
       "</pre>\n"
      ],
      "text/plain": [
       "\u001b[36mFetching detailed data for artist ID: \u001b[0m\u001b[1;36m10583405\u001b[0m\u001b[33m...\u001b[0m\n"
      ]
     },
     "metadata": {},
     "output_type": "display_data"
    },
    {
     "data": {
      "text/html": [
       "<pre style=\"white-space:pre;overflow-x:auto;line-height:normal;font-family:Menlo,'DejaVu Sans Mono',consolas,'Courier New',monospace\"><span style=\"color: #008000; text-decoration-color: #008000\">Successfully fetched data for </span><span style=\"color: #800080; text-decoration-color: #800080; font-weight: bold\">/artist/</span><span style=\"color: #ff00ff; text-decoration-color: #ff00ff; font-weight: bold\">10583405</span>\n",
       "</pre>\n"
      ],
      "text/plain": [
       "\u001b[32mSuccessfully fetched data for \u001b[0m\u001b[1;35m/artist/\u001b[0m\u001b[1;95m10583405\u001b[0m\n"
      ]
     },
     "metadata": {},
     "output_type": "display_data"
    },
    {
     "data": {
      "text/html": [
       "<pre style=\"white-space:pre;overflow-x:auto;line-height:normal;font-family:Menlo,'DejaVu Sans Mono',consolas,'Courier New',monospace\"><span style=\"color: #008080; text-decoration-color: #008080\">Fetching detailed data for artist ID: </span><span style=\"color: #008080; text-decoration-color: #008080; font-weight: bold\">5578942</span><span style=\"color: #808000; text-decoration-color: #808000\">...</span>\n",
       "</pre>\n"
      ],
      "text/plain": [
       "\u001b[36mFetching detailed data for artist ID: \u001b[0m\u001b[1;36m5578942\u001b[0m\u001b[33m...\u001b[0m\n"
      ]
     },
     "metadata": {},
     "output_type": "display_data"
    },
    {
     "data": {
      "text/html": [
       "<pre style=\"white-space:pre;overflow-x:auto;line-height:normal;font-family:Menlo,'DejaVu Sans Mono',consolas,'Courier New',monospace\"><span style=\"color: #008000; text-decoration-color: #008000\">Successfully fetched data for </span><span style=\"color: #800080; text-decoration-color: #800080; font-weight: bold\">/artist/</span><span style=\"color: #ff00ff; text-decoration-color: #ff00ff; font-weight: bold\">5578942</span>\n",
       "</pre>\n"
      ],
      "text/plain": [
       "\u001b[32mSuccessfully fetched data for \u001b[0m\u001b[1;35m/artist/\u001b[0m\u001b[1;95m5578942\u001b[0m\n"
      ]
     },
     "metadata": {},
     "output_type": "display_data"
    },
    {
     "data": {
      "text/html": [
       "<pre style=\"white-space:pre;overflow-x:auto;line-height:normal;font-family:Menlo,'DejaVu Sans Mono',consolas,'Courier New',monospace\"><span style=\"color: #008080; text-decoration-color: #008080\">Fetching detailed data for artist ID: </span><span style=\"color: #008080; text-decoration-color: #008080; font-weight: bold\">11152580</span><span style=\"color: #808000; text-decoration-color: #808000\">...</span>\n",
       "</pre>\n"
      ],
      "text/plain": [
       "\u001b[36mFetching detailed data for artist ID: \u001b[0m\u001b[1;36m11152580\u001b[0m\u001b[33m...\u001b[0m\n"
      ]
     },
     "metadata": {},
     "output_type": "display_data"
    },
    {
     "data": {
      "text/html": [
       "<pre style=\"white-space:pre;overflow-x:auto;line-height:normal;font-family:Menlo,'DejaVu Sans Mono',consolas,'Courier New',monospace\"><span style=\"color: #008000; text-decoration-color: #008000\">Successfully fetched data for </span><span style=\"color: #800080; text-decoration-color: #800080; font-weight: bold\">/artist/</span><span style=\"color: #ff00ff; text-decoration-color: #ff00ff; font-weight: bold\">11152580</span>\n",
       "</pre>\n"
      ],
      "text/plain": [
       "\u001b[32mSuccessfully fetched data for \u001b[0m\u001b[1;35m/artist/\u001b[0m\u001b[1;95m11152580\u001b[0m\n"
      ]
     },
     "metadata": {},
     "output_type": "display_data"
    },
    {
     "data": {
      "text/html": [
       "<pre style=\"white-space:pre;overflow-x:auto;line-height:normal;font-family:Menlo,'DejaVu Sans Mono',consolas,'Courier New',monospace\"><span style=\"color: #008080; text-decoration-color: #008080\">Fetching detailed data for artist ID: </span><span style=\"color: #008080; text-decoration-color: #008080; font-weight: bold\">5531258</span><span style=\"color: #808000; text-decoration-color: #808000\">...</span>\n",
       "</pre>\n"
      ],
      "text/plain": [
       "\u001b[36mFetching detailed data for artist ID: \u001b[0m\u001b[1;36m5531258\u001b[0m\u001b[33m...\u001b[0m\n"
      ]
     },
     "metadata": {},
     "output_type": "display_data"
    },
    {
     "data": {
      "text/html": [
       "<pre style=\"white-space:pre;overflow-x:auto;line-height:normal;font-family:Menlo,'DejaVu Sans Mono',consolas,'Courier New',monospace\"><span style=\"color: #008000; text-decoration-color: #008000\">Successfully fetched data for </span><span style=\"color: #800080; text-decoration-color: #800080; font-weight: bold\">/artist/</span><span style=\"color: #ff00ff; text-decoration-color: #ff00ff; font-weight: bold\">5531258</span>\n",
       "</pre>\n"
      ],
      "text/plain": [
       "\u001b[32mSuccessfully fetched data for \u001b[0m\u001b[1;35m/artist/\u001b[0m\u001b[1;95m5531258\u001b[0m\n"
      ]
     },
     "metadata": {},
     "output_type": "display_data"
    },
    {
     "data": {
      "text/html": [
       "<pre style=\"white-space:pre;overflow-x:auto;line-height:normal;font-family:Menlo,'DejaVu Sans Mono',consolas,'Courier New',monospace\"><span style=\"color: #008080; text-decoration-color: #008080\">Fetching detailed data for artist ID: </span><span style=\"color: #008080; text-decoration-color: #008080; font-weight: bold\">15166511</span><span style=\"color: #808000; text-decoration-color: #808000\">...</span>\n",
       "</pre>\n"
      ],
      "text/plain": [
       "\u001b[36mFetching detailed data for artist ID: \u001b[0m\u001b[1;36m15166511\u001b[0m\u001b[33m...\u001b[0m\n"
      ]
     },
     "metadata": {},
     "output_type": "display_data"
    },
    {
     "data": {
      "text/html": [
       "<pre style=\"white-space:pre;overflow-x:auto;line-height:normal;font-family:Menlo,'DejaVu Sans Mono',consolas,'Courier New',monospace\"><span style=\"color: #008000; text-decoration-color: #008000\">Successfully fetched data for </span><span style=\"color: #800080; text-decoration-color: #800080; font-weight: bold\">/artist/</span><span style=\"color: #ff00ff; text-decoration-color: #ff00ff; font-weight: bold\">15166511</span>\n",
       "</pre>\n"
      ],
      "text/plain": [
       "\u001b[32mSuccessfully fetched data for \u001b[0m\u001b[1;35m/artist/\u001b[0m\u001b[1;95m15166511\u001b[0m\n"
      ]
     },
     "metadata": {},
     "output_type": "display_data"
    },
    {
     "data": {
      "text/html": [
       "<pre style=\"white-space:pre;overflow-x:auto;line-height:normal;font-family:Menlo,'DejaVu Sans Mono',consolas,'Courier New',monospace\"><span style=\"color: #008080; text-decoration-color: #008080\">Fetching detailed data for artist ID: </span><span style=\"color: #008080; text-decoration-color: #008080; font-weight: bold\">12816021</span><span style=\"color: #808000; text-decoration-color: #808000\">...</span>\n",
       "</pre>\n"
      ],
      "text/plain": [
       "\u001b[36mFetching detailed data for artist ID: \u001b[0m\u001b[1;36m12816021\u001b[0m\u001b[33m...\u001b[0m\n"
      ]
     },
     "metadata": {},
     "output_type": "display_data"
    },
    {
     "data": {
      "text/html": [
       "<pre style=\"white-space:pre;overflow-x:auto;line-height:normal;font-family:Menlo,'DejaVu Sans Mono',consolas,'Courier New',monospace\"><span style=\"color: #008000; text-decoration-color: #008000\">Successfully fetched data for </span><span style=\"color: #800080; text-decoration-color: #800080; font-weight: bold\">/artist/</span><span style=\"color: #ff00ff; text-decoration-color: #ff00ff; font-weight: bold\">12816021</span>\n",
       "</pre>\n"
      ],
      "text/plain": [
       "\u001b[32mSuccessfully fetched data for \u001b[0m\u001b[1;35m/artist/\u001b[0m\u001b[1;95m12816021\u001b[0m\n"
      ]
     },
     "metadata": {},
     "output_type": "display_data"
    },
    {
     "data": {
      "text/html": [
       "<pre style=\"white-space:pre;overflow-x:auto;line-height:normal;font-family:Menlo,'DejaVu Sans Mono',consolas,'Courier New',monospace\"><span style=\"color: #008080; text-decoration-color: #008080\">Fetching detailed data for artist ID: </span><span style=\"color: #008080; text-decoration-color: #008080; font-weight: bold\">10803980</span><span style=\"color: #808000; text-decoration-color: #808000\">...</span>\n",
       "</pre>\n"
      ],
      "text/plain": [
       "\u001b[36mFetching detailed data for artist ID: \u001b[0m\u001b[1;36m10803980\u001b[0m\u001b[33m...\u001b[0m\n"
      ]
     },
     "metadata": {},
     "output_type": "display_data"
    },
    {
     "data": {
      "text/html": [
       "<pre style=\"white-space:pre;overflow-x:auto;line-height:normal;font-family:Menlo,'DejaVu Sans Mono',consolas,'Courier New',monospace\"><span style=\"color: #008000; text-decoration-color: #008000\">Successfully fetched data for </span><span style=\"color: #800080; text-decoration-color: #800080; font-weight: bold\">/artist/</span><span style=\"color: #ff00ff; text-decoration-color: #ff00ff; font-weight: bold\">10803980</span>\n",
       "</pre>\n"
      ],
      "text/plain": [
       "\u001b[32mSuccessfully fetched data for \u001b[0m\u001b[1;35m/artist/\u001b[0m\u001b[1;95m10803980\u001b[0m\n"
      ]
     },
     "metadata": {},
     "output_type": "display_data"
    },
    {
     "data": {
      "text/html": [
       "<pre style=\"white-space:pre;overflow-x:auto;line-height:normal;font-family:Menlo,'DejaVu Sans Mono',consolas,'Courier New',monospace\"><span style=\"color: #008080; text-decoration-color: #008080\">Fetching detailed data for artist ID: </span><span style=\"color: #008080; text-decoration-color: #008080; font-weight: bold\">9236850</span><span style=\"color: #808000; text-decoration-color: #808000\">...</span>\n",
       "</pre>\n"
      ],
      "text/plain": [
       "\u001b[36mFetching detailed data for artist ID: \u001b[0m\u001b[1;36m9236850\u001b[0m\u001b[33m...\u001b[0m\n"
      ]
     },
     "metadata": {},
     "output_type": "display_data"
    },
    {
     "data": {
      "text/html": [
       "<pre style=\"white-space:pre;overflow-x:auto;line-height:normal;font-family:Menlo,'DejaVu Sans Mono',consolas,'Courier New',monospace\"><span style=\"color: #008000; text-decoration-color: #008000\">Successfully fetched data for </span><span style=\"color: #800080; text-decoration-color: #800080; font-weight: bold\">/artist/</span><span style=\"color: #ff00ff; text-decoration-color: #ff00ff; font-weight: bold\">9236850</span>\n",
       "</pre>\n"
      ],
      "text/plain": [
       "\u001b[32mSuccessfully fetched data for \u001b[0m\u001b[1;35m/artist/\u001b[0m\u001b[1;95m9236850\u001b[0m\n"
      ]
     },
     "metadata": {},
     "output_type": "display_data"
    },
    {
     "data": {
      "text/html": [
       "<pre style=\"white-space:pre;overflow-x:auto;line-height:normal;font-family:Menlo,'DejaVu Sans Mono',consolas,'Courier New',monospace\"><span style=\"color: #008080; text-decoration-color: #008080\">Fetching detailed data for artist ID: </span><span style=\"color: #008080; text-decoration-color: #008080; font-weight: bold\">15888</span><span style=\"color: #808000; text-decoration-color: #808000\">...</span>\n",
       "</pre>\n"
      ],
      "text/plain": [
       "\u001b[36mFetching detailed data for artist ID: \u001b[0m\u001b[1;36m15888\u001b[0m\u001b[33m...\u001b[0m\n"
      ]
     },
     "metadata": {},
     "output_type": "display_data"
    },
    {
     "data": {
      "text/html": [
       "<pre style=\"white-space:pre;overflow-x:auto;line-height:normal;font-family:Menlo,'DejaVu Sans Mono',consolas,'Courier New',monospace\"><span style=\"color: #008000; text-decoration-color: #008000\">Successfully fetched data for </span><span style=\"color: #800080; text-decoration-color: #800080; font-weight: bold\">/artist/</span><span style=\"color: #ff00ff; text-decoration-color: #ff00ff; font-weight: bold\">15888</span>\n",
       "</pre>\n"
      ],
      "text/plain": [
       "\u001b[32mSuccessfully fetched data for \u001b[0m\u001b[1;35m/artist/\u001b[0m\u001b[1;95m15888\u001b[0m\n"
      ]
     },
     "metadata": {},
     "output_type": "display_data"
    },
    {
     "data": {
      "text/html": [
       "<pre style=\"white-space:pre;overflow-x:auto;line-height:normal;font-family:Menlo,'DejaVu Sans Mono',consolas,'Courier New',monospace\"><span style=\"color: #008080; text-decoration-color: #008080\">Fetching detailed data for artist ID: </span><span style=\"color: #008080; text-decoration-color: #008080; font-weight: bold\">382937</span><span style=\"color: #808000; text-decoration-color: #808000\">...</span>\n",
       "</pre>\n"
      ],
      "text/plain": [
       "\u001b[36mFetching detailed data for artist ID: \u001b[0m\u001b[1;36m382937\u001b[0m\u001b[33m...\u001b[0m\n"
      ]
     },
     "metadata": {},
     "output_type": "display_data"
    },
    {
     "data": {
      "text/html": [
       "<pre style=\"white-space:pre;overflow-x:auto;line-height:normal;font-family:Menlo,'DejaVu Sans Mono',consolas,'Courier New',monospace\"><span style=\"color: #008000; text-decoration-color: #008000\">Successfully fetched data for </span><span style=\"color: #800080; text-decoration-color: #800080; font-weight: bold\">/artist/</span><span style=\"color: #ff00ff; text-decoration-color: #ff00ff; font-weight: bold\">382937</span>\n",
       "</pre>\n"
      ],
      "text/plain": [
       "\u001b[32mSuccessfully fetched data for \u001b[0m\u001b[1;35m/artist/\u001b[0m\u001b[1;95m382937\u001b[0m\n"
      ]
     },
     "metadata": {},
     "output_type": "display_data"
    },
    {
     "data": {
      "text/html": [
       "<pre style=\"white-space:pre;overflow-x:auto;line-height:normal;font-family:Menlo,'DejaVu Sans Mono',consolas,'Courier New',monospace\"><span style=\"color: #808000; text-decoration-color: #808000; font-weight: bold\">Artist DataFrame ready for further processing.</span>\n",
       "</pre>\n"
      ],
      "text/plain": [
       "\u001b[1;33mArtist DataFrame ready for further processing.\u001b[0m\n"
      ]
     },
     "metadata": {},
     "output_type": "display_data"
    }
   ],
   "source": [
    "artists = fetch_artists(artist_names)\n",
    "console.print(f\"[bold green]Extracted data for {len(artists)} artists.[/bold green]\")\n",
    "\n",
    "artist_ids = [artist[\"artist_id\"] for artist in artists]\n",
    "detailed_artists = fetch_artist_details(artist_ids)\n",
    "\n",
    "artist_df = pd.DataFrame(detailed_artists)\n",
    "artist_df = pd.DataFrame(detailed_artists)\n",
    "console.print(\"[bold yellow]Artist DataFrame ready for further processing.[/bold yellow]\")"
   ]
  },
  {
   "cell_type": "code",
   "execution_count": 10,
   "metadata": {},
   "outputs": [
    {
     "name": "stdout",
     "output_type": "stream",
     "text": [
      "Fetching top tracks for artist: Kip Moore (ID: 1436111)...\n"
     ]
    },
    {
     "data": {
      "text/html": [
       "<pre style=\"white-space:pre;overflow-x:auto;line-height:normal;font-family:Menlo,'DejaVu Sans Mono',consolas,'Courier New',monospace\"><span style=\"color: #008000; text-decoration-color: #008000\">Successfully fetched data for </span><span style=\"color: #800080; text-decoration-color: #800080; font-weight: bold\">/artist/1436111/</span><span style=\"color: #ff00ff; text-decoration-color: #ff00ff; font-weight: bold\">top</span>\n",
       "</pre>\n"
      ],
      "text/plain": [
       "\u001b[32mSuccessfully fetched data for \u001b[0m\u001b[1;35m/artist/1436111/\u001b[0m\u001b[1;95mtop\u001b[0m\n"
      ]
     },
     "metadata": {},
     "output_type": "display_data"
    },
    {
     "name": "stdout",
     "output_type": "stream",
     "text": [
      "Fetching top tracks for artist: Breaking Benjamin (ID: 5286)...\n"
     ]
    },
    {
     "data": {
      "text/html": [
       "<pre style=\"white-space:pre;overflow-x:auto;line-height:normal;font-family:Menlo,'DejaVu Sans Mono',consolas,'Courier New',monospace\"><span style=\"color: #008000; text-decoration-color: #008000\">Successfully fetched data for </span><span style=\"color: #800080; text-decoration-color: #800080; font-weight: bold\">/artist/5286/</span><span style=\"color: #ff00ff; text-decoration-color: #ff00ff; font-weight: bold\">top</span>\n",
       "</pre>\n"
      ],
      "text/plain": [
       "\u001b[32mSuccessfully fetched data for \u001b[0m\u001b[1;35m/artist/5286/\u001b[0m\u001b[1;95mtop\u001b[0m\n"
      ]
     },
     "metadata": {},
     "output_type": "display_data"
    },
    {
     "name": "stdout",
     "output_type": "stream",
     "text": [
      "Fetching top tracks for artist: Dermot Kennedy (ID: 12033224)...\n"
     ]
    },
    {
     "data": {
      "text/html": [
       "<pre style=\"white-space:pre;overflow-x:auto;line-height:normal;font-family:Menlo,'DejaVu Sans Mono',consolas,'Courier New',monospace\"><span style=\"color: #008000; text-decoration-color: #008000\">Successfully fetched data for </span><span style=\"color: #800080; text-decoration-color: #800080; font-weight: bold\">/artist/12033224/</span><span style=\"color: #ff00ff; text-decoration-color: #ff00ff; font-weight: bold\">top</span>\n",
       "</pre>\n"
      ],
      "text/plain": [
       "\u001b[32mSuccessfully fetched data for \u001b[0m\u001b[1;35m/artist/12033224/\u001b[0m\u001b[1;95mtop\u001b[0m\n"
      ]
     },
     "metadata": {},
     "output_type": "display_data"
    },
    {
     "name": "stdout",
     "output_type": "stream",
     "text": [
      "Fetching top tracks for artist: Bad Omens (ID: 9700940)...\n"
     ]
    },
    {
     "data": {
      "text/html": [
       "<pre style=\"white-space:pre;overflow-x:auto;line-height:normal;font-family:Menlo,'DejaVu Sans Mono',consolas,'Courier New',monospace\"><span style=\"color: #008000; text-decoration-color: #008000\">Successfully fetched data for </span><span style=\"color: #800080; text-decoration-color: #800080; font-weight: bold\">/artist/9700940/</span><span style=\"color: #ff00ff; text-decoration-color: #ff00ff; font-weight: bold\">top</span>\n",
       "</pre>\n"
      ],
      "text/plain": [
       "\u001b[32mSuccessfully fetched data for \u001b[0m\u001b[1;35m/artist/9700940/\u001b[0m\u001b[1;95mtop\u001b[0m\n"
      ]
     },
     "metadata": {},
     "output_type": "display_data"
    },
    {
     "name": "stdout",
     "output_type": "stream",
     "text": [
      "Fetching top tracks for artist: Sultan + Shepard (ID: 7584298)...\n"
     ]
    },
    {
     "data": {
      "text/html": [
       "<pre style=\"white-space:pre;overflow-x:auto;line-height:normal;font-family:Menlo,'DejaVu Sans Mono',consolas,'Courier New',monospace\"><span style=\"color: #008000; text-decoration-color: #008000\">Successfully fetched data for </span><span style=\"color: #800080; text-decoration-color: #800080; font-weight: bold\">/artist/7584298/</span><span style=\"color: #ff00ff; text-decoration-color: #ff00ff; font-weight: bold\">top</span>\n",
       "</pre>\n"
      ],
      "text/plain": [
       "\u001b[32mSuccessfully fetched data for \u001b[0m\u001b[1;35m/artist/7584298/\u001b[0m\u001b[1;95mtop\u001b[0m\n"
      ]
     },
     "metadata": {},
     "output_type": "display_data"
    },
    {
     "name": "stdout",
     "output_type": "stream",
     "text": [
      "Fetching top tracks for artist: Taylor Swift (ID: 12246)...\n"
     ]
    },
    {
     "data": {
      "text/html": [
       "<pre style=\"white-space:pre;overflow-x:auto;line-height:normal;font-family:Menlo,'DejaVu Sans Mono',consolas,'Courier New',monospace\"><span style=\"color: #008000; text-decoration-color: #008000\">Successfully fetched data for </span><span style=\"color: #800080; text-decoration-color: #800080; font-weight: bold\">/artist/12246/</span><span style=\"color: #ff00ff; text-decoration-color: #ff00ff; font-weight: bold\">top</span>\n",
       "</pre>\n"
      ],
      "text/plain": [
       "\u001b[32mSuccessfully fetched data for \u001b[0m\u001b[1;35m/artist/12246/\u001b[0m\u001b[1;95mtop\u001b[0m\n"
      ]
     },
     "metadata": {},
     "output_type": "display_data"
    },
    {
     "name": "stdout",
     "output_type": "stream",
     "text": [
      "Fetching top tracks for artist: Shawn Mendes (ID: 5962948)...\n"
     ]
    },
    {
     "data": {
      "text/html": [
       "<pre style=\"white-space:pre;overflow-x:auto;line-height:normal;font-family:Menlo,'DejaVu Sans Mono',consolas,'Courier New',monospace\"><span style=\"color: #008000; text-decoration-color: #008000\">Successfully fetched data for </span><span style=\"color: #800080; text-decoration-color: #800080; font-weight: bold\">/artist/5962948/</span><span style=\"color: #ff00ff; text-decoration-color: #ff00ff; font-weight: bold\">top</span>\n",
       "</pre>\n"
      ],
      "text/plain": [
       "\u001b[32mSuccessfully fetched data for \u001b[0m\u001b[1;35m/artist/5962948/\u001b[0m\u001b[1;95mtop\u001b[0m\n"
      ]
     },
     "metadata": {},
     "output_type": "display_data"
    },
    {
     "name": "stdout",
     "output_type": "stream",
     "text": [
      "Fetching top tracks for artist: Katy Perry (ID: 144227)...\n"
     ]
    },
    {
     "data": {
      "text/html": [
       "<pre style=\"white-space:pre;overflow-x:auto;line-height:normal;font-family:Menlo,'DejaVu Sans Mono',consolas,'Courier New',monospace\"><span style=\"color: #008000; text-decoration-color: #008000\">Successfully fetched data for </span><span style=\"color: #800080; text-decoration-color: #800080; font-weight: bold\">/artist/144227/</span><span style=\"color: #ff00ff; text-decoration-color: #ff00ff; font-weight: bold\">top</span>\n",
       "</pre>\n"
      ],
      "text/plain": [
       "\u001b[32mSuccessfully fetched data for \u001b[0m\u001b[1;35m/artist/144227/\u001b[0m\u001b[1;95mtop\u001b[0m\n"
      ]
     },
     "metadata": {},
     "output_type": "display_data"
    },
    {
     "name": "stdout",
     "output_type": "stream",
     "text": [
      "Fetching top tracks for artist: Meghan Trainor (ID: 1181430)...\n"
     ]
    },
    {
     "data": {
      "text/html": [
       "<pre style=\"white-space:pre;overflow-x:auto;line-height:normal;font-family:Menlo,'DejaVu Sans Mono',consolas,'Courier New',monospace\"><span style=\"color: #008000; text-decoration-color: #008000\">Successfully fetched data for </span><span style=\"color: #800080; text-decoration-color: #800080; font-weight: bold\">/artist/1181430/</span><span style=\"color: #ff00ff; text-decoration-color: #ff00ff; font-weight: bold\">top</span>\n",
       "</pre>\n"
      ],
      "text/plain": [
       "\u001b[32mSuccessfully fetched data for \u001b[0m\u001b[1;35m/artist/1181430/\u001b[0m\u001b[1;95mtop\u001b[0m\n"
      ]
     },
     "metadata": {},
     "output_type": "display_data"
    },
    {
     "name": "stdout",
     "output_type": "stream",
     "text": [
      "Fetching top tracks for artist: Ariana Grande (ID: 1562681)...\n"
     ]
    },
    {
     "data": {
      "text/html": [
       "<pre style=\"white-space:pre;overflow-x:auto;line-height:normal;font-family:Menlo,'DejaVu Sans Mono',consolas,'Courier New',monospace\"><span style=\"color: #008000; text-decoration-color: #008000\">Successfully fetched data for </span><span style=\"color: #800080; text-decoration-color: #800080; font-weight: bold\">/artist/1562681/</span><span style=\"color: #ff00ff; text-decoration-color: #ff00ff; font-weight: bold\">top</span>\n",
       "</pre>\n"
      ],
      "text/plain": [
       "\u001b[32mSuccessfully fetched data for \u001b[0m\u001b[1;35m/artist/1562681/\u001b[0m\u001b[1;95mtop\u001b[0m\n"
      ]
     },
     "metadata": {},
     "output_type": "display_data"
    },
    {
     "name": "stdout",
     "output_type": "stream",
     "text": [
      "Fetching top tracks for artist: I Prevail (ID: 7185748)...\n"
     ]
    },
    {
     "data": {
      "text/html": [
       "<pre style=\"white-space:pre;overflow-x:auto;line-height:normal;font-family:Menlo,'DejaVu Sans Mono',consolas,'Courier New',monospace\"><span style=\"color: #008000; text-decoration-color: #008000\">Successfully fetched data for </span><span style=\"color: #800080; text-decoration-color: #800080; font-weight: bold\">/artist/7185748/</span><span style=\"color: #ff00ff; text-decoration-color: #ff00ff; font-weight: bold\">top</span>\n",
       "</pre>\n"
      ],
      "text/plain": [
       "\u001b[32mSuccessfully fetched data for \u001b[0m\u001b[1;35m/artist/7185748/\u001b[0m\u001b[1;95mtop\u001b[0m\n"
      ]
     },
     "metadata": {},
     "output_type": "display_data"
    },
    {
     "name": "stdout",
     "output_type": "stream",
     "text": [
      "Fetching top tracks for artist: Our Last Night (ID: 68249)...\n"
     ]
    },
    {
     "data": {
      "text/html": [
       "<pre style=\"white-space:pre;overflow-x:auto;line-height:normal;font-family:Menlo,'DejaVu Sans Mono',consolas,'Courier New',monospace\"><span style=\"color: #008000; text-decoration-color: #008000\">Successfully fetched data for </span><span style=\"color: #800080; text-decoration-color: #800080; font-weight: bold\">/artist/68249/</span><span style=\"color: #ff00ff; text-decoration-color: #ff00ff; font-weight: bold\">top</span>\n",
       "</pre>\n"
      ],
      "text/plain": [
       "\u001b[32mSuccessfully fetched data for \u001b[0m\u001b[1;35m/artist/68249/\u001b[0m\u001b[1;95mtop\u001b[0m\n"
      ]
     },
     "metadata": {},
     "output_type": "display_data"
    },
    {
     "name": "stdout",
     "output_type": "stream",
     "text": [
      "Fetching top tracks for artist: Chappell Roan (ID: 12945219)...\n"
     ]
    },
    {
     "data": {
      "text/html": [
       "<pre style=\"white-space:pre;overflow-x:auto;line-height:normal;font-family:Menlo,'DejaVu Sans Mono',consolas,'Courier New',monospace\"><span style=\"color: #008000; text-decoration-color: #008000\">Successfully fetched data for </span><span style=\"color: #800080; text-decoration-color: #800080; font-weight: bold\">/artist/12945219/</span><span style=\"color: #ff00ff; text-decoration-color: #ff00ff; font-weight: bold\">top</span>\n",
       "</pre>\n"
      ],
      "text/plain": [
       "\u001b[32mSuccessfully fetched data for \u001b[0m\u001b[1;35m/artist/12945219/\u001b[0m\u001b[1;95mtop\u001b[0m\n"
      ]
     },
     "metadata": {},
     "output_type": "display_data"
    },
    {
     "name": "stdout",
     "output_type": "stream",
     "text": [
      "Fetching top tracks for artist: girl in red (ID: 14226477)...\n"
     ]
    },
    {
     "data": {
      "text/html": [
       "<pre style=\"white-space:pre;overflow-x:auto;line-height:normal;font-family:Menlo,'DejaVu Sans Mono',consolas,'Courier New',monospace\"><span style=\"color: #008000; text-decoration-color: #008000\">Successfully fetched data for </span><span style=\"color: #800080; text-decoration-color: #800080; font-weight: bold\">/artist/14226477/</span><span style=\"color: #ff00ff; text-decoration-color: #ff00ff; font-weight: bold\">top</span>\n",
       "</pre>\n"
      ],
      "text/plain": [
       "\u001b[32mSuccessfully fetched data for \u001b[0m\u001b[1;35m/artist/14226477/\u001b[0m\u001b[1;95mtop\u001b[0m\n"
      ]
     },
     "metadata": {},
     "output_type": "display_data"
    },
    {
     "name": "stdout",
     "output_type": "stream",
     "text": [
      "Fetching top tracks for artist: Maisie Peters (ID: 13022633)...\n"
     ]
    },
    {
     "data": {
      "text/html": [
       "<pre style=\"white-space:pre;overflow-x:auto;line-height:normal;font-family:Menlo,'DejaVu Sans Mono',consolas,'Courier New',monospace\"><span style=\"color: #008000; text-decoration-color: #008000\">Successfully fetched data for </span><span style=\"color: #800080; text-decoration-color: #800080; font-weight: bold\">/artist/13022633/</span><span style=\"color: #ff00ff; text-decoration-color: #ff00ff; font-weight: bold\">top</span>\n",
       "</pre>\n"
      ],
      "text/plain": [
       "\u001b[32mSuccessfully fetched data for \u001b[0m\u001b[1;35m/artist/13022633/\u001b[0m\u001b[1;95mtop\u001b[0m\n"
      ]
     },
     "metadata": {},
     "output_type": "display_data"
    },
    {
     "name": "stdout",
     "output_type": "stream",
     "text": [
      "Fetching top tracks for artist: Central Cee (ID: 12096038)...\n"
     ]
    },
    {
     "data": {
      "text/html": [
       "<pre style=\"white-space:pre;overflow-x:auto;line-height:normal;font-family:Menlo,'DejaVu Sans Mono',consolas,'Courier New',monospace\"><span style=\"color: #008000; text-decoration-color: #008000\">Successfully fetched data for </span><span style=\"color: #800080; text-decoration-color: #800080; font-weight: bold\">/artist/12096038/</span><span style=\"color: #ff00ff; text-decoration-color: #ff00ff; font-weight: bold\">top</span>\n",
       "</pre>\n"
      ],
      "text/plain": [
       "\u001b[32mSuccessfully fetched data for \u001b[0m\u001b[1;35m/artist/12096038/\u001b[0m\u001b[1;95mtop\u001b[0m\n"
      ]
     },
     "metadata": {},
     "output_type": "display_data"
    },
    {
     "name": "stdout",
     "output_type": "stream",
     "text": [
      "Fetching top tracks for artist: Drake (ID: 246791)...\n"
     ]
    },
    {
     "data": {
      "text/html": [
       "<pre style=\"white-space:pre;overflow-x:auto;line-height:normal;font-family:Menlo,'DejaVu Sans Mono',consolas,'Courier New',monospace\"><span style=\"color: #008000; text-decoration-color: #008000\">Successfully fetched data for </span><span style=\"color: #800080; text-decoration-color: #800080; font-weight: bold\">/artist/246791/</span><span style=\"color: #ff00ff; text-decoration-color: #ff00ff; font-weight: bold\">top</span>\n",
       "</pre>\n"
      ],
      "text/plain": [
       "\u001b[32mSuccessfully fetched data for \u001b[0m\u001b[1;35m/artist/246791/\u001b[0m\u001b[1;95mtop\u001b[0m\n"
      ]
     },
     "metadata": {},
     "output_type": "display_data"
    },
    {
     "name": "stdout",
     "output_type": "stream",
     "text": [
      "Fetching top tracks for artist: Vince Staples (ID: 4037971)...\n"
     ]
    },
    {
     "data": {
      "text/html": [
       "<pre style=\"white-space:pre;overflow-x:auto;line-height:normal;font-family:Menlo,'DejaVu Sans Mono',consolas,'Courier New',monospace\"><span style=\"color: #008000; text-decoration-color: #008000\">Successfully fetched data for </span><span style=\"color: #800080; text-decoration-color: #800080; font-weight: bold\">/artist/4037971/</span><span style=\"color: #ff00ff; text-decoration-color: #ff00ff; font-weight: bold\">top</span>\n",
       "</pre>\n"
      ],
      "text/plain": [
       "\u001b[32mSuccessfully fetched data for \u001b[0m\u001b[1;35m/artist/4037971/\u001b[0m\u001b[1;95mtop\u001b[0m\n"
      ]
     },
     "metadata": {},
     "output_type": "display_data"
    },
    {
     "name": "stdout",
     "output_type": "stream",
     "text": [
      "Fetching top tracks for artist: Lil Yachty (ID: 9776678)...\n"
     ]
    },
    {
     "data": {
      "text/html": [
       "<pre style=\"white-space:pre;overflow-x:auto;line-height:normal;font-family:Menlo,'DejaVu Sans Mono',consolas,'Courier New',monospace\"><span style=\"color: #008000; text-decoration-color: #008000\">Successfully fetched data for </span><span style=\"color: #800080; text-decoration-color: #800080; font-weight: bold\">/artist/9776678/</span><span style=\"color: #ff00ff; text-decoration-color: #ff00ff; font-weight: bold\">top</span>\n",
       "</pre>\n"
      ],
      "text/plain": [
       "\u001b[32mSuccessfully fetched data for \u001b[0m\u001b[1;35m/artist/9776678/\u001b[0m\u001b[1;95mtop\u001b[0m\n"
      ]
     },
     "metadata": {},
     "output_type": "display_data"
    },
    {
     "name": "stdout",
     "output_type": "stream",
     "text": [
      "Fetching top tracks for artist: Lil Tecca (ID: 14492701)...\n"
     ]
    },
    {
     "data": {
      "text/html": [
       "<pre style=\"white-space:pre;overflow-x:auto;line-height:normal;font-family:Menlo,'DejaVu Sans Mono',consolas,'Courier New',monospace\"><span style=\"color: #008000; text-decoration-color: #008000\">Successfully fetched data for </span><span style=\"color: #800080; text-decoration-color: #800080; font-weight: bold\">/artist/14492701/</span><span style=\"color: #ff00ff; text-decoration-color: #ff00ff; font-weight: bold\">top</span>\n",
       "</pre>\n"
      ],
      "text/plain": [
       "\u001b[32mSuccessfully fetched data for \u001b[0m\u001b[1;35m/artist/14492701/\u001b[0m\u001b[1;95mtop\u001b[0m\n"
      ]
     },
     "metadata": {},
     "output_type": "display_data"
    },
    {
     "name": "stdout",
     "output_type": "stream",
     "text": [
      "Fetching top tracks for artist: Ed Sheeran (ID: 384236)...\n"
     ]
    },
    {
     "data": {
      "text/html": [
       "<pre style=\"white-space:pre;overflow-x:auto;line-height:normal;font-family:Menlo,'DejaVu Sans Mono',consolas,'Courier New',monospace\"><span style=\"color: #008000; text-decoration-color: #008000\">Successfully fetched data for </span><span style=\"color: #800080; text-decoration-color: #800080; font-weight: bold\">/artist/384236/</span><span style=\"color: #ff00ff; text-decoration-color: #ff00ff; font-weight: bold\">top</span>\n",
       "</pre>\n"
      ],
      "text/plain": [
       "\u001b[32mSuccessfully fetched data for \u001b[0m\u001b[1;35m/artist/384236/\u001b[0m\u001b[1;95mtop\u001b[0m\n"
      ]
     },
     "metadata": {},
     "output_type": "display_data"
    },
    {
     "name": "stdout",
     "output_type": "stream",
     "text": [
      "Fetching top tracks for artist: Billie Eilish (ID: 9635624)...\n"
     ]
    },
    {
     "data": {
      "text/html": [
       "<pre style=\"white-space:pre;overflow-x:auto;line-height:normal;font-family:Menlo,'DejaVu Sans Mono',consolas,'Courier New',monospace\"><span style=\"color: #008000; text-decoration-color: #008000\">Successfully fetched data for </span><span style=\"color: #800080; text-decoration-color: #800080; font-weight: bold\">/artist/9635624/</span><span style=\"color: #ff00ff; text-decoration-color: #ff00ff; font-weight: bold\">top</span>\n",
       "</pre>\n"
      ],
      "text/plain": [
       "\u001b[32mSuccessfully fetched data for \u001b[0m\u001b[1;35m/artist/9635624/\u001b[0m\u001b[1;95mtop\u001b[0m\n"
      ]
     },
     "metadata": {},
     "output_type": "display_data"
    },
    {
     "name": "stdout",
     "output_type": "stream",
     "text": [
      "Fetching top tracks for artist: Post Malone (ID: 7543848)...\n"
     ]
    },
    {
     "data": {
      "text/html": [
       "<pre style=\"white-space:pre;overflow-x:auto;line-height:normal;font-family:Menlo,'DejaVu Sans Mono',consolas,'Courier New',monospace\"><span style=\"color: #008000; text-decoration-color: #008000\">Successfully fetched data for </span><span style=\"color: #800080; text-decoration-color: #800080; font-weight: bold\">/artist/7543848/</span><span style=\"color: #ff00ff; text-decoration-color: #ff00ff; font-weight: bold\">top</span>\n",
       "</pre>\n"
      ],
      "text/plain": [
       "\u001b[32mSuccessfully fetched data for \u001b[0m\u001b[1;35m/artist/7543848/\u001b[0m\u001b[1;95mtop\u001b[0m\n"
      ]
     },
     "metadata": {},
     "output_type": "display_data"
    },
    {
     "name": "stdout",
     "output_type": "stream",
     "text": [
      "Fetching top tracks for artist: Dua Lipa (ID: 8706544)...\n"
     ]
    },
    {
     "data": {
      "text/html": [
       "<pre style=\"white-space:pre;overflow-x:auto;line-height:normal;font-family:Menlo,'DejaVu Sans Mono',consolas,'Courier New',monospace\"><span style=\"color: #008000; text-decoration-color: #008000\">Successfully fetched data for </span><span style=\"color: #800080; text-decoration-color: #800080; font-weight: bold\">/artist/8706544/</span><span style=\"color: #ff00ff; text-decoration-color: #ff00ff; font-weight: bold\">top</span>\n",
       "</pre>\n"
      ],
      "text/plain": [
       "\u001b[32mSuccessfully fetched data for \u001b[0m\u001b[1;35m/artist/8706544/\u001b[0m\u001b[1;95mtop\u001b[0m\n"
      ]
     },
     "metadata": {},
     "output_type": "display_data"
    },
    {
     "name": "stdout",
     "output_type": "stream",
     "text": [
      "Fetching top tracks for artist: The Weeknd (ID: 4050205)...\n"
     ]
    },
    {
     "data": {
      "text/html": [
       "<pre style=\"white-space:pre;overflow-x:auto;line-height:normal;font-family:Menlo,'DejaVu Sans Mono',consolas,'Courier New',monospace\"><span style=\"color: #008000; text-decoration-color: #008000\">Successfully fetched data for </span><span style=\"color: #800080; text-decoration-color: #800080; font-weight: bold\">/artist/4050205/</span><span style=\"color: #ff00ff; text-decoration-color: #ff00ff; font-weight: bold\">top</span>\n",
       "</pre>\n"
      ],
      "text/plain": [
       "\u001b[32mSuccessfully fetched data for \u001b[0m\u001b[1;35m/artist/4050205/\u001b[0m\u001b[1;95mtop\u001b[0m\n"
      ]
     },
     "metadata": {},
     "output_type": "display_data"
    },
    {
     "name": "stdout",
     "output_type": "stream",
     "text": [
      "Fetching top tracks for artist: Imagine Dragons (ID: 416239)...\n"
     ]
    },
    {
     "data": {
      "text/html": [
       "<pre style=\"white-space:pre;overflow-x:auto;line-height:normal;font-family:Menlo,'DejaVu Sans Mono',consolas,'Courier New',monospace\"><span style=\"color: #008000; text-decoration-color: #008000\">Successfully fetched data for </span><span style=\"color: #800080; text-decoration-color: #800080; font-weight: bold\">/artist/416239/</span><span style=\"color: #ff00ff; text-decoration-color: #ff00ff; font-weight: bold\">top</span>\n",
       "</pre>\n"
      ],
      "text/plain": [
       "\u001b[32mSuccessfully fetched data for \u001b[0m\u001b[1;35m/artist/416239/\u001b[0m\u001b[1;95mtop\u001b[0m\n"
      ]
     },
     "metadata": {},
     "output_type": "display_data"
    },
    {
     "name": "stdout",
     "output_type": "stream",
     "text": [
      "Fetching top tracks for artist: Adele (ID: 75798)...\n"
     ]
    },
    {
     "data": {
      "text/html": [
       "<pre style=\"white-space:pre;overflow-x:auto;line-height:normal;font-family:Menlo,'DejaVu Sans Mono',consolas,'Courier New',monospace\"><span style=\"color: #008000; text-decoration-color: #008000\">Successfully fetched data for </span><span style=\"color: #800080; text-decoration-color: #800080; font-weight: bold\">/artist/75798/</span><span style=\"color: #ff00ff; text-decoration-color: #ff00ff; font-weight: bold\">top</span>\n",
       "</pre>\n"
      ],
      "text/plain": [
       "\u001b[32mSuccessfully fetched data for \u001b[0m\u001b[1;35m/artist/75798/\u001b[0m\u001b[1;95mtop\u001b[0m\n"
      ]
     },
     "metadata": {},
     "output_type": "display_data"
    },
    {
     "name": "stdout",
     "output_type": "stream",
     "text": [
      "Fetching top tracks for artist: Bruno Mars (ID: 429675)...\n"
     ]
    },
    {
     "data": {
      "text/html": [
       "<pre style=\"white-space:pre;overflow-x:auto;line-height:normal;font-family:Menlo,'DejaVu Sans Mono',consolas,'Courier New',monospace\"><span style=\"color: #008000; text-decoration-color: #008000\">Successfully fetched data for </span><span style=\"color: #800080; text-decoration-color: #800080; font-weight: bold\">/artist/429675/</span><span style=\"color: #ff00ff; text-decoration-color: #ff00ff; font-weight: bold\">top</span>\n",
       "</pre>\n"
      ],
      "text/plain": [
       "\u001b[32mSuccessfully fetched data for \u001b[0m\u001b[1;35m/artist/429675/\u001b[0m\u001b[1;95mtop\u001b[0m\n"
      ]
     },
     "metadata": {},
     "output_type": "display_data"
    },
    {
     "name": "stdout",
     "output_type": "stream",
     "text": [
      "Fetching top tracks for artist: BTS (ID: 6982223)...\n"
     ]
    },
    {
     "data": {
      "text/html": [
       "<pre style=\"white-space:pre;overflow-x:auto;line-height:normal;font-family:Menlo,'DejaVu Sans Mono',consolas,'Courier New',monospace\"><span style=\"color: #008000; text-decoration-color: #008000\">Successfully fetched data for </span><span style=\"color: #800080; text-decoration-color: #800080; font-weight: bold\">/artist/6982223/</span><span style=\"color: #ff00ff; text-decoration-color: #ff00ff; font-weight: bold\">top</span>\n",
       "</pre>\n"
      ],
      "text/plain": [
       "\u001b[32mSuccessfully fetched data for \u001b[0m\u001b[1;35m/artist/6982223/\u001b[0m\u001b[1;95mtop\u001b[0m\n"
      ]
     },
     "metadata": {},
     "output_type": "display_data"
    },
    {
     "name": "stdout",
     "output_type": "stream",
     "text": [
      "Fetching top tracks for artist: Maroon 5 (ID: 1188)...\n"
     ]
    },
    {
     "data": {
      "text/html": [
       "<pre style=\"white-space:pre;overflow-x:auto;line-height:normal;font-family:Menlo,'DejaVu Sans Mono',consolas,'Courier New',monospace\"><span style=\"color: #008000; text-decoration-color: #008000\">Successfully fetched data for </span><span style=\"color: #800080; text-decoration-color: #800080; font-weight: bold\">/artist/1188/</span><span style=\"color: #ff00ff; text-decoration-color: #ff00ff; font-weight: bold\">top</span>\n",
       "</pre>\n"
      ],
      "text/plain": [
       "\u001b[32mSuccessfully fetched data for \u001b[0m\u001b[1;35m/artist/1188/\u001b[0m\u001b[1;95mtop\u001b[0m\n"
      ]
     },
     "metadata": {},
     "output_type": "display_data"
    },
    {
     "name": "stdout",
     "output_type": "stream",
     "text": [
      "Fetching top tracks for artist: Justin Bieber (ID: 288166)...\n"
     ]
    },
    {
     "data": {
      "text/html": [
       "<pre style=\"white-space:pre;overflow-x:auto;line-height:normal;font-family:Menlo,'DejaVu Sans Mono',consolas,'Courier New',monospace\"><span style=\"color: #008000; text-decoration-color: #008000\">Successfully fetched data for </span><span style=\"color: #800080; text-decoration-color: #800080; font-weight: bold\">/artist/288166/</span><span style=\"color: #ff00ff; text-decoration-color: #ff00ff; font-weight: bold\">top</span>\n",
       "</pre>\n"
      ],
      "text/plain": [
       "\u001b[32mSuccessfully fetched data for \u001b[0m\u001b[1;35m/artist/288166/\u001b[0m\u001b[1;95mtop\u001b[0m\n"
      ]
     },
     "metadata": {},
     "output_type": "display_data"
    },
    {
     "name": "stdout",
     "output_type": "stream",
     "text": [
      "Fetching top tracks for artist: Cardi B (ID: 9064930)...\n"
     ]
    },
    {
     "data": {
      "text/html": [
       "<pre style=\"white-space:pre;overflow-x:auto;line-height:normal;font-family:Menlo,'DejaVu Sans Mono',consolas,'Courier New',monospace\"><span style=\"color: #008000; text-decoration-color: #008000\">Successfully fetched data for </span><span style=\"color: #800080; text-decoration-color: #800080; font-weight: bold\">/artist/9064930/</span><span style=\"color: #ff00ff; text-decoration-color: #ff00ff; font-weight: bold\">top</span>\n",
       "</pre>\n"
      ],
      "text/plain": [
       "\u001b[32mSuccessfully fetched data for \u001b[0m\u001b[1;35m/artist/9064930/\u001b[0m\u001b[1;95mtop\u001b[0m\n"
      ]
     },
     "metadata": {},
     "output_type": "display_data"
    },
    {
     "name": "stdout",
     "output_type": "stream",
     "text": [
      "Fetching top tracks for artist: Travis Scott (ID: 4495513)...\n"
     ]
    },
    {
     "data": {
      "text/html": [
       "<pre style=\"white-space:pre;overflow-x:auto;line-height:normal;font-family:Menlo,'DejaVu Sans Mono',consolas,'Courier New',monospace\"><span style=\"color: #008000; text-decoration-color: #008000\">Successfully fetched data for </span><span style=\"color: #800080; text-decoration-color: #800080; font-weight: bold\">/artist/4495513/</span><span style=\"color: #ff00ff; text-decoration-color: #ff00ff; font-weight: bold\">top</span>\n",
       "</pre>\n"
      ],
      "text/plain": [
       "\u001b[32mSuccessfully fetched data for \u001b[0m\u001b[1;35m/artist/4495513/\u001b[0m\u001b[1;95mtop\u001b[0m\n"
      ]
     },
     "metadata": {},
     "output_type": "display_data"
    },
    {
     "name": "stdout",
     "output_type": "stream",
     "text": [
      "Fetching top tracks for artist: Halsey (ID: 5292512)...\n"
     ]
    },
    {
     "data": {
      "text/html": [
       "<pre style=\"white-space:pre;overflow-x:auto;line-height:normal;font-family:Menlo,'DejaVu Sans Mono',consolas,'Courier New',monospace\"><span style=\"color: #008000; text-decoration-color: #008000\">Successfully fetched data for </span><span style=\"color: #800080; text-decoration-color: #800080; font-weight: bold\">/artist/5292512/</span><span style=\"color: #ff00ff; text-decoration-color: #ff00ff; font-weight: bold\">top</span>\n",
       "</pre>\n"
      ],
      "text/plain": [
       "\u001b[32mSuccessfully fetched data for \u001b[0m\u001b[1;35m/artist/5292512/\u001b[0m\u001b[1;95mtop\u001b[0m\n"
      ]
     },
     "metadata": {},
     "output_type": "display_data"
    },
    {
     "name": "stdout",
     "output_type": "stream",
     "text": [
      "Fetching top tracks for artist: Khalid (ID: 362326)...\n"
     ]
    },
    {
     "data": {
      "text/html": [
       "<pre style=\"white-space:pre;overflow-x:auto;line-height:normal;font-family:Menlo,'DejaVu Sans Mono',consolas,'Courier New',monospace\"><span style=\"color: #008000; text-decoration-color: #008000\">Successfully fetched data for </span><span style=\"color: #800080; text-decoration-color: #800080; font-weight: bold\">/artist/362326/</span><span style=\"color: #ff00ff; text-decoration-color: #ff00ff; font-weight: bold\">top</span>\n",
       "</pre>\n"
      ],
      "text/plain": [
       "\u001b[32mSuccessfully fetched data for \u001b[0m\u001b[1;35m/artist/362326/\u001b[0m\u001b[1;95mtop\u001b[0m\n"
      ]
     },
     "metadata": {},
     "output_type": "display_data"
    },
    {
     "name": "stdout",
     "output_type": "stream",
     "text": [
      "Fetching top tracks for artist: Sam Smith (ID: 1097709)...\n"
     ]
    },
    {
     "data": {
      "text/html": [
       "<pre style=\"white-space:pre;overflow-x:auto;line-height:normal;font-family:Menlo,'DejaVu Sans Mono',consolas,'Courier New',monospace\"><span style=\"color: #008000; text-decoration-color: #008000\">Successfully fetched data for </span><span style=\"color: #800080; text-decoration-color: #800080; font-weight: bold\">/artist/1097709/</span><span style=\"color: #ff00ff; text-decoration-color: #ff00ff; font-weight: bold\">top</span>\n",
       "</pre>\n"
      ],
      "text/plain": [
       "\u001b[32mSuccessfully fetched data for \u001b[0m\u001b[1;35m/artist/1097709/\u001b[0m\u001b[1;95mtop\u001b[0m\n"
      ]
     },
     "metadata": {},
     "output_type": "display_data"
    },
    {
     "name": "stdout",
     "output_type": "stream",
     "text": [
      "Fetching top tracks for artist: Lizzo (ID: 5200025)...\n"
     ]
    },
    {
     "data": {
      "text/html": [
       "<pre style=\"white-space:pre;overflow-x:auto;line-height:normal;font-family:Menlo,'DejaVu Sans Mono',consolas,'Courier New',monospace\"><span style=\"color: #008000; text-decoration-color: #008000\">Successfully fetched data for </span><span style=\"color: #800080; text-decoration-color: #800080; font-weight: bold\">/artist/5200025/</span><span style=\"color: #ff00ff; text-decoration-color: #ff00ff; font-weight: bold\">top</span>\n",
       "</pre>\n"
      ],
      "text/plain": [
       "\u001b[32mSuccessfully fetched data for \u001b[0m\u001b[1;35m/artist/5200025/\u001b[0m\u001b[1;95mtop\u001b[0m\n"
      ]
     },
     "metadata": {},
     "output_type": "display_data"
    },
    {
     "name": "stdout",
     "output_type": "stream",
     "text": [
      "Fetching top tracks for artist: Harry Styles (ID: 5313805)...\n"
     ]
    },
    {
     "data": {
      "text/html": [
       "<pre style=\"white-space:pre;overflow-x:auto;line-height:normal;font-family:Menlo,'DejaVu Sans Mono',consolas,'Courier New',monospace\"><span style=\"color: #008000; text-decoration-color: #008000\">Successfully fetched data for </span><span style=\"color: #800080; text-decoration-color: #800080; font-weight: bold\">/artist/5313805/</span><span style=\"color: #ff00ff; text-decoration-color: #ff00ff; font-weight: bold\">top</span>\n",
       "</pre>\n"
      ],
      "text/plain": [
       "\u001b[32mSuccessfully fetched data for \u001b[0m\u001b[1;35m/artist/5313805/\u001b[0m\u001b[1;95mtop\u001b[0m\n"
      ]
     },
     "metadata": {},
     "output_type": "display_data"
    },
    {
     "name": "stdout",
     "output_type": "stream",
     "text": [
      "Fetching top tracks for artist: J Balvin (ID: 4860761)...\n"
     ]
    },
    {
     "data": {
      "text/html": [
       "<pre style=\"white-space:pre;overflow-x:auto;line-height:normal;font-family:Menlo,'DejaVu Sans Mono',consolas,'Courier New',monospace\"><span style=\"color: #008000; text-decoration-color: #008000\">Successfully fetched data for </span><span style=\"color: #800080; text-decoration-color: #800080; font-weight: bold\">/artist/4860761/</span><span style=\"color: #ff00ff; text-decoration-color: #ff00ff; font-weight: bold\">top</span>\n",
       "</pre>\n"
      ],
      "text/plain": [
       "\u001b[32mSuccessfully fetched data for \u001b[0m\u001b[1;35m/artist/4860761/\u001b[0m\u001b[1;95mtop\u001b[0m\n"
      ]
     },
     "metadata": {},
     "output_type": "display_data"
    },
    {
     "name": "stdout",
     "output_type": "stream",
     "text": [
      "Fetching top tracks for artist: Bad Bunny (ID: 10583405)...\n"
     ]
    },
    {
     "data": {
      "text/html": [
       "<pre style=\"white-space:pre;overflow-x:auto;line-height:normal;font-family:Menlo,'DejaVu Sans Mono',consolas,'Courier New',monospace\"><span style=\"color: #008000; text-decoration-color: #008000\">Successfully fetched data for </span><span style=\"color: #800080; text-decoration-color: #800080; font-weight: bold\">/artist/10583405/</span><span style=\"color: #ff00ff; text-decoration-color: #ff00ff; font-weight: bold\">top</span>\n",
       "</pre>\n"
      ],
      "text/plain": [
       "\u001b[32mSuccessfully fetched data for \u001b[0m\u001b[1;35m/artist/10583405/\u001b[0m\u001b[1;95mtop\u001b[0m\n"
      ]
     },
     "metadata": {},
     "output_type": "display_data"
    },
    {
     "name": "stdout",
     "output_type": "stream",
     "text": [
      "Fetching top tracks for artist: Doja Cat (ID: 5578942)...\n"
     ]
    },
    {
     "data": {
      "text/html": [
       "<pre style=\"white-space:pre;overflow-x:auto;line-height:normal;font-family:Menlo,'DejaVu Sans Mono',consolas,'Courier New',monospace\"><span style=\"color: #008000; text-decoration-color: #008000\">Successfully fetched data for </span><span style=\"color: #800080; text-decoration-color: #800080; font-weight: bold\">/artist/5578942/</span><span style=\"color: #ff00ff; text-decoration-color: #ff00ff; font-weight: bold\">top</span>\n",
       "</pre>\n"
      ],
      "text/plain": [
       "\u001b[32mSuccessfully fetched data for \u001b[0m\u001b[1;35m/artist/5578942/\u001b[0m\u001b[1;95mtop\u001b[0m\n"
      ]
     },
     "metadata": {},
     "output_type": "display_data"
    },
    {
     "name": "stdout",
     "output_type": "stream",
     "text": [
      "Fetching top tracks for artist: Olivia Rodrigo (ID: 11152580)...\n"
     ]
    },
    {
     "data": {
      "text/html": [
       "<pre style=\"white-space:pre;overflow-x:auto;line-height:normal;font-family:Menlo,'DejaVu Sans Mono',consolas,'Courier New',monospace\"><span style=\"color: #008000; text-decoration-color: #008000\">Successfully fetched data for </span><span style=\"color: #800080; text-decoration-color: #800080; font-weight: bold\">/artist/11152580/</span><span style=\"color: #ff00ff; text-decoration-color: #ff00ff; font-weight: bold\">top</span>\n",
       "</pre>\n"
      ],
      "text/plain": [
       "\u001b[32mSuccessfully fetched data for \u001b[0m\u001b[1;35m/artist/11152580/\u001b[0m\u001b[1;95mtop\u001b[0m\n"
      ]
     },
     "metadata": {},
     "output_type": "display_data"
    },
    {
     "name": "stdout",
     "output_type": "stream",
     "text": [
      "Fetching top tracks for artist: SZA (ID: 5531258)...\n"
     ]
    },
    {
     "data": {
      "text/html": [
       "<pre style=\"white-space:pre;overflow-x:auto;line-height:normal;font-family:Menlo,'DejaVu Sans Mono',consolas,'Courier New',monospace\"><span style=\"color: #008000; text-decoration-color: #008000\">Successfully fetched data for </span><span style=\"color: #800080; text-decoration-color: #800080; font-weight: bold\">/artist/5531258/</span><span style=\"color: #ff00ff; text-decoration-color: #ff00ff; font-weight: bold\">top</span>\n",
       "</pre>\n"
      ],
      "text/plain": [
       "\u001b[32mSuccessfully fetched data for \u001b[0m\u001b[1;35m/artist/5531258/\u001b[0m\u001b[1;95mtop\u001b[0m\n"
      ]
     },
     "metadata": {},
     "output_type": "display_data"
    },
    {
     "name": "stdout",
     "output_type": "stream",
     "text": [
      "Fetching top tracks for artist: Lil Nas X (ID: 15166511)...\n"
     ]
    },
    {
     "data": {
      "text/html": [
       "<pre style=\"white-space:pre;overflow-x:auto;line-height:normal;font-family:Menlo,'DejaVu Sans Mono',consolas,'Courier New',monospace\"><span style=\"color: #008000; text-decoration-color: #008000\">Successfully fetched data for </span><span style=\"color: #800080; text-decoration-color: #800080; font-weight: bold\">/artist/15166511/</span><span style=\"color: #ff00ff; text-decoration-color: #ff00ff; font-weight: bold\">top</span>\n",
       "</pre>\n"
      ],
      "text/plain": [
       "\u001b[32mSuccessfully fetched data for \u001b[0m\u001b[1;35m/artist/15166511/\u001b[0m\u001b[1;95mtop\u001b[0m\n"
      ]
     },
     "metadata": {},
     "output_type": "display_data"
    },
    {
     "name": "stdout",
     "output_type": "stream",
     "text": [
      "Fetching top tracks for artist: Megan Thee Stallion (ID: 12816021)...\n"
     ]
    },
    {
     "data": {
      "text/html": [
       "<pre style=\"white-space:pre;overflow-x:auto;line-height:normal;font-family:Menlo,'DejaVu Sans Mono',consolas,'Courier New',monospace\"><span style=\"color: #008000; text-decoration-color: #008000\">Successfully fetched data for </span><span style=\"color: #800080; text-decoration-color: #800080; font-weight: bold\">/artist/12816021/</span><span style=\"color: #ff00ff; text-decoration-color: #ff00ff; font-weight: bold\">top</span>\n",
       "</pre>\n"
      ],
      "text/plain": [
       "\u001b[32mSuccessfully fetched data for \u001b[0m\u001b[1;35m/artist/12816021/\u001b[0m\u001b[1;95mtop\u001b[0m\n"
      ]
     },
     "metadata": {},
     "output_type": "display_data"
    },
    {
     "name": "stdout",
     "output_type": "stream",
     "text": [
      "Fetching top tracks for artist: BLACKPINK (ID: 10803980)...\n"
     ]
    },
    {
     "data": {
      "text/html": [
       "<pre style=\"white-space:pre;overflow-x:auto;line-height:normal;font-family:Menlo,'DejaVu Sans Mono',consolas,'Courier New',monospace\"><span style=\"color: #008000; text-decoration-color: #008000\">Successfully fetched data for </span><span style=\"color: #800080; text-decoration-color: #800080; font-weight: bold\">/artist/10803980/</span><span style=\"color: #ff00ff; text-decoration-color: #ff00ff; font-weight: bold\">top</span>\n",
       "</pre>\n"
      ],
      "text/plain": [
       "\u001b[32mSuccessfully fetched data for \u001b[0m\u001b[1;35m/artist/10803980/\u001b[0m\u001b[1;95mtop\u001b[0m\n"
      ]
     },
     "metadata": {},
     "output_type": "display_data"
    },
    {
     "name": "stdout",
     "output_type": "stream",
     "text": [
      "Fetching top tracks for artist: Camila Cabello (ID: 9236850)...\n"
     ]
    },
    {
     "data": {
      "text/html": [
       "<pre style=\"white-space:pre;overflow-x:auto;line-height:normal;font-family:Menlo,'DejaVu Sans Mono',consolas,'Courier New',monospace\"><span style=\"color: #008000; text-decoration-color: #008000\">Successfully fetched data for </span><span style=\"color: #800080; text-decoration-color: #800080; font-weight: bold\">/artist/9236850/</span><span style=\"color: #ff00ff; text-decoration-color: #ff00ff; font-weight: bold\">top</span>\n",
       "</pre>\n"
      ],
      "text/plain": [
       "\u001b[32mSuccessfully fetched data for \u001b[0m\u001b[1;35m/artist/9236850/\u001b[0m\u001b[1;95mtop\u001b[0m\n"
      ]
     },
     "metadata": {},
     "output_type": "display_data"
    },
    {
     "name": "stdout",
     "output_type": "stream",
     "text": [
      "Fetching top tracks for artist: Jonas Brothers (ID: 15888)...\n"
     ]
    },
    {
     "data": {
      "text/html": [
       "<pre style=\"white-space:pre;overflow-x:auto;line-height:normal;font-family:Menlo,'DejaVu Sans Mono',consolas,'Courier New',monospace\"><span style=\"color: #008000; text-decoration-color: #008000\">Successfully fetched data for </span><span style=\"color: #800080; text-decoration-color: #800080; font-weight: bold\">/artist/15888/</span><span style=\"color: #ff00ff; text-decoration-color: #ff00ff; font-weight: bold\">top</span>\n",
       "</pre>\n"
      ],
      "text/plain": [
       "\u001b[32mSuccessfully fetched data for \u001b[0m\u001b[1;35m/artist/15888/\u001b[0m\u001b[1;95mtop\u001b[0m\n"
      ]
     },
     "metadata": {},
     "output_type": "display_data"
    },
    {
     "name": "stdout",
     "output_type": "stream",
     "text": [
      "Fetching top tracks for artist: Nicki Minaj (ID: 382937)...\n"
     ]
    },
    {
     "data": {
      "text/html": [
       "<pre style=\"white-space:pre;overflow-x:auto;line-height:normal;font-family:Menlo,'DejaVu Sans Mono',consolas,'Courier New',monospace\"><span style=\"color: #008000; text-decoration-color: #008000\">Successfully fetched data for </span><span style=\"color: #800080; text-decoration-color: #800080; font-weight: bold\">/artist/382937/</span><span style=\"color: #ff00ff; text-decoration-color: #ff00ff; font-weight: bold\">top</span>\n",
       "</pre>\n"
      ],
      "text/plain": [
       "\u001b[32mSuccessfully fetched data for \u001b[0m\u001b[1;35m/artist/382937/\u001b[0m\u001b[1;95mtop\u001b[0m\n"
      ]
     },
     "metadata": {},
     "output_type": "display_data"
    },
    {
     "data": {
      "text/html": [
       "<div>\n",
       "<style scoped>\n",
       "    .dataframe tbody tr th:only-of-type {\n",
       "        vertical-align: middle;\n",
       "    }\n",
       "\n",
       "    .dataframe tbody tr th {\n",
       "        vertical-align: top;\n",
       "    }\n",
       "\n",
       "    .dataframe thead th {\n",
       "        text-align: right;\n",
       "    }\n",
       "</style>\n",
       "<table border=\"1\" class=\"dataframe\">\n",
       "  <thead>\n",
       "    <tr style=\"text-align: right;\">\n",
       "      <th></th>\n",
       "      <th>track_id</th>\n",
       "      <th>title</th>\n",
       "      <th>album_name</th>\n",
       "      <th>rank</th>\n",
       "      <th>duration</th>\n",
       "      <th>explicit_lyrics</th>\n",
       "      <th>artist_id</th>\n",
       "    </tr>\n",
       "  </thead>\n",
       "  <tbody>\n",
       "    <tr>\n",
       "      <th>0</th>\n",
       "      <td>2958082621</td>\n",
       "      <td>Live Here To Work</td>\n",
       "      <td>Live Here To Work</td>\n",
       "      <td>501385</td>\n",
       "      <td>282</td>\n",
       "      <td>True</td>\n",
       "      <td>1436111</td>\n",
       "    </tr>\n",
       "    <tr>\n",
       "      <th>1</th>\n",
       "      <td>18228848</td>\n",
       "      <td>Somethin' 'Bout A Truck</td>\n",
       "      <td>Up All Night</td>\n",
       "      <td>326243</td>\n",
       "      <td>213</td>\n",
       "      <td>False</td>\n",
       "      <td>1436111</td>\n",
       "    </tr>\n",
       "    <tr>\n",
       "      <th>2</th>\n",
       "      <td>3123161771</td>\n",
       "      <td>Bad Spot</td>\n",
       "      <td>Bad Spot</td>\n",
       "      <td>480370</td>\n",
       "      <td>198</td>\n",
       "      <td>False</td>\n",
       "      <td>1436111</td>\n",
       "    </tr>\n",
       "    <tr>\n",
       "      <th>3</th>\n",
       "      <td>18228855</td>\n",
       "      <td>Hey Pretty Girl</td>\n",
       "      <td>Up All Night</td>\n",
       "      <td>262652</td>\n",
       "      <td>215</td>\n",
       "      <td>False</td>\n",
       "      <td>1436111</td>\n",
       "    </tr>\n",
       "    <tr>\n",
       "      <th>4</th>\n",
       "      <td>401443652</td>\n",
       "      <td>Last Shot</td>\n",
       "      <td>SLOWHEART</td>\n",
       "      <td>314244</td>\n",
       "      <td>228</td>\n",
       "      <td>False</td>\n",
       "      <td>1436111</td>\n",
       "    </tr>\n",
       "    <tr>\n",
       "      <th>...</th>\n",
       "      <td>...</td>\n",
       "      <td>...</td>\n",
       "      <td>...</td>\n",
       "      <td>...</td>\n",
       "      <td>...</td>\n",
       "      <td>...</td>\n",
       "      <td>...</td>\n",
       "    </tr>\n",
       "    <tr>\n",
       "      <th>240</th>\n",
       "      <td>412843352</td>\n",
       "      <td>Super Bass</td>\n",
       "      <td>Pink Friday (Deluxe Edition)</td>\n",
       "      <td>712380</td>\n",
       "      <td>201</td>\n",
       "      <td>False</td>\n",
       "      <td>382937</td>\n",
       "    </tr>\n",
       "    <tr>\n",
       "      <th>241</th>\n",
       "      <td>28852751</td>\n",
       "      <td>Starships</td>\n",
       "      <td>Pink Friday ... Roman Reloaded (Deluxe)</td>\n",
       "      <td>937480</td>\n",
       "      <td>210</td>\n",
       "      <td>True</td>\n",
       "      <td>382937</td>\n",
       "    </tr>\n",
       "    <tr>\n",
       "      <th>242</th>\n",
       "      <td>81609384</td>\n",
       "      <td>Bang Bang</td>\n",
       "      <td>Bang Bang</td>\n",
       "      <td>800267</td>\n",
       "      <td>199</td>\n",
       "      <td>False</td>\n",
       "      <td>382937</td>\n",
       "    </tr>\n",
       "    <tr>\n",
       "      <th>243</th>\n",
       "      <td>796342592</td>\n",
       "      <td>Tusa</td>\n",
       "      <td>Tusa</td>\n",
       "      <td>888444</td>\n",
       "      <td>200</td>\n",
       "      <td>False</td>\n",
       "      <td>382937</td>\n",
       "    </tr>\n",
       "    <tr>\n",
       "      <th>244</th>\n",
       "      <td>91543350</td>\n",
       "      <td>Pills N Potions</td>\n",
       "      <td>The Pinkprint</td>\n",
       "      <td>571147</td>\n",
       "      <td>268</td>\n",
       "      <td>True</td>\n",
       "      <td>382937</td>\n",
       "    </tr>\n",
       "  </tbody>\n",
       "</table>\n",
       "<p>245 rows × 7 columns</p>\n",
       "</div>"
      ],
      "text/plain": [
       "       track_id                    title  \\\n",
       "0    2958082621        Live Here To Work   \n",
       "1      18228848  Somethin' 'Bout A Truck   \n",
       "2    3123161771                 Bad Spot   \n",
       "3      18228855          Hey Pretty Girl   \n",
       "4     401443652                Last Shot   \n",
       "..          ...                      ...   \n",
       "240   412843352               Super Bass   \n",
       "241    28852751                Starships   \n",
       "242    81609384                Bang Bang   \n",
       "243   796342592                     Tusa   \n",
       "244    91543350          Pills N Potions   \n",
       "\n",
       "                                  album_name    rank  duration  \\\n",
       "0                          Live Here To Work  501385       282   \n",
       "1                               Up All Night  326243       213   \n",
       "2                                   Bad Spot  480370       198   \n",
       "3                               Up All Night  262652       215   \n",
       "4                                  SLOWHEART  314244       228   \n",
       "..                                       ...     ...       ...   \n",
       "240             Pink Friday (Deluxe Edition)  712380       201   \n",
       "241  Pink Friday ... Roman Reloaded (Deluxe)  937480       210   \n",
       "242                                Bang Bang  800267       199   \n",
       "243                                     Tusa  888444       200   \n",
       "244                            The Pinkprint  571147       268   \n",
       "\n",
       "     explicit_lyrics  artist_id  \n",
       "0               True    1436111  \n",
       "1              False    1436111  \n",
       "2              False    1436111  \n",
       "3              False    1436111  \n",
       "4              False    1436111  \n",
       "..               ...        ...  \n",
       "240            False     382937  \n",
       "241             True     382937  \n",
       "242            False     382937  \n",
       "243            False     382937  \n",
       "244             True     382937  \n",
       "\n",
       "[245 rows x 7 columns]"
      ]
     },
     "execution_count": 10,
     "metadata": {},
     "output_type": "execute_result"
    }
   ],
   "source": [
    "# Function to fetch an artist's top tracks\n",
    "def fetch_artist_top_tracks(artist_ids):\n",
    "    endpoint = f\"/artist/{artist_ids}/top\"\n",
    "    data = fetch_data(endpoint)\n",
    "    tracks = []\n",
    "    if data and \"data\" in data:\n",
    "        for track in data[\"data\"]:\n",
    "            tracks.append({\n",
    "                \"track_id\": track[\"id\"],\n",
    "                \"title\": track[\"title\"],\n",
    "                \"album_name\": track[\"album\"][\"title\"] if \"album\" in track else \"N/A\",\n",
    "                \"rank\": track.get(\"rank\", \"N/A\"),\n",
    "                \"duration\": track.get(\"duration\", \"N/A\"),\n",
    "                \"explicit_lyrics\": track.get(\"explicit_lyrics\", \"N/A\")\n",
    "            })\n",
    "    return tracks\n",
    "\n",
    "# Fetch top tracks for all artists in the DataFrame\n",
    "all_top_tracks = []\n",
    "for _, artist in artist_df.iterrows():\n",
    "    print(f\"Fetching top tracks for artist: {artist['name']} (ID: {artist['artist_id']})...\")\n",
    "    top_tracks = fetch_artist_top_tracks(artist[\"artist_id\"])\n",
    "    for track in top_tracks:\n",
    "        track[\"artist_id\"] = artist[\"artist_id\"]\n",
    "    all_top_tracks.extend(top_tracks)\n",
    "\n",
    "\n",
    "top_tracks_df = pd.DataFrame(all_top_tracks)\n",
    "top_tracks_df"
   ]
  },
  {
   "cell_type": "code",
   "execution_count": 11,
   "metadata": {},
   "outputs": [
    {
     "data": {
      "text/html": [
       "<div>\n",
       "<style scoped>\n",
       "    .dataframe tbody tr th:only-of-type {\n",
       "        vertical-align: middle;\n",
       "    }\n",
       "\n",
       "    .dataframe tbody tr th {\n",
       "        vertical-align: top;\n",
       "    }\n",
       "\n",
       "    .dataframe thead th {\n",
       "        text-align: right;\n",
       "    }\n",
       "</style>\n",
       "<table border=\"1\" class=\"dataframe\">\n",
       "  <thead>\n",
       "    <tr style=\"text-align: right;\">\n",
       "      <th></th>\n",
       "      <th>Artist ID</th>\n",
       "      <th>Artist Name</th>\n",
       "      <th>Number of Fans</th>\n",
       "      <th>Number of Albums</th>\n",
       "      <th>Deezer Link</th>\n",
       "      <th>Fan to Album Ratio</th>\n",
       "    </tr>\n",
       "  </thead>\n",
       "  <tbody>\n",
       "    <tr>\n",
       "      <th>0</th>\n",
       "      <td>1436111</td>\n",
       "      <td>Kip Moore</td>\n",
       "      <td>40493</td>\n",
       "      <td>41</td>\n",
       "      <td>https://www.deezer.com/artist/1436111</td>\n",
       "      <td>987.634146</td>\n",
       "    </tr>\n",
       "    <tr>\n",
       "      <th>1</th>\n",
       "      <td>5286</td>\n",
       "      <td>Breaking Benjamin</td>\n",
       "      <td>666132</td>\n",
       "      <td>22</td>\n",
       "      <td>https://www.deezer.com/artist/5286</td>\n",
       "      <td>30278.727273</td>\n",
       "    </tr>\n",
       "    <tr>\n",
       "      <th>2</th>\n",
       "      <td>12033224</td>\n",
       "      <td>Dermot Kennedy</td>\n",
       "      <td>150597</td>\n",
       "      <td>45</td>\n",
       "      <td>https://www.deezer.com/artist/12033224</td>\n",
       "      <td>3346.600000</td>\n",
       "    </tr>\n",
       "    <tr>\n",
       "      <th>3</th>\n",
       "      <td>9700940</td>\n",
       "      <td>Bad Omens</td>\n",
       "      <td>91694</td>\n",
       "      <td>19</td>\n",
       "      <td>https://www.deezer.com/artist/9700940</td>\n",
       "      <td>4826.000000</td>\n",
       "    </tr>\n",
       "    <tr>\n",
       "      <th>4</th>\n",
       "      <td>7584298</td>\n",
       "      <td>Sultan + Shepard</td>\n",
       "      <td>28271</td>\n",
       "      <td>14</td>\n",
       "      <td>https://www.deezer.com/artist/7584298</td>\n",
       "      <td>2019.357143</td>\n",
       "    </tr>\n",
       "  </tbody>\n",
       "</table>\n",
       "</div>"
      ],
      "text/plain": [
       "   Artist ID        Artist Name  Number of Fans  Number of Albums  \\\n",
       "0    1436111          Kip Moore           40493                41   \n",
       "1       5286  Breaking Benjamin          666132                22   \n",
       "2   12033224     Dermot Kennedy          150597                45   \n",
       "3    9700940          Bad Omens           91694                19   \n",
       "4    7584298   Sultan + Shepard           28271                14   \n",
       "\n",
       "                              Deezer Link  Fan to Album Ratio  \n",
       "0   https://www.deezer.com/artist/1436111          987.634146  \n",
       "1      https://www.deezer.com/artist/5286        30278.727273  \n",
       "2  https://www.deezer.com/artist/12033224         3346.600000  \n",
       "3   https://www.deezer.com/artist/9700940         4826.000000  \n",
       "4   https://www.deezer.com/artist/7584298         2019.357143  "
      ]
     },
     "execution_count": 11,
     "metadata": {},
     "output_type": "execute_result"
    }
   ],
   "source": [
    "cleaned_artist_df = artist_df.rename(columns={\n",
    "        \"artist_id\": \"Artist ID\",\n",
    "        \"name\": \"Artist Name\",\n",
    "        \"nb_fan\": \"Number of Fans\",\n",
    "        \"nb_album\": \"Number of Albums\",\n",
    "        \"radio\": \"Radio Available\",\n",
    "        \"link\": \"Deezer Link\"\n",
    "    })\n",
    "cleaned_artist_df = cleaned_artist_df.drop(columns=[\"Radio Available\"])\n",
    "cleaned_artist_df[\"Fan to Album Ratio\"] = cleaned_artist_df[\"Number of Fans\"] / cleaned_artist_df[\"Number of Albums\"]\n",
    "cleaned_artist_df.head()"
   ]
  },
  {
   "cell_type": "code",
   "execution_count": 12,
   "metadata": {},
   "outputs": [
    {
     "data": {
      "text/html": [
       "<div>\n",
       "<style scoped>\n",
       "    .dataframe tbody tr th:only-of-type {\n",
       "        vertical-align: middle;\n",
       "    }\n",
       "\n",
       "    .dataframe tbody tr th {\n",
       "        vertical-align: top;\n",
       "    }\n",
       "\n",
       "    .dataframe thead th {\n",
       "        text-align: right;\n",
       "    }\n",
       "</style>\n",
       "<table border=\"1\" class=\"dataframe\">\n",
       "  <thead>\n",
       "    <tr style=\"text-align: right;\">\n",
       "      <th></th>\n",
       "      <th>Track ID</th>\n",
       "      <th>Track Title</th>\n",
       "      <th>Album Name</th>\n",
       "      <th>Popularity Rank</th>\n",
       "      <th>Duration (seconds)</th>\n",
       "      <th>Artist ID</th>\n",
       "      <th>Duration (min:sec)</th>\n",
       "    </tr>\n",
       "  </thead>\n",
       "  <tbody>\n",
       "    <tr>\n",
       "      <th>0</th>\n",
       "      <td>2958082621</td>\n",
       "      <td>Live Here To Work</td>\n",
       "      <td>Live Here To Work</td>\n",
       "      <td>501385</td>\n",
       "      <td>282</td>\n",
       "      <td>1436111</td>\n",
       "      <td>4:42</td>\n",
       "    </tr>\n",
       "    <tr>\n",
       "      <th>1</th>\n",
       "      <td>18228848</td>\n",
       "      <td>Somethin' 'Bout A Truck</td>\n",
       "      <td>Up All Night</td>\n",
       "      <td>326243</td>\n",
       "      <td>213</td>\n",
       "      <td>1436111</td>\n",
       "      <td>3:33</td>\n",
       "    </tr>\n",
       "    <tr>\n",
       "      <th>2</th>\n",
       "      <td>3123161771</td>\n",
       "      <td>Bad Spot</td>\n",
       "      <td>Bad Spot</td>\n",
       "      <td>480370</td>\n",
       "      <td>198</td>\n",
       "      <td>1436111</td>\n",
       "      <td>3:18</td>\n",
       "    </tr>\n",
       "    <tr>\n",
       "      <th>3</th>\n",
       "      <td>18228855</td>\n",
       "      <td>Hey Pretty Girl</td>\n",
       "      <td>Up All Night</td>\n",
       "      <td>262652</td>\n",
       "      <td>215</td>\n",
       "      <td>1436111</td>\n",
       "      <td>3:35</td>\n",
       "    </tr>\n",
       "    <tr>\n",
       "      <th>4</th>\n",
       "      <td>401443652</td>\n",
       "      <td>Last Shot</td>\n",
       "      <td>SLOWHEART</td>\n",
       "      <td>314244</td>\n",
       "      <td>228</td>\n",
       "      <td>1436111</td>\n",
       "      <td>3:48</td>\n",
       "    </tr>\n",
       "  </tbody>\n",
       "</table>\n",
       "</div>"
      ],
      "text/plain": [
       "     Track ID              Track Title         Album Name  Popularity Rank  \\\n",
       "0  2958082621        Live Here To Work  Live Here To Work           501385   \n",
       "1    18228848  Somethin' 'Bout A Truck       Up All Night           326243   \n",
       "2  3123161771                 Bad Spot           Bad Spot           480370   \n",
       "3    18228855          Hey Pretty Girl       Up All Night           262652   \n",
       "4   401443652                Last Shot          SLOWHEART           314244   \n",
       "\n",
       "   Duration (seconds)  Artist ID Duration (min:sec)  \n",
       "0                 282    1436111               4:42  \n",
       "1                 213    1436111               3:33  \n",
       "2                 198    1436111               3:18  \n",
       "3                 215    1436111               3:35  \n",
       "4                 228    1436111               3:48  "
      ]
     },
     "execution_count": 12,
     "metadata": {},
     "output_type": "execute_result"
    }
   ],
   "source": [
    "cleaned_track_df = top_tracks_df.rename(columns={\n",
    "        \"track_id\": \"Track ID\",\n",
    "        \"title\": \"Track Title\",\n",
    "        \"album_name\": \"Album Name\",\n",
    "        \"rank\": \"Popularity Rank\",\n",
    "        \"duration\": \"Duration (seconds)\",\n",
    "        \"explicit_lyrics\": \"Explicit Lyrics\",\n",
    "        \"artist_id\": \"Artist ID\" \n",
    "})\n",
    "cleaned_track_df[\"Duration (min:sec)\"] = cleaned_track_df[\"Duration (seconds)\"].apply(\n",
    "    lambda x: f\"{x // 60}:{x % 60:02}\"\n",
    ")\n",
    "cleaned_track_df = cleaned_track_df.drop(columns=[\"Explicit Lyrics\"], axis=1)\n",
    "cleaned_track_df.head()"
   ]
  },
  {
   "cell_type": "code",
   "execution_count": 13,
   "metadata": {},
   "outputs": [],
   "source": [
    "cleaned_artist_df.to_csv(\"cleaned_artist_data.csv\", index=False)\n",
    "cleaned_track_df.to_csv(\"cleaned_tracks_data.csv\", index=False)"
   ]
  },
  {
   "cell_type": "code",
   "execution_count": 14,
   "metadata": {},
   "outputs": [],
   "source": [
    "cleaned_track_df = pd.read_csv('cleaned_tracks_data.csv')"
   ]
  },
  {
   "cell_type": "code",
   "execution_count": 15,
   "metadata": {},
   "outputs": [],
   "source": [
    "if 'index' in cleaned_track_df.columns or 'level_0' in cleaned_track_df.columns:\n",
    "    cleaned_track_df.drop(columns=['index', 'level_0'], errors='ignore', inplace=True)"
   ]
  },
  {
   "cell_type": "code",
   "execution_count": 16,
   "metadata": {},
   "outputs": [],
   "source": [
    "cleaned_track_df.reset_index(inplace=True)\n",
    "cleaned_track_df.rename(columns={'index': 'entry_key'}, inplace=True)\n",
    "cleaned_track_df['entry_key'] += 1\n",
    "cleaned_track_df.to_csv('cleaned_tracks_data.csv', index=False)"
   ]
  },
  {
   "cell_type": "code",
   "execution_count": 17,
   "metadata": {},
   "outputs": [
    {
     "name": "stdout",
     "output_type": "stream",
     "text": [
      "<class 'pandas.core.frame.DataFrame'>\n",
      "RangeIndex: 245 entries, 0 to 244\n",
      "Data columns (total 8 columns):\n",
      " #   Column              Non-Null Count  Dtype \n",
      "---  ------              --------------  ----- \n",
      " 0   entry_key           245 non-null    int64 \n",
      " 1   Track ID            245 non-null    int64 \n",
      " 2   Track Title         245 non-null    object\n",
      " 3   Album Name          245 non-null    object\n",
      " 4   Popularity Rank     245 non-null    int64 \n",
      " 5   Duration (seconds)  245 non-null    int64 \n",
      " 6   Artist ID           245 non-null    int64 \n",
      " 7   Duration (min:sec)  245 non-null    object\n",
      "dtypes: int64(5), object(3)\n",
      "memory usage: 15.4+ KB\n"
     ]
    }
   ],
   "source": [
    "cleaned_track_df.info()"
   ]
  }
 ],
 "metadata": {
  "kernelspec": {
   "display_name": "my_env",
   "language": "python",
   "name": "python3"
  },
  "language_info": {
   "codemirror_mode": {
    "name": "ipython",
    "version": 3
   },
   "file_extension": ".py",
   "mimetype": "text/x-python",
   "name": "python",
   "nbconvert_exporter": "python",
   "pygments_lexer": "ipython3",
   "version": "3.10.15"
  }
 },
 "nbformat": 4,
 "nbformat_minor": 2
}
